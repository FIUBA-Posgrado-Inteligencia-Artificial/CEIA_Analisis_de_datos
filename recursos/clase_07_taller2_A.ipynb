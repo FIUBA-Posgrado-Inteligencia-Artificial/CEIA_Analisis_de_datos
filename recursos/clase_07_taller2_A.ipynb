{
 "cells": [
  {
   "cell_type": "markdown",
   "id": "3a4db9cd",
   "metadata": {},
   "source": [
    "## Análisis de datos - Clase 3\n",
    "---"
   ]
  },
  {
   "cell_type": "markdown",
   "id": "fbf4503e",
   "metadata": {},
   "source": [
    "## Taller práctico parte 2 - preparación completa de un dataset para entrenamiento de modelos de IA\n",
    "---\n"
   ]
  },
  {
   "cell_type": "markdown",
   "id": "9663c127",
   "metadata": {},
   "source": [
    "Vamos a realizar una actividad con un dataset con los datos del Servicio Meteorológico Nacional Argentino que utilizamos en el taller práctico 1.\n",
    "\n",
    "A modo de repaso, el dataset contiene estadísticas climáticas normales (período 1991-2020) y temperaturas máximas y mínimas registradas durante el último año (365 días).\n",
    "\n",
    "Fuente: https://www.smn.gob.ar/descarga-de-datos\n",
    "\n",
    "En esta segunda parte del taller, vamos a preparar el dataset para que pueda ser utilizado en el entrenamiento de modelos de IA para resolver un determinado problema de ML.\n"
   ]
  },
  {
   "cell_type": "markdown",
   "id": "f4c50cc6",
   "metadata": {},
   "source": [
    "Resumen de descubrimientos del taller 1:\n",
    "\n",
    "**Variables**:\n",
    "\n",
    "* estación, provincia, latitud, longitud, altitud, número y NroOACI (estos dos últimos identifican las estaciones)\n",
    "* mes\n",
    "* temperatura media, máxima y mínima\n",
    "* humedad relativa\n",
    "* velocidad del viento\n",
    "* nubosidad total (en meteorología, la nubosidad se mide en octas (0, despejado - 8 completamente cubierto), que representan la fracción del cielo cubierta por nubes)\n",
    "* precipitación\n",
    "* frecuencia de días con precipitación superior a 0,1 mm.\n",
    "\n",
    "**Dimensiones**: (1176, 16)\n",
    "\n",
    "**Tipos de datos**:\n",
    "* Variables numéricas:  'altura', 'LAT_decimal','LON_decimal', 'prec_sup_1mm', 'humedad', 'nubosidad', 'prec_mm', 'temp', 'temp_max', 'temp_min', 'viento'\n",
    "* Variables categóricas: 'estacion', 'provincia','numero', 'NroOACI', 'mes_txt'\n",
    "\n",
    "**Generales**:\n",
    "* No hay variables ordinales.\n",
    "* Hay 98 observaciones (filas) para cada mes del año.\n",
    "* Hay más estaciones en la provincia de Buenos Aires que en cualquier otra provincia.\n",
    "\n",
    "**Datos faltantes (resumen)**:\n",
    "| Variable       | Nro Faltantes | % Faltantes | Causa | Comentarios |\n",
    "|----------------|---------------|-------------|-------|-------------|\n",
    "| viento         | 468           | 39.80%      | Inconcluso  | En este caso podemos considerarla MAR para el ejercicio, pero requiere investigación. Potencialmente no es un faltante sino que ciertas estaciones (94) no miden viento, o no lo reportan. |\n",
    "| prec_sup_1mm   | 115           | 9.78%       | MAR   | prec_mm y prec_sum_1mm se mueven juntas.Asumimos MAR, pero requiere investigación. Solo falta para las bases de la Antártida y Santa Cruz.                |\n",
    "| prec_mm        | 115           | 9.78%       | MAR   | prec_mm y prec_sum_1mm se mueven juntas. Asumimos MAR, pero requiere investigación. Solo falta para las bases de la Antártida y Santa Cruz |\n",
    "| humedad        | 66            | 5.61%       | MAR   | Parecen estar asociados a ciertas estaciones y a cierta época del año.|\n",
    "| temp_min       | 52            | 4.42%       | MAR   |Parecen ocurrir solo en ciertas estaciones meteorológicas |\n",
    "| NroOACI        | 36            | 3.06%       | No son faltantes  | Corresponden a 3 estaciones sin OACI asignado|\n",
    "| provincia      | 24            | 2.04%       | N/A  |Se pueden completar (se tiene el nombre de la estación meteorológica) |\n",
    "| altura         | 24            | 2.04%       | N/A |Se pueden completar (se tiene el nombre de la estación meteorológica) |\n",
    "| numero         | 24            | 2.04%       | N/A |Se pueden completar (se tiene el nombre de la estación meteorológica) |\n",
    "| LAT_decimal    | 24            | 2.04%       | N/A |Se pueden completar (se tiene el nombre de la estación meteorológica) |\n",
    "| LON_decimal    | 24            | 2.04%       | N/A |Se pueden completar (se tiene el nombre de la estación meteorológica) |\n",
    "| temp_max       | 18            | 1.53%       | MAR  |Asociados a ciertas estaciones meteorológicas|\n",
    "| nubosidad      | 10            | 0.85%       | MAR  |Asociados a ciertas estaciones meteorológicas y meses del año|\n",
    "| temp           | 9             | 0.77%       | MAR  |Asociados a ciertas estaciones meteorológicas y meses del año|\n",
    "\n",
    "**Outliers**:\n",
    "\n",
    "1) Estaciones meteorológicas\n",
    "\n",
    "- Los valores atípicos en altura no son errores. Corresponden a estaciones meteorológicas localizadas en zonas de cordillera o precordillera.\n",
    "- Los valores de latitud y longitud extremadamente alejadas del resto también se consideran datos válidos ya que corresponden a estaciones de la Antártida.\n",
    "\n",
    "2) Temperaturas\n",
    "\n",
    "- Las temperaturas extremas negativas corresponden a estaciones meteorológicas antárticas, por lo que consideran válidas.\n",
    "\n",
    "3) Nubosidad\n",
    "\n",
    "- La variable nubosidad muestra valores atípicos mayores a 5,5. Estos números representan un cielo que en promedio está mayormente nublado a completamente cubierto. Se observa para estaciones de la Antártida, lo que hace pensar que en este caso también son valores correctos.\n",
    "\n",
    "4) Otras variables\n",
    "\n",
    "- La cantidad de valores atípicos es despreciable.\n",
    "\n",
    "En general en todo el set de datos, los valores atípicos se presentan principalmente en las bases antárticas y en todos los casos se puede concluir que son valores legítimos.\n"
   ]
  },
  {
   "cell_type": "code",
   "execution_count": 1,
   "id": "349e04e5",
   "metadata": {},
   "outputs": [],
   "source": [
    "import pandas as pd\n",
    "import numpy as np\n",
    "from datetime import timedelta\n",
    "import missingno as msno\n",
    "import matplotlib.pyplot as plt\n",
    "import seaborn as sns\n",
    "from scipy.stats import entropy\n",
    "from sklearn.model_selection import train_test_split\n",
    "from statsmodels.imputation import mice\n",
    "from sklearn.preprocessing import MinMaxScaler, StandardScaler\n",
    "from sklearn.feature_selection import SelectKBest,SelectFpr, chi2, f_classif, mutual_info_regression\n",
    "from sklearn.decomposition import PCA\n",
    "from sklearn.experimental import enable_iterative_imputer\n",
    "from sklearn.impute import IterativeImputer"
   ]
  },
  {
   "cell_type": "markdown",
   "id": "026d86bb",
   "metadata": {},
   "source": [
    "---\n",
    "### 1. Importar los datos\n",
    "---"
   ]
  },
  {
   "cell_type": "code",
   "execution_count": 2,
   "id": "72df5e98",
   "metadata": {},
   "outputs": [],
   "source": [
    "smn_historico = pd.read_csv('../datasets/smn/smn_historico.csv', na_values=['S/D'])"
   ]
  },
  {
   "cell_type": "code",
   "execution_count": 3,
   "id": "912d7596",
   "metadata": {},
   "outputs": [
    {
     "data": {
      "text/plain": [
       "(1176, 16)"
      ]
     },
     "execution_count": 3,
     "metadata": {},
     "output_type": "execute_result"
    }
   ],
   "source": [
    "smn_historico.shape"
   ]
  },
  {
   "cell_type": "code",
   "execution_count": 4,
   "id": "fb2a0422",
   "metadata": {},
   "outputs": [
    {
     "data": {
      "text/html": [
       "<div>\n",
       "<style scoped>\n",
       "    .dataframe tbody tr th:only-of-type {\n",
       "        vertical-align: middle;\n",
       "    }\n",
       "\n",
       "    .dataframe tbody tr th {\n",
       "        vertical-align: top;\n",
       "    }\n",
       "\n",
       "    .dataframe thead th {\n",
       "        text-align: right;\n",
       "    }\n",
       "</style>\n",
       "<table border=\"1\" class=\"dataframe\">\n",
       "  <thead>\n",
       "    <tr style=\"text-align: right;\">\n",
       "      <th></th>\n",
       "      <th>estacion</th>\n",
       "      <th>provincia</th>\n",
       "      <th>altura</th>\n",
       "      <th>numero</th>\n",
       "      <th>NroOACI</th>\n",
       "      <th>LAT_decimal</th>\n",
       "      <th>LON_decimal</th>\n",
       "      <th>mes_txt</th>\n",
       "      <th>prec_sup_1mm</th>\n",
       "      <th>humedad</th>\n",
       "      <th>nubosidad</th>\n",
       "      <th>prec_mm</th>\n",
       "      <th>temp</th>\n",
       "      <th>temp_max</th>\n",
       "      <th>temp_min</th>\n",
       "      <th>viento</th>\n",
       "    </tr>\n",
       "  </thead>\n",
       "  <tbody>\n",
       "    <tr>\n",
       "      <th>0</th>\n",
       "      <td>AEROPARQUE AERO</td>\n",
       "      <td>CAPITAL FEDERAL</td>\n",
       "      <td>6.0</td>\n",
       "      <td>87582.0</td>\n",
       "      <td>SABE</td>\n",
       "      <td>-34.55</td>\n",
       "      <td>-58.416667</td>\n",
       "      <td>Ene</td>\n",
       "      <td>6.7</td>\n",
       "      <td>67.0</td>\n",
       "      <td>3.1</td>\n",
       "      <td>117.5</td>\n",
       "      <td>24.5</td>\n",
       "      <td>28.4</td>\n",
       "      <td>20.8</td>\n",
       "      <td>16.8</td>\n",
       "    </tr>\n",
       "    <tr>\n",
       "      <th>1</th>\n",
       "      <td>AEROPARQUE AERO</td>\n",
       "      <td>CAPITAL FEDERAL</td>\n",
       "      <td>6.0</td>\n",
       "      <td>87582.0</td>\n",
       "      <td>SABE</td>\n",
       "      <td>-34.55</td>\n",
       "      <td>-58.416667</td>\n",
       "      <td>Feb</td>\n",
       "      <td>6.0</td>\n",
       "      <td>69.8</td>\n",
       "      <td>3.2</td>\n",
       "      <td>112.3</td>\n",
       "      <td>23.7</td>\n",
       "      <td>27.3</td>\n",
       "      <td>20.2</td>\n",
       "      <td>15.8</td>\n",
       "    </tr>\n",
       "    <tr>\n",
       "      <th>2</th>\n",
       "      <td>AEROPARQUE AERO</td>\n",
       "      <td>CAPITAL FEDERAL</td>\n",
       "      <td>6.0</td>\n",
       "      <td>87582.0</td>\n",
       "      <td>SABE</td>\n",
       "      <td>-34.55</td>\n",
       "      <td>-58.416667</td>\n",
       "      <td>Mar</td>\n",
       "      <td>5.9</td>\n",
       "      <td>71.3</td>\n",
       "      <td>3.1</td>\n",
       "      <td>111.8</td>\n",
       "      <td>22.0</td>\n",
       "      <td>25.5</td>\n",
       "      <td>18.8</td>\n",
       "      <td>14.9</td>\n",
       "    </tr>\n",
       "    <tr>\n",
       "      <th>3</th>\n",
       "      <td>AEROPARQUE AERO</td>\n",
       "      <td>CAPITAL FEDERAL</td>\n",
       "      <td>6.0</td>\n",
       "      <td>87582.0</td>\n",
       "      <td>SABE</td>\n",
       "      <td>-34.55</td>\n",
       "      <td>-58.416667</td>\n",
       "      <td>Abr</td>\n",
       "      <td>6.6</td>\n",
       "      <td>73.6</td>\n",
       "      <td>3.5</td>\n",
       "      <td>108.3</td>\n",
       "      <td>18.5</td>\n",
       "      <td>22.0</td>\n",
       "      <td>15.3</td>\n",
       "      <td>13.9</td>\n",
       "    </tr>\n",
       "    <tr>\n",
       "      <th>4</th>\n",
       "      <td>AEROPARQUE AERO</td>\n",
       "      <td>CAPITAL FEDERAL</td>\n",
       "      <td>6.0</td>\n",
       "      <td>87582.0</td>\n",
       "      <td>SABE</td>\n",
       "      <td>-34.55</td>\n",
       "      <td>-58.416667</td>\n",
       "      <td>May</td>\n",
       "      <td>5.0</td>\n",
       "      <td>76.4</td>\n",
       "      <td>4.0</td>\n",
       "      <td>83.3</td>\n",
       "      <td>15.2</td>\n",
       "      <td>18.4</td>\n",
       "      <td>12.3</td>\n",
       "      <td>12.9</td>\n",
       "    </tr>\n",
       "  </tbody>\n",
       "</table>\n",
       "</div>"
      ],
      "text/plain": [
       "          estacion        provincia  altura   numero NroOACI  LAT_decimal  \\\n",
       "0  AEROPARQUE AERO  CAPITAL FEDERAL     6.0  87582.0    SABE       -34.55   \n",
       "1  AEROPARQUE AERO  CAPITAL FEDERAL     6.0  87582.0    SABE       -34.55   \n",
       "2  AEROPARQUE AERO  CAPITAL FEDERAL     6.0  87582.0    SABE       -34.55   \n",
       "3  AEROPARQUE AERO  CAPITAL FEDERAL     6.0  87582.0    SABE       -34.55   \n",
       "4  AEROPARQUE AERO  CAPITAL FEDERAL     6.0  87582.0    SABE       -34.55   \n",
       "\n",
       "   LON_decimal mes_txt  prec_sup_1mm  humedad  nubosidad  prec_mm  temp  \\\n",
       "0   -58.416667     Ene           6.7     67.0        3.1    117.5  24.5   \n",
       "1   -58.416667     Feb           6.0     69.8        3.2    112.3  23.7   \n",
       "2   -58.416667     Mar           5.9     71.3        3.1    111.8  22.0   \n",
       "3   -58.416667     Abr           6.6     73.6        3.5    108.3  18.5   \n",
       "4   -58.416667     May           5.0     76.4        4.0     83.3  15.2   \n",
       "\n",
       "   temp_max  temp_min  viento  \n",
       "0      28.4      20.8    16.8  \n",
       "1      27.3      20.2    15.8  \n",
       "2      25.5      18.8    14.9  \n",
       "3      22.0      15.3    13.9  \n",
       "4      18.4      12.3    12.9  "
      ]
     },
     "execution_count": 4,
     "metadata": {},
     "output_type": "execute_result"
    }
   ],
   "source": [
    "# Visualizar primeras filas\n",
    "smn_historico.head()"
   ]
  },
  {
   "cell_type": "markdown",
   "id": "44b1376a",
   "metadata": {},
   "source": [
    "---\n",
    "### 2. EDA y exploración: ver notebook del taller práctico 1 y resumen en la parte superior de esta notebook\n",
    "---"
   ]
  },
  {
   "cell_type": "code",
   "execution_count": 5,
   "id": "d1b51085",
   "metadata": {},
   "outputs": [],
   "source": [
    "# Completamos datos faltantes que se podían sacar de Internet (https://heladas.agro.uba.ar/estaciones.htm)\n",
    "smn_historico.loc[smn_historico['estacion'] == 'EL TREBOL', 'provincia'] = 'SANTA FE'\n",
    "smn_historico.loc[smn_historico['estacion'] == 'EL TREBOL', 'LAT_decimal'] = -32.202\n",
    "smn_historico.loc[smn_historico['estacion'] == 'EL TREBOL', 'LON_decimal'] = -61.7\n",
    "smn_historico.loc[smn_historico['estacion'] == 'EL TREBOL', 'altura'] = 96\n",
    "smn_historico.loc[smn_historico['estacion'] == 'CORONEL PRINGLES AERO', 'provincia'] = 'BUENOS AIRES'\n",
    "smn_historico.loc[smn_historico['estacion'] == 'CORONEL PRINGLES AERO', 'LAT_decimal'] = -38.02\n",
    "smn_historico.loc[smn_historico['estacion'] == 'CORONEL PRINGLES AERO', 'LON_decimal'] = -61.33\n",
    "smn_historico.loc[smn_historico['estacion'] == 'CORONEL PRINGLES AERO', 'altura'] = 247\n"
   ]
  },
  {
   "cell_type": "code",
   "execution_count": 6,
   "id": "d79453d7",
   "metadata": {},
   "outputs": [],
   "source": [
    "# Función auxiliar para calcular faltantes\n",
    "def calcular_faltantes(df):\n",
    "    faltantes = df.isna().sum()\n",
    "\n",
    "    # Calculamos porcentaje de valores faltantes\n",
    "    total_filas = df.shape[0]\n",
    "    faltantes_df = faltantes.to_frame(name='faltantes')\n",
    "    faltantes_df['porcentaje'] = ((faltantes_df['faltantes'] / total_filas) * 100).round(2)\n",
    "    faltantes_df = faltantes_df.sort_values(by='faltantes', ascending=False)\n",
    "\n",
    "    # Mostramos solo las que tienen valores faltantes\n",
    "    return faltantes_df[faltantes_df['faltantes'] > 0]"
   ]
  },
  {
   "cell_type": "code",
   "execution_count": 7,
   "id": "856f4330",
   "metadata": {},
   "outputs": [
    {
     "name": "stdout",
     "output_type": "stream",
     "text": [
      "Faltantes en smn_historico:\n"
     ]
    },
    {
     "data": {
      "text/html": [
       "<div>\n",
       "<style scoped>\n",
       "    .dataframe tbody tr th:only-of-type {\n",
       "        vertical-align: middle;\n",
       "    }\n",
       "\n",
       "    .dataframe tbody tr th {\n",
       "        vertical-align: top;\n",
       "    }\n",
       "\n",
       "    .dataframe thead th {\n",
       "        text-align: right;\n",
       "    }\n",
       "</style>\n",
       "<table border=\"1\" class=\"dataframe\">\n",
       "  <thead>\n",
       "    <tr style=\"text-align: right;\">\n",
       "      <th></th>\n",
       "      <th>faltantes</th>\n",
       "      <th>porcentaje</th>\n",
       "    </tr>\n",
       "  </thead>\n",
       "  <tbody>\n",
       "    <tr>\n",
       "      <th>viento</th>\n",
       "      <td>468</td>\n",
       "      <td>39.80</td>\n",
       "    </tr>\n",
       "    <tr>\n",
       "      <th>prec_sup_1mm</th>\n",
       "      <td>115</td>\n",
       "      <td>9.78</td>\n",
       "    </tr>\n",
       "    <tr>\n",
       "      <th>prec_mm</th>\n",
       "      <td>115</td>\n",
       "      <td>9.78</td>\n",
       "    </tr>\n",
       "    <tr>\n",
       "      <th>humedad</th>\n",
       "      <td>66</td>\n",
       "      <td>5.61</td>\n",
       "    </tr>\n",
       "    <tr>\n",
       "      <th>temp_min</th>\n",
       "      <td>52</td>\n",
       "      <td>4.42</td>\n",
       "    </tr>\n",
       "    <tr>\n",
       "      <th>NroOACI</th>\n",
       "      <td>36</td>\n",
       "      <td>3.06</td>\n",
       "    </tr>\n",
       "    <tr>\n",
       "      <th>numero</th>\n",
       "      <td>24</td>\n",
       "      <td>2.04</td>\n",
       "    </tr>\n",
       "    <tr>\n",
       "      <th>temp_max</th>\n",
       "      <td>18</td>\n",
       "      <td>1.53</td>\n",
       "    </tr>\n",
       "    <tr>\n",
       "      <th>nubosidad</th>\n",
       "      <td>10</td>\n",
       "      <td>0.85</td>\n",
       "    </tr>\n",
       "    <tr>\n",
       "      <th>temp</th>\n",
       "      <td>9</td>\n",
       "      <td>0.77</td>\n",
       "    </tr>\n",
       "  </tbody>\n",
       "</table>\n",
       "</div>"
      ],
      "text/plain": [
       "              faltantes  porcentaje\n",
       "viento              468       39.80\n",
       "prec_sup_1mm        115        9.78\n",
       "prec_mm             115        9.78\n",
       "humedad              66        5.61\n",
       "temp_min             52        4.42\n",
       "NroOACI              36        3.06\n",
       "numero               24        2.04\n",
       "temp_max             18        1.53\n",
       "nubosidad            10        0.85\n",
       "temp                  9        0.77"
      ]
     },
     "execution_count": 7,
     "metadata": {},
     "output_type": "execute_result"
    }
   ],
   "source": [
    "print(\"Faltantes en smn_historico:\")\n",
    "calcular_faltantes(smn_historico)"
   ]
  },
  {
   "cell_type": "markdown",
   "id": "98f33af2",
   "metadata": {},
   "source": [
    "---\n",
    "#### 3. Problema de ML propuesto: \n",
    "\n",
    "#### Predecir la temperatura promedio mensual (problema de regresión), dada una determinada Latitud, Longitud, altura y otros datos climáticos.\n",
    "---"
   ]
  },
  {
   "cell_type": "markdown",
   "id": "803bae27",
   "metadata": {},
   "source": [
    "---\n",
    "### 4. Split del dataset\n",
    "---\n",
    "Consideraciones al hacer el split:\n",
    "* No puedo hacer un split aleatorio ya que potencialmente podría poner datos de la misma estación meteorológica en ambos conjuntos.\n",
    "* Necesito poner toda la información de una estación en uno de los conjuntos (o train o test).\n",
    "* Necesito asegurarme que tengo una distribución espacial variada en ambos sets. Por ejemplo, no debería tener todos los datos de la Patagonia solo en test (tengo que tener una representación variada de las regiones geográficas en ambos sets).\n",
    "* Una solución, por ejemplo, es hacer un split stratificado por provincia."
   ]
  },
  {
   "cell_type": "code",
   "execution_count": 8,
   "id": "0137118d",
   "metadata": {},
   "outputs": [
    {
     "data": {
      "text/plain": [
       "provincia\n",
       "BUENOS AIRES       21\n",
       "CORDOBA             8\n",
       "ANTARTIDA           6\n",
       "SANTA FE            6\n",
       "SANTA CRUZ          6\n",
       "RIO NEGRO           5\n",
       "MENDOZA             5\n",
       "MISIONES            4\n",
       "JUJUY               3\n",
       "SALTA               3\n",
       "LA RIOJA            3\n",
       "ENTRE RIOS          3\n",
       "CORRIENTES          3\n",
       "CHUBUT              3\n",
       "LA PAMPA            2\n",
       "FORMOSA             2\n",
       "CHACO               2\n",
       "SAN JUAN            2\n",
       "SAN LUIS            2\n",
       "CATAMARCA           2\n",
       "CAPITAL FEDERAL     2\n",
       "TIERRA DEL FUEG     2\n",
       "NEUQUEN             1\n",
       "SANTIAGO DEL ES     1\n",
       "TUCUMAN             1\n",
       "Name: estacion, dtype: int64"
      ]
     },
     "execution_count": 8,
     "metadata": {},
     "output_type": "execute_result"
    }
   ],
   "source": [
    "# Cuántas estaciones por provincia hay?\n",
    "smn_historico.groupby('provincia')['estacion'].nunique().sort_values(ascending=False)"
   ]
  },
  {
   "cell_type": "markdown",
   "id": "60d18037",
   "metadata": {},
   "source": [
    "#### Split stratificado con sklearn\n",
    "Paso intermedio: armo un mini-dataframe de estaciones con su provincia."
   ]
  },
  {
   "cell_type": "code",
   "execution_count": 9,
   "id": "26767979",
   "metadata": {},
   "outputs": [
    {
     "name": "stdout",
     "output_type": "stream",
     "text": [
      "Train: 69 estaciones\n",
      "Test: 29 estaciones\n"
     ]
    }
   ],
   "source": [
    "# Armo una lista de estaciones únicas por provincia\n",
    "estacion_provincia = smn_historico[['estacion', 'provincia']].drop_duplicates()\n",
    "\n",
    "# Cuento las estaciones en cada provincia\n",
    "provincia_counts = estacion_provincia.groupby('provincia').size()\n",
    "\n",
    "# Identifico y separo las provincias con menos de 1 estación\n",
    "# Para usar el método stratfy de abajo debo tener al menos 2 estaciones por provincia\n",
    "provincis_multi_estacion = provincia_counts[provincia_counts > 1].index\n",
    "provincias_unica_estacion = provincia_counts[provincia_counts == 1].index\n",
    "\n",
    "# Split solo de las provincias con más de 1 estación\n",
    "multi_estacion = estacion_provincia[estacion_provincia['provincia'].isin(provincis_multi_estacion)]\n",
    "estaciones_train, estaciones_test = train_test_split(\n",
    "    multi_estacion, \n",
    "    test_size=0.30, \n",
    "    stratify=multi_estacion['provincia'],\n",
    "    random_state=42\n",
    ")\n",
    "\n",
    "# Las provincias de una sola estación las agrego a train\n",
    "unica_estacion = estacion_provincia[estacion_provincia['provincia'].isin(provincias_unica_estacion)]\n",
    "estaciones_train = pd.concat([estaciones_train, unica_estacion], ignore_index=True)\n",
    "\n",
    "print(f\"Train: {len(estaciones_train)} estaciones\")\n",
    "print(f\"Test: {len(estaciones_test)} estaciones\")\n"
   ]
  },
  {
   "cell_type": "code",
   "execution_count": 10,
   "id": "430b0a91",
   "metadata": {},
   "outputs": [
    {
     "name": "stdout",
     "output_type": "stream",
     "text": [
      "\n",
      "Provincias en Train:\n",
      "provincia\n",
      "BUENOS AIRES       15\n",
      "CORDOBA             6\n",
      "ANTARTIDA           4\n",
      "RIO NEGRO           4\n",
      "SANTA CRUZ          4\n",
      "MENDOZA             4\n",
      "SANTA FE            4\n",
      "MISIONES            3\n",
      "CHUBUT              2\n",
      "LA RIOJA            2\n",
      "ENTRE RIOS          2\n",
      "JUJUY               2\n",
      "TIERRA DEL FUEG     2\n",
      "CATAMARCA           2\n",
      "SALTA               2\n",
      "CORRIENTES          2\n",
      "SAN JUAN            1\n",
      "LA PAMPA            1\n",
      "CAPITAL FEDERAL     1\n",
      "SAN LUIS            1\n",
      "CHACO               1\n",
      "FORMOSA             1\n",
      "NEUQUEN             1\n",
      "SANTIAGO DEL ES     1\n",
      "TUCUMAN             1\n",
      "Name: count, dtype: int64\n"
     ]
    }
   ],
   "source": [
    "print(f\"\\nProvincias en Train:\\n{estaciones_train['provincia'].value_counts()}\")"
   ]
  },
  {
   "cell_type": "code",
   "execution_count": 11,
   "id": "1ef2fdcd",
   "metadata": {},
   "outputs": [
    {
     "name": "stdout",
     "output_type": "stream",
     "text": [
      "\n",
      "Provincias en Test:\n",
      "provincia\n",
      "BUENOS AIRES       6\n",
      "SANTA CRUZ         2\n",
      "ANTARTIDA          2\n",
      "SANTA FE           2\n",
      "CORDOBA            2\n",
      "LA PAMPA           1\n",
      "CORRIENTES         1\n",
      "CAPITAL FEDERAL    1\n",
      "ENTRE RIOS         1\n",
      "MISIONES           1\n",
      "CHACO              1\n",
      "SAN LUIS           1\n",
      "FORMOSA            1\n",
      "MENDOZA            1\n",
      "JUJUY              1\n",
      "CHUBUT             1\n",
      "SAN JUAN           1\n",
      "LA RIOJA           1\n",
      "RIO NEGRO          1\n",
      "SALTA              1\n",
      "Name: count, dtype: int64\n"
     ]
    }
   ],
   "source": [
    "print(f\"\\nProvincias en Test:\\n{estaciones_test['provincia'].value_counts()}\")"
   ]
  },
  {
   "cell_type": "markdown",
   "id": "5de64eea",
   "metadata": {},
   "source": [
    "Ahora separo en dos conjuntos en base al split stratificado que hice antes:"
   ]
  },
  {
   "cell_type": "code",
   "execution_count": 12,
   "id": "f544db0e",
   "metadata": {},
   "outputs": [
    {
     "name": "stdout",
     "output_type": "stream",
     "text": [
      "Dataset de Train: 828 filas, 69 estaciones\n",
      "Dataset de Test: 348 filas, 29 estaciones\n",
      "\n",
      "Verificación: No se encontró superposición de estaciones entre train y test\n"
     ]
    }
   ],
   "source": [
    "# Obtengo una lista de estaciones en cada set\n",
    "train_lista_estaciones = estaciones_train['estacion'].tolist()\n",
    "test_lista_estaciones = estaciones_test['estacion'].tolist()\n",
    "\n",
    "# Split del dataset original\n",
    "df_train = smn_historico[smn_historico['estacion'].isin(train_lista_estaciones)]\n",
    "df_test = smn_historico[smn_historico['estacion'].isin(test_lista_estaciones)]\n",
    "\n",
    "print(f\"Dataset de Train: {df_train.shape[0]} filas, {df_train['estacion'].nunique()} estaciones\")\n",
    "print(f\"Dataset de Test: {df_test.shape[0]} filas, {df_test['estacion'].nunique()} estaciones\")\n",
    "\n",
    "# Verifco que el split quedó bien y no hay superposición\n",
    "assert len(set(train_lista_estaciones) & set(test_lista_estaciones)) == 0, \"Ojo, hay superposición de estaciones entre train y test\"\n",
    "print(\"\\nVerificación: No se encontró superposición de estaciones entre train y test\")\n"
   ]
  },
  {
   "cell_type": "markdown",
   "id": "026f0967",
   "metadata": {},
   "source": [
    "Por último, estoy en condiciones de armar X_train, X_test, y_train, y_test:"
   ]
  },
  {
   "cell_type": "code",
   "execution_count": 13,
   "id": "67ccb5c6",
   "metadata": {},
   "outputs": [
    {
     "name": "stdout",
     "output_type": "stream",
     "text": [
      "X_train shape: (821, 11)\n",
      "y_train shape: (821,)\n",
      "X_test shape: (346, 11)\n",
      "y_test shape: (346,)\n"
     ]
    }
   ],
   "source": [
    "# Finalmente, armamos los datasets definitivos.\n",
    "\n",
    "# Antes que nada remuevo las filas con nulos en la variable target:\n",
    "df_train = df_train[df_train['temp'].notna()]\n",
    "df_test = df_test[df_test['temp'].notna()]\n",
    "\n",
    "\n",
    "# Definimos los features y el target.\n",
    "# Para los features, remuevo todos los datos asociados a estación meteorológica (3 features). \n",
    "# Además, remuevo la provincia, ya que tengo Lat y Long.  \n",
    "\n",
    "features = ['LAT_decimal', 'LON_decimal', 'altura', 'mes_txt', \n",
    "                'prec_sup_1mm', 'humedad', 'nubosidad', 'prec_mm', \n",
    "                'temp_max', 'temp_min', 'viento']\n",
    "\n",
    "# Defino para usarlos más adelante:\n",
    "var_numericas = ['LAT_decimal', 'LON_decimal', 'altura', \n",
    "                'prec_sup_1mm', 'humedad', 'nubosidad', 'prec_mm', \n",
    "                'temp_max', 'temp_min', 'viento']\n",
    "\n",
    "categoricas_baja_card = ['mes_txt']\n",
    "\n",
    "target = 'temp'\n",
    "\n",
    "# Datos de train\n",
    "X_train = df_train[features].copy()\n",
    "y_train = df_train[target].copy()\n",
    "\n",
    "# Datos de test\n",
    "X_test = df_test[features].copy()\n",
    "y_test = df_test[target].copy()\n",
    "\n",
    "print(f\"X_train shape: {X_train.shape}\")\n",
    "print(f\"y_train shape: {y_train.shape}\")\n",
    "print(f\"X_test shape: {X_test.shape}\")\n",
    "print(f\"y_test shape: {y_test.shape}\")\n"
   ]
  },
  {
   "cell_type": "markdown",
   "id": "661f74d2",
   "metadata": {},
   "source": [
    "---\n",
    "### Tratamiento de datos faltantes\n",
    "---"
   ]
  },
  {
   "cell_type": "code",
   "execution_count": 14,
   "id": "8723a237",
   "metadata": {},
   "outputs": [
    {
     "name": "stdout",
     "output_type": "stream",
     "text": [
      "\n",
      "Valores faltantes en y_train: 0\n",
      "Valores in y_test: 0\n"
     ]
    }
   ],
   "source": [
    "# Verifico que no hay faltantes en la variable for missing values in target\n",
    "print(f\"\\nValores faltantes en y_train: {y_train.isna().sum()}\")\n",
    "print(f\"Valores in y_test: {y_test.isna().sum()}\")"
   ]
  },
  {
   "cell_type": "code",
   "execution_count": 15,
   "id": "66853b1a",
   "metadata": {},
   "outputs": [
    {
     "name": "stdout",
     "output_type": "stream",
     "text": [
      "Faltantes en X_train:\n"
     ]
    },
    {
     "data": {
      "text/html": [
       "<div>\n",
       "<style scoped>\n",
       "    .dataframe tbody tr th:only-of-type {\n",
       "        vertical-align: middle;\n",
       "    }\n",
       "\n",
       "    .dataframe tbody tr th {\n",
       "        vertical-align: top;\n",
       "    }\n",
       "\n",
       "    .dataframe thead th {\n",
       "        text-align: right;\n",
       "    }\n",
       "</style>\n",
       "<table border=\"1\" class=\"dataframe\">\n",
       "  <thead>\n",
       "    <tr style=\"text-align: right;\">\n",
       "      <th></th>\n",
       "      <th>faltantes</th>\n",
       "      <th>porcentaje</th>\n",
       "    </tr>\n",
       "  </thead>\n",
       "  <tbody>\n",
       "    <tr>\n",
       "      <th>viento</th>\n",
       "      <td>329</td>\n",
       "      <td>40.07</td>\n",
       "    </tr>\n",
       "    <tr>\n",
       "      <th>prec_sup_1mm</th>\n",
       "      <td>68</td>\n",
       "      <td>8.28</td>\n",
       "    </tr>\n",
       "    <tr>\n",
       "      <th>prec_mm</th>\n",
       "      <td>68</td>\n",
       "      <td>8.28</td>\n",
       "    </tr>\n",
       "    <tr>\n",
       "      <th>humedad</th>\n",
       "      <td>38</td>\n",
       "      <td>4.63</td>\n",
       "    </tr>\n",
       "    <tr>\n",
       "      <th>temp_min</th>\n",
       "      <td>35</td>\n",
       "      <td>4.26</td>\n",
       "    </tr>\n",
       "    <tr>\n",
       "      <th>temp_max</th>\n",
       "      <td>13</td>\n",
       "      <td>1.58</td>\n",
       "    </tr>\n",
       "    <tr>\n",
       "      <th>nubosidad</th>\n",
       "      <td>1</td>\n",
       "      <td>0.12</td>\n",
       "    </tr>\n",
       "  </tbody>\n",
       "</table>\n",
       "</div>"
      ],
      "text/plain": [
       "              faltantes  porcentaje\n",
       "viento              329       40.07\n",
       "prec_sup_1mm         68        8.28\n",
       "prec_mm              68        8.28\n",
       "humedad              38        4.63\n",
       "temp_min             35        4.26\n",
       "temp_max             13        1.58\n",
       "nubosidad             1        0.12"
      ]
     },
     "execution_count": 15,
     "metadata": {},
     "output_type": "execute_result"
    }
   ],
   "source": [
    "print(\"Faltantes en X_train:\")\n",
    "calcular_faltantes(X_train)"
   ]
  },
  {
   "cell_type": "code",
   "execution_count": 16,
   "id": "899e660d",
   "metadata": {},
   "outputs": [
    {
     "name": "stdout",
     "output_type": "stream",
     "text": [
      "Faltantes en X_test:\n"
     ]
    },
    {
     "data": {
      "text/html": [
       "<div>\n",
       "<style scoped>\n",
       "    .dataframe tbody tr th:only-of-type {\n",
       "        vertical-align: middle;\n",
       "    }\n",
       "\n",
       "    .dataframe tbody tr th {\n",
       "        vertical-align: top;\n",
       "    }\n",
       "\n",
       "    .dataframe thead th {\n",
       "        text-align: right;\n",
       "    }\n",
       "</style>\n",
       "<table border=\"1\" class=\"dataframe\">\n",
       "  <thead>\n",
       "    <tr style=\"text-align: right;\">\n",
       "      <th></th>\n",
       "      <th>faltantes</th>\n",
       "      <th>porcentaje</th>\n",
       "    </tr>\n",
       "  </thead>\n",
       "  <tbody>\n",
       "    <tr>\n",
       "      <th>viento</th>\n",
       "      <td>130</td>\n",
       "      <td>37.57</td>\n",
       "    </tr>\n",
       "    <tr>\n",
       "      <th>prec_sup_1mm</th>\n",
       "      <td>42</td>\n",
       "      <td>12.14</td>\n",
       "    </tr>\n",
       "    <tr>\n",
       "      <th>prec_mm</th>\n",
       "      <td>42</td>\n",
       "      <td>12.14</td>\n",
       "    </tr>\n",
       "    <tr>\n",
       "      <th>humedad</th>\n",
       "      <td>19</td>\n",
       "      <td>5.49</td>\n",
       "    </tr>\n",
       "    <tr>\n",
       "      <th>temp_min</th>\n",
       "      <td>12</td>\n",
       "      <td>3.47</td>\n",
       "    </tr>\n",
       "  </tbody>\n",
       "</table>\n",
       "</div>"
      ],
      "text/plain": [
       "              faltantes  porcentaje\n",
       "viento              130       37.57\n",
       "prec_sup_1mm         42       12.14\n",
       "prec_mm              42       12.14\n",
       "humedad              19        5.49\n",
       "temp_min             12        3.47"
      ]
     },
     "execution_count": 16,
     "metadata": {},
     "output_type": "execute_result"
    }
   ],
   "source": [
    "print(\"Faltantes en X_test:\")\n",
    "calcular_faltantes(X_test)"
   ]
  },
  {
   "cell_type": "code",
   "execution_count": 17,
   "id": "3f0eb123",
   "metadata": {},
   "outputs": [],
   "source": [
    "# Poner aquí el código "
   ]
  },
  {
   "cell_type": "markdown",
   "id": "293183b1",
   "metadata": {},
   "source": [
    "---\n",
    "### Tratamiento de outliers\n",
    "---\n"
   ]
  },
  {
   "cell_type": "code",
   "execution_count": 18,
   "id": "85091171",
   "metadata": {},
   "outputs": [],
   "source": [
    "# Poner aquí el código "
   ]
  },
  {
   "cell_type": "markdown",
   "id": "f229a77c",
   "metadata": {},
   "source": [
    "---\n",
    "### Codificación\n",
    "---"
   ]
  },
  {
   "cell_type": "code",
   "execution_count": 19,
   "id": "66172b99",
   "metadata": {},
   "outputs": [],
   "source": [
    "## Poner aquí el código"
   ]
  },
  {
   "cell_type": "markdown",
   "id": "700a1100",
   "metadata": {},
   "source": [
    "---\n",
    "### Escalamiento\n",
    "---"
   ]
  },
  {
   "cell_type": "code",
   "execution_count": 20,
   "id": "c4aced26",
   "metadata": {},
   "outputs": [],
   "source": [
    "## Poner aquí el código"
   ]
  }
 ],
 "metadata": {
  "kernelspec": {
   "display_name": "Python (add-env)",
   "language": "python",
   "name": "add-env"
  },
  "language_info": {
   "codemirror_mode": {
    "name": "ipython",
    "version": 3
   },
   "file_extension": ".py",
   "mimetype": "text/x-python",
   "name": "python",
   "nbconvert_exporter": "python",
   "pygments_lexer": "ipython3",
   "version": "3.11.11"
  }
 },
 "nbformat": 4,
 "nbformat_minor": 5
}
