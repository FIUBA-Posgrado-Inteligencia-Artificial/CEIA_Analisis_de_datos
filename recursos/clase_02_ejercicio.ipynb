{
 "cells": [
  {
   "cell_type": "markdown",
   "id": "f0ffc1c4",
   "metadata": {},
   "source": [
    "## Análisis de datos - Clase 2"
   ]
  },
  {
   "cell_type": "markdown",
   "id": "87e54f19",
   "metadata": {},
   "source": [
    "#### Actividad: primera inspección del dataset y sus variables\n",
    "\n",
    "Importar y hacer una exploración inicial del dataset datasets/datos.csv para responer las preguntas que se encuentran a continuación.\n",
    "Tip: pueden ser útiles los métodos `head()/tail()`, `info()`, `unique()`,`nunique()`, `value_counts()` y las propiedades `shape` y `columns` de pandas.\n",
    "\n",
    "**Identificar esta información:**\n",
    "\n",
    "1. Número de filas y columnas: \n",
    "2. Nombres de las columnas: \n",
    "3. Variables numéricas (y subtipo): \n",
    "4. Variables categóricas (y subtipo): \n",
    "5. ¿Tiene datos faltanes el dataset?\n"
   ]
  },
  {
   "cell_type": "code",
   "execution_count": 1,
   "id": "82138a32",
   "metadata": {},
   "outputs": [],
   "source": [
    "import pandas as pd\n",
    "import seaborn as sns\n",
    "import matplotlib.pyplot as plt"
   ]
  },
  {
   "cell_type": "code",
   "execution_count": 2,
   "id": "526e954f",
   "metadata": {},
   "outputs": [],
   "source": [
    "# Importar datasets/datos.csv en un df de Pandas  "
   ]
  },
  {
   "cell_type": "code",
   "execution_count": 3,
   "id": "fe739d39",
   "metadata": {},
   "outputs": [],
   "source": [
    "# Visualizar las primeras filas del dataset"
   ]
  },
  {
   "cell_type": "code",
   "execution_count": 4,
   "id": "eccbff6f",
   "metadata": {},
   "outputs": [],
   "source": [
    "# Número de filas y columnas del dataset"
   ]
  },
  {
   "cell_type": "code",
   "execution_count": 5,
   "id": "627b2514",
   "metadata": {},
   "outputs": [],
   "source": [
    "# Nombres de las columnas del dataset"
   ]
  },
  {
   "cell_type": "code",
   "execution_count": 6,
   "id": "82e005b3",
   "metadata": {},
   "outputs": [],
   "source": [
    "# Información general del dataset"
   ]
  },
  {
   "cell_type": "code",
   "execution_count": 7,
   "id": "de5ac1fe",
   "metadata": {},
   "outputs": [],
   "source": [
    "# Explorar las variables (por ejemplo los valores únicos)\n"
   ]
  }
 ],
 "metadata": {
  "kernelspec": {
   "display_name": "add-env",
   "language": "python",
   "name": "python3"
  },
  "language_info": {
   "codemirror_mode": {
    "name": "ipython",
    "version": 3
   },
   "file_extension": ".py",
   "mimetype": "text/x-python",
   "name": "python",
   "nbconvert_exporter": "python",
   "pygments_lexer": "ipython3",
   "version": "3.11.12"
  }
 },
 "nbformat": 4,
 "nbformat_minor": 5
}
