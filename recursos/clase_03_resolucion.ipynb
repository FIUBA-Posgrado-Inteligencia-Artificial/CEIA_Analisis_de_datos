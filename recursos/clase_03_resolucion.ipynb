{
 "cells": [
  {
   "cell_type": "markdown",
   "metadata": {},
   "source": [
    "## Análisis de datos - Clase 3"
   ]
  },
  {
   "cell_type": "markdown",
   "metadata": {},
   "source": [
    "### Datos faltantes\n",
    "\n",
    "\n",
    "### CONSIGNA y RESOLUCIÓN\n",
    "\n",
    "Las primeras celdas de la notebook cargan el dataset Titanic, simulan datos faltantes en la columna 'Fare', y descartan las filas con Fare>100.\n",
    "\n",
    "#### Parte a)\n",
    "- Hacer un EDA (simple) de las columnas categóricas que tienen datos faltantes: embarked, embark_town, deck.\n",
    "- Qué conviene en cada caso? Eliminar o imputar?\n",
    "- En el caso de imputar, dedicir un método de imputación y aplicarlo.\n",
    "\n",
    "#### Parte b)\n",
    "- Hacer un EDA (simple) de la columna 'Fare'.\n",
    "- Analizar los valores faltantes.\n",
    "- Evaluar posibles formas de imputación de los datos faltantes.\n",
    "- Visualizar los resultados."
   ]
  },
  {
   "cell_type": "code",
   "execution_count": null,
   "metadata": {
    "tags": []
   },
   "outputs": [],
   "source": [
    "import pandas as pd\n",
    "import numpy as np\n",
    "import matplotlib.pyplot as plt\n",
    "import seaborn as sns\n",
    "import missingno as msno"
   ]
  },
  {
   "cell_type": "code",
   "execution_count": null,
   "metadata": {
    "tags": []
   },
   "outputs": [],
   "source": [
    "# Cargamos el dataset de Titanic de Seaborn\n",
    "titanic_df = sns.load_dataset('titanic')"
   ]
  },
  {
   "cell_type": "code",
   "execution_count": null,
   "metadata": {
    "tags": []
   },
   "outputs": [],
   "source": [
    "# simulo datos faltantes en 'fare' solo a los efectos de hacer el ejercicio\n",
    "missing_percentage = 0.05  # 5% de los valores faltantes\n",
    "n_missing = int(len(titanic_df) * missing_percentage)\n",
    "missing_indices = np.random.choice(titanic_df.index, size=n_missing, replace=False)\n",
    "titanic_df.loc[missing_indices, 'fare'] = np.nan\n",
    "\n",
    "titanic_df = titanic_df[(titanic_df['fare'] <=100) | titanic_df['fare'].isnull()]  # me quedo con los nulos y los que tienen Fare<=100"
   ]
  },
  {
   "cell_type": "code",
   "execution_count": null,
   "metadata": {},
   "outputs": [],
   "source": [
    "titanic_df"
   ]
  },
  {
   "cell_type": "markdown",
   "metadata": {},
   "source": [
    "#### Matriz de valores faltantes"
   ]
  },
  {
   "cell_type": "code",
   "execution_count": null,
   "metadata": {
    "tags": []
   },
   "outputs": [],
   "source": [
    "msno.matrix(titanic_df, sparkline=False)"
   ]
  },
  {
   "cell_type": "markdown",
   "metadata": {
    "tags": []
   },
   "source": [
    "### PARTE A - Columnas categóricas"
   ]
  },
  {
   "cell_type": "markdown",
   "metadata": {},
   "source": [
    "#### a) Analizo"
   ]
  },
  {
   "cell_type": "code",
   "execution_count": null,
   "metadata": {
    "tags": []
   },
   "outputs": [],
   "source": [
    "columnas = ['embarked', 'embark_town', 'deck'] # las que tienen valores faltantes\n",
    "titanic_df[columnas].describe()"
   ]
  },
  {
   "cell_type": "code",
   "execution_count": null,
   "metadata": {
    "tags": []
   },
   "outputs": [],
   "source": [
    "titanic_df['embarked'].value_counts()"
   ]
  },
  {
   "cell_type": "code",
   "execution_count": null,
   "metadata": {},
   "outputs": [],
   "source": [
    "titanic_df['embark_town'].value_counts()"
   ]
  },
  {
   "cell_type": "markdown",
   "metadata": {},
   "source": [
    "#### b) Elimino o imputo (según corresponda)"
   ]
  },
  {
   "cell_type": "code",
   "execution_count": null,
   "metadata": {
    "tags": []
   },
   "outputs": [],
   "source": [
    "# descarto la columna deck\n",
    "titanic_df.drop(columns=['deck'], inplace=True)\n",
    "titanic_df.head()"
   ]
  },
  {
   "cell_type": "code",
   "execution_count": null,
   "metadata": {
    "tags": []
   },
   "outputs": [],
   "source": [
    "# Imputo la moda en el caso de membarked y embark_town.\n",
    "titanic_df['embarked'].fillna('S', inplace=True)\n",
    "titanic_df['embark_town'].fillna('Southampton', inplace=True)\n",
    "titanic_df[['embarked', 'embark_town']]"
   ]
  },
  {
   "cell_type": "code",
   "execution_count": null,
   "metadata": {
    "tags": []
   },
   "outputs": [],
   "source": [
    "titanic_df[['embarked', 'embark_town']].value_counts()"
   ]
  },
  {
   "cell_type": "markdown",
   "metadata": {},
   "source": [
    "### PARTE B - Columna 'Fare'"
   ]
  },
  {
   "cell_type": "code",
   "execution_count": null,
   "metadata": {
    "tags": []
   },
   "outputs": [],
   "source": [
    "# columnas con datos faltantes\n",
    "titanic_df['fare'].describe()"
   ]
  },
  {
   "cell_type": "code",
   "execution_count": null,
   "metadata": {
    "tags": []
   },
   "outputs": [],
   "source": [
    "plt.hist(titanic_df['fare'])\n",
    "plt.show()"
   ]
  },
  {
   "cell_type": "markdown",
   "metadata": {},
   "source": [
    "### Imputación de datos faltantes"
   ]
  },
  {
   "cell_type": "markdown",
   "metadata": {
    "tags": []
   },
   "source": [
    "#### a) con una constante"
   ]
  },
  {
   "cell_type": "code",
   "execution_count": null,
   "metadata": {
    "tags": []
   },
   "outputs": [],
   "source": [
    "titanic_df['fare_2'] = titanic_df['fare']\n",
    "titanic_df['fare_2'].fillna(10, inplace=True)  # Rellena con 10\n",
    "titanic_df[['fare', 'fare_2']]"
   ]
  },
  {
   "cell_type": "code",
   "execution_count": null,
   "metadata": {
    "tags": []
   },
   "outputs": [],
   "source": [
    "fig, ax = plt.subplots(1, 2, figsize=(12, 4))\n",
    "\n",
    "ax[0].hist(titanic_df['fare'], bins=20)\n",
    "ax[1].hist(titanic_df['fare_2'], bins=20)\n",
    "plt.show()"
   ]
  },
  {
   "cell_type": "markdown",
   "metadata": {},
   "source": [
    "#### b) con valores estadísticos"
   ]
  },
  {
   "cell_type": "code",
   "execution_count": null,
   "metadata": {
    "tags": []
   },
   "outputs": [],
   "source": [
    "titanic_df['fare_2'] = titanic_df['fare']\n",
    "titanic_df['fare_3'] = titanic_df['fare']\n",
    "titanic_df['fare_4'] = titanic_df['fare']\n",
    "titanic_df['fare_2'].fillna(titanic_df['fare'].median(), inplace=True)\n",
    "titanic_df['fare_3'].fillna(titanic_df['fare'].mean(), inplace=True)\n",
    "titanic_df['fare_4'].fillna(titanic_df['fare'].mode().iloc[0], inplace=True)\n",
    "\n",
    "titanic_df[['fare', 'fare_2', 'fare_3', 'fare_4']]"
   ]
  },
  {
   "cell_type": "code",
   "execution_count": null,
   "metadata": {
    "tags": []
   },
   "outputs": [],
   "source": [
    "fig, ax = plt.subplots(2, 2, figsize=(12, 8))\n",
    "\n",
    "ax[0,0].hist(titanic_df['fare']); ax[0,0].set_title('original')\n",
    "ax[0,1].hist(titanic_df['fare_2']); ax[0,1].set_title(f\"Imp. mediana {titanic_df['fare'].median():.2f}\")\n",
    "ax[1,0].hist(titanic_df['fare_3']); ax[1,0].set_title(f\"Imp.media {titanic_df['fare'].mean():.2f}\")\n",
    "ax[1,1].hist(titanic_df['fare_4']); ax[1,1].set_title(f\"Imp.moda {titanic_df['fare'].mode().iloc[0]:.2f}\")\n",
    "\n",
    "ax[0,0].set_ylim(0, 350)\n",
    "ax[0,1].set_ylim(0, 350)\n",
    "ax[1,0].set_ylim(0, 350)\n",
    "ax[1,1].set_ylim(0, 350)\n",
    "fig.suptitle('Fare (con y sin imputación de faltantes)', fontsize=12)\n",
    "plt.show()\n"
   ]
  },
  {
   "cell_type": "code",
   "execution_count": null,
   "metadata": {
    "tags": []
   },
   "outputs": [],
   "source": [
    "titanic_df[['fare', 'fare_2', 'fare_3', 'fare_4']].describe()"
   ]
  },
  {
   "cell_type": "code",
   "execution_count": null,
   "metadata": {
    "tags": []
   },
   "outputs": [],
   "source": [
    "# Crea un gráfico de 4 boxplots en una sola figura\n",
    "plt.figure(figsize=(8, 5))\n",
    "\n",
    "sns.boxplot(data=titanic_df[['fare', 'fare_2', 'fare_3', 'fare_4']])\n",
    "\n",
    "# Agregar título y etiquetas\n",
    "plt.title('Distribución de Fare (con y sin imputación)', fontsize=12)\n",
    "plt.xlabel('Columnas', fontsize=12)\n",
    "plt.ylabel('Fare', fontsize=12)\n",
    "\n",
    "# Mostrar el gráfico\n",
    "plt.tight_layout()\n",
    "plt.show()\n"
   ]
  }
 ],
 "metadata": {
  "kernelspec": {
   "display_name": "Python 3 (ipykernel)",
   "language": "python",
   "name": "python3"
  },
  "language_info": {
   "codemirror_mode": {
    "name": "ipython",
    "version": 3
   },
   "file_extension": ".py",
   "mimetype": "text/x-python",
   "name": "python",
   "nbconvert_exporter": "python",
   "pygments_lexer": "ipython3",
   "version": "3.11.5"
  }
 },
 "nbformat": 4,
 "nbformat_minor": 4
}
