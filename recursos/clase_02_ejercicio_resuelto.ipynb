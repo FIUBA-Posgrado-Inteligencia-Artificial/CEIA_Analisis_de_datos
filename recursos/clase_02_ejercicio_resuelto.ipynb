{
 "cells": [
  {
   "cell_type": "markdown",
   "id": "f0ffc1c4",
   "metadata": {},
   "source": [
    "## Análisis de datos - Clase 2"
   ]
  },
  {
   "cell_type": "markdown",
   "id": "8ba303a7",
   "metadata": {},
   "source": [
    "### Ejercicio: en el dataset provisto, identificar el tipo y subtipo de cada variable."
   ]
  },
  {
   "cell_type": "markdown",
   "id": "87e54f19",
   "metadata": {},
   "source": [
    "### Actividad 1: entender el dataset\n",
    "Importa y hacer una exploración inicial del dataset para responer las preguntas que se encuentran a continuación.\n",
    "Tip: pueden ser útiles los métodos `head()/tail()`, `info()`, `unique()`,`nunique()`, `value_counts()` y las propiedad `shape` y `columns` de pandas.\n",
    "\n",
    "**Respuestas:**\n",
    "\n",
    "1. Número de filas y columnas: \n",
    "2. Nombres de las columnas: \n",
    "3. Variables numéricas (y subtipo): \n",
    "4. Variables categóricas (y subtipo): \n",
    "5. ¿Tiene datos faltanes el dataset?\n"
   ]
  },
  {
   "cell_type": "markdown",
   "id": "63e4c776",
   "metadata": {},
   "source": [
    "**Respuestas:**\n",
    "\n",
    "1. Número de filas y columnas: \n",
    "\n",
    "\n",
    "2. Nombres de las columnas: `age`, `workclass`, `education-num`, `marital-status`, `occupation`, `sex`, `capital-gain`, `hours-per-week`, `income`. \n",
    "\n",
    "3. Variables numéricas (y subtipo): \n",
    "\n",
    "* Numéricas continuas: `capital-gain`, `hours-per-week`\n",
    "\n",
    "* Numéricas discretas: `age` (continua, reportada como discreta)\n",
    "\n",
    "4. Variables categóricas (y subtipo): \n",
    "\n",
    "* Categóricas ordinales: `education` \n",
    "\n",
    "* Categóricas nominales: `marital-status`, `occupation`, `workclass`\n",
    "\n",
    "* Categórica binaria: `income` , `sex`\n",
    "\n",
    "5. ¿Tiene datos faltanes el dataset?: no hay NaN, pero hay celdas con \" ?\" en `workclass`, `occupation`.\n",
    "\n"
   ]
  },
  {
   "cell_type": "code",
   "execution_count": 1,
   "id": "82138a32",
   "metadata": {},
   "outputs": [],
   "source": [
    "import pandas as pd\n",
    "import seaborn as sns\n",
    "import matplotlib.pyplot as plt"
   ]
  },
  {
   "cell_type": "code",
   "execution_count": 2,
   "id": "526e954f",
   "metadata": {},
   "outputs": [],
   "source": [
    "# Importar datasets/datos.csv en un df de Pandas  \n",
    "\n",
    "df = pd.read_csv('../datasets/datos.csv')"
   ]
  },
  {
   "cell_type": "code",
   "execution_count": 3,
   "id": "fe739d39",
   "metadata": {},
   "outputs": [
    {
     "data": {
      "text/html": [
       "<div>\n",
       "<style scoped>\n",
       "    .dataframe tbody tr th:only-of-type {\n",
       "        vertical-align: middle;\n",
       "    }\n",
       "\n",
       "    .dataframe tbody tr th {\n",
       "        vertical-align: top;\n",
       "    }\n",
       "\n",
       "    .dataframe thead th {\n",
       "        text-align: right;\n",
       "    }\n",
       "</style>\n",
       "<table border=\"1\" class=\"dataframe\">\n",
       "  <thead>\n",
       "    <tr style=\"text-align: right;\">\n",
       "      <th></th>\n",
       "      <th>age</th>\n",
       "      <th>workclass</th>\n",
       "      <th>education</th>\n",
       "      <th>marital-status</th>\n",
       "      <th>occupation</th>\n",
       "      <th>sex</th>\n",
       "      <th>capital-gain</th>\n",
       "      <th>hours-per-week</th>\n",
       "      <th>income</th>\n",
       "    </tr>\n",
       "  </thead>\n",
       "  <tbody>\n",
       "    <tr>\n",
       "      <th>0</th>\n",
       "      <td>39</td>\n",
       "      <td>State-gov</td>\n",
       "      <td>Bachelors</td>\n",
       "      <td>Never-married</td>\n",
       "      <td>Adm-clerical</td>\n",
       "      <td>Male</td>\n",
       "      <td>2174</td>\n",
       "      <td>40</td>\n",
       "      <td>&lt;=50K</td>\n",
       "    </tr>\n",
       "    <tr>\n",
       "      <th>1</th>\n",
       "      <td>50</td>\n",
       "      <td>Self-emp-not-inc</td>\n",
       "      <td>Bachelors</td>\n",
       "      <td>Married-civ-spouse</td>\n",
       "      <td>Exec-managerial</td>\n",
       "      <td>Male</td>\n",
       "      <td>0</td>\n",
       "      <td>13</td>\n",
       "      <td>&lt;=50K</td>\n",
       "    </tr>\n",
       "    <tr>\n",
       "      <th>2</th>\n",
       "      <td>38</td>\n",
       "      <td>Private</td>\n",
       "      <td>HS-grad</td>\n",
       "      <td>Divorced</td>\n",
       "      <td>Handlers-cleaners</td>\n",
       "      <td>Male</td>\n",
       "      <td>0</td>\n",
       "      <td>40</td>\n",
       "      <td>&lt;=50K</td>\n",
       "    </tr>\n",
       "    <tr>\n",
       "      <th>3</th>\n",
       "      <td>53</td>\n",
       "      <td>Private</td>\n",
       "      <td>11th</td>\n",
       "      <td>Married-civ-spouse</td>\n",
       "      <td>Handlers-cleaners</td>\n",
       "      <td>Male</td>\n",
       "      <td>0</td>\n",
       "      <td>40</td>\n",
       "      <td>&lt;=50K</td>\n",
       "    </tr>\n",
       "    <tr>\n",
       "      <th>4</th>\n",
       "      <td>28</td>\n",
       "      <td>Private</td>\n",
       "      <td>Bachelors</td>\n",
       "      <td>Married-civ-spouse</td>\n",
       "      <td>Prof-specialty</td>\n",
       "      <td>Female</td>\n",
       "      <td>0</td>\n",
       "      <td>40</td>\n",
       "      <td>&lt;=50K</td>\n",
       "    </tr>\n",
       "  </tbody>\n",
       "</table>\n",
       "</div>"
      ],
      "text/plain": [
       "   age          workclass   education       marital-status  \\\n",
       "0   39          State-gov   Bachelors        Never-married   \n",
       "1   50   Self-emp-not-inc   Bachelors   Married-civ-spouse   \n",
       "2   38            Private     HS-grad             Divorced   \n",
       "3   53            Private        11th   Married-civ-spouse   \n",
       "4   28            Private   Bachelors   Married-civ-spouse   \n",
       "\n",
       "           occupation      sex  capital-gain  hours-per-week income  \n",
       "0        Adm-clerical     Male          2174              40  <=50K  \n",
       "1     Exec-managerial     Male             0              13  <=50K  \n",
       "2   Handlers-cleaners     Male             0              40  <=50K  \n",
       "3   Handlers-cleaners     Male             0              40  <=50K  \n",
       "4      Prof-specialty   Female             0              40  <=50K  "
      ]
     },
     "execution_count": 3,
     "metadata": {},
     "output_type": "execute_result"
    }
   ],
   "source": [
    "# Visualizar las primeras filas del dataset\n",
    "df.head()"
   ]
  },
  {
   "cell_type": "code",
   "execution_count": 4,
   "id": "eccbff6f",
   "metadata": {},
   "outputs": [
    {
     "data": {
      "text/plain": [
       "(32561, 9)"
      ]
     },
     "execution_count": 4,
     "metadata": {},
     "output_type": "execute_result"
    }
   ],
   "source": [
    "# Número de filas y columnas del dataset\n",
    "df.shape"
   ]
  },
  {
   "cell_type": "code",
   "execution_count": 5,
   "id": "627b2514",
   "metadata": {},
   "outputs": [
    {
     "data": {
      "text/plain": [
       "['age',\n",
       " 'workclass',\n",
       " 'education',\n",
       " 'marital-status',\n",
       " 'occupation',\n",
       " 'sex',\n",
       " 'capital-gain',\n",
       " 'hours-per-week',\n",
       " 'income']"
      ]
     },
     "execution_count": 5,
     "metadata": {},
     "output_type": "execute_result"
    }
   ],
   "source": [
    "# Nombres de las columnas del dataset\n",
    "df.columns.to_list()"
   ]
  },
  {
   "cell_type": "code",
   "execution_count": 6,
   "id": "82e005b3",
   "metadata": {},
   "outputs": [
    {
     "name": "stdout",
     "output_type": "stream",
     "text": [
      "<class 'pandas.core.frame.DataFrame'>\n",
      "RangeIndex: 32561 entries, 0 to 32560\n",
      "Data columns (total 9 columns):\n",
      " #   Column          Non-Null Count  Dtype \n",
      "---  ------          --------------  ----- \n",
      " 0   age             32561 non-null  int64 \n",
      " 1   workclass       32561 non-null  object\n",
      " 2   education       32561 non-null  object\n",
      " 3   marital-status  32561 non-null  object\n",
      " 4   occupation      32561 non-null  object\n",
      " 5   sex             32561 non-null  object\n",
      " 6   capital-gain    32561 non-null  int64 \n",
      " 7   hours-per-week  32561 non-null  int64 \n",
      " 8   income          32561 non-null  object\n",
      "dtypes: int64(3), object(6)\n",
      "memory usage: 2.2+ MB\n"
     ]
    }
   ],
   "source": [
    "df.info()"
   ]
  },
  {
   "cell_type": "code",
   "execution_count": 7,
   "id": "de5ac1fe",
   "metadata": {},
   "outputs": [
    {
     "name": "stdout",
     "output_type": "stream",
     "text": [
      "Columna: age - total de valores únicos: 73\n",
      "\n",
      "\n",
      "Columna: workclass - total de valores únicos: 9\n",
      "workclass\n",
      " Private             22696\n",
      " Self-emp-not-inc     2541\n",
      " Local-gov            2093\n",
      " ?                    1836\n",
      " State-gov            1298\n",
      " Self-emp-inc         1116\n",
      " Federal-gov           960\n",
      " Without-pay            14\n",
      " Never-worked            7\n",
      "Name: count, dtype: int64\n",
      "\n",
      "\n",
      "Columna: education - total de valores únicos: 16\n",
      "education\n",
      " HS-grad         10501\n",
      " Some-college     7291\n",
      " Bachelors        5355\n",
      " Masters          1723\n",
      " Assoc-voc        1382\n",
      "11th              1175\n",
      " Assoc-acdm       1067\n",
      "10th               933\n",
      "7th-8th            646\n",
      " Prof-school       576\n",
      "9th                514\n",
      "12th               433\n",
      " Doctorate         413\n",
      "5th-6th            333\n",
      "1st-4th            168\n",
      " Preschool          51\n",
      "Name: count, dtype: int64\n",
      "\n",
      "\n",
      "Columna: marital-status - total de valores únicos: 7\n",
      "marital-status\n",
      " Married-civ-spouse       14976\n",
      " Never-married            10683\n",
      " Divorced                  4443\n",
      " Separated                 1025\n",
      " Widowed                    993\n",
      " Married-spouse-absent      418\n",
      " Married-AF-spouse           23\n",
      "Name: count, dtype: int64\n",
      "\n",
      "\n",
      "Columna: occupation - total de valores únicos: 15\n",
      "occupation\n",
      " Prof-specialty       4140\n",
      " Craft-repair         4099\n",
      " Exec-managerial      4066\n",
      " Adm-clerical         3770\n",
      " Sales                3650\n",
      " Other-service        3295\n",
      " Machine-op-inspct    2002\n",
      " ?                    1843\n",
      " Transport-moving     1597\n",
      " Handlers-cleaners    1370\n",
      " Farming-fishing       994\n",
      " Tech-support          928\n",
      " Protective-serv       649\n",
      " Priv-house-serv       149\n",
      " Armed-Forces            9\n",
      "Name: count, dtype: int64\n",
      "\n",
      "\n",
      "Columna: sex - total de valores únicos: 2\n",
      "sex\n",
      " Male      21790\n",
      " Female    10771\n",
      "Name: count, dtype: int64\n",
      "\n",
      "\n",
      "Columna: capital-gain - total de valores únicos: 119\n",
      "\n",
      "\n",
      "Columna: hours-per-week - total de valores únicos: 94\n",
      "\n",
      "\n",
      "Columna: income - total de valores únicos: 2\n",
      "income\n",
      "<=50K    24720\n",
      ">50K      7841\n",
      "Name: count, dtype: int64\n",
      "\n",
      "\n"
     ]
    }
   ],
   "source": [
    "# Explorar valores únucos de las variables\n",
    "\n",
    "for columns in df.columns:\n",
    "    total_unicos = df[columns].nunique()\n",
    "    print(f\"Columna: {columns} - total de valores únicos: {total_unicos}\")\n",
    "\n",
    "    if total_unicos < 20:\n",
    "        print(df[columns].value_counts())\n",
    "    print(\"\\n\")"
   ]
  },
  {
   "cell_type": "code",
   "execution_count": 8,
   "id": "c9506beb",
   "metadata": {},
   "outputs": [
    {
     "data": {
      "text/plain": [
       "age               False\n",
       "workclass          True\n",
       "education         False\n",
       "marital-status    False\n",
       "occupation         True\n",
       "sex               False\n",
       "capital-gain      False\n",
       "hours-per-week    False\n",
       "income            False\n",
       "dtype: bool"
      ]
     },
     "execution_count": 8,
     "metadata": {},
     "output_type": "execute_result"
    }
   ],
   "source": [
    "raros = [' ?', '? ', '?', 'N/A', 'n.a.', '-', 'missing', '.']\n",
    "df.isin(raros).any()"
   ]
  },
  {
   "cell_type": "code",
   "execution_count": null,
   "id": "c4618aed",
   "metadata": {},
   "outputs": [],
   "source": [
    "# Ejemplo: convertir los valores raros a NaN\n",
    "df.replace(raros, pd.NA, inplace=True)"
   ]
  },
  {
   "cell_type": "code",
   "execution_count": 10,
   "id": "e4cb065c",
   "metadata": {},
   "outputs": [
    {
     "data": {
      "text/plain": [
       "age               False\n",
       "workclass         False\n",
       "education         False\n",
       "marital-status    False\n",
       "occupation        False\n",
       "sex               False\n",
       "capital-gain      False\n",
       "hours-per-week    False\n",
       "income            False\n",
       "dtype: bool"
      ]
     },
     "execution_count": 10,
     "metadata": {},
     "output_type": "execute_result"
    }
   ],
   "source": [
    "df.isin(raros).any()"
   ]
  },
  {
   "cell_type": "code",
   "execution_count": null,
   "id": "7384519f",
   "metadata": {},
   "outputs": [
    {
     "name": "stdout",
     "output_type": "stream",
     "text": [
      "<class 'pandas.core.frame.DataFrame'>\n",
      "RangeIndex: 32561 entries, 0 to 32560\n",
      "Data columns (total 9 columns):\n",
      " #   Column          Non-Null Count  Dtype \n",
      "---  ------          --------------  ----- \n",
      " 0   age             32561 non-null  int64 \n",
      " 1   workclass       30725 non-null  object\n",
      " 2   education       32561 non-null  object\n",
      " 3   marital-status  32561 non-null  object\n",
      " 4   occupation      30718 non-null  object\n",
      " 5   sex             32561 non-null  object\n",
      " 6   capital-gain    32561 non-null  int64 \n",
      " 7   hours-per-week  32561 non-null  int64 \n",
      " 8   income          32561 non-null  object\n",
      "dtypes: int64(3), object(6)\n",
      "memory usage: 2.2+ MB\n"
     ]
    }
   ],
   "source": [
    "# Verificar que ahora aparecen los NaN en 'workclass' y 'occupation'\n",
    "df.info()"
   ]
  }
 ],
 "metadata": {
  "kernelspec": {
   "display_name": "ceia-analisis-de-datos-n2oEn7fP-py3.11",
   "language": "python",
   "name": "python3"
  },
  "language_info": {
   "codemirror_mode": {
    "name": "ipython",
    "version": 3
   },
   "file_extension": ".py",
   "mimetype": "text/x-python",
   "name": "python",
   "nbconvert_exporter": "python",
   "pygments_lexer": "ipython3",
   "version": "3.11.11"
  }
 },
 "nbformat": 4,
 "nbformat_minor": 5
}
