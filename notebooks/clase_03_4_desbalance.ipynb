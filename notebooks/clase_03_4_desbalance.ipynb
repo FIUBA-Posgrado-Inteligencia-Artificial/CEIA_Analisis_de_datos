{
  "cells": [
    {
      "cell_type": "markdown",
      "metadata": {
        "id": "5-sV28Q0_y64"
      },
      "source": [
        "## Análisis de datos - Clase 3"
      ]
    },
    {
      "cell_type": "markdown",
      "metadata": {
        "id": "lNhICFLu_y65"
      },
      "source": [
        "### Desbalance"
      ]
    },
    {
      "cell_type": "code",
      "execution_count": 3,
      "metadata": {
        "id": "QV-RpGTz_y67",
        "tags": []
      },
      "outputs": [],
      "source": [
        "import pandas as pd\n",
        "import numpy as np\n",
        "import matplotlib.pyplot as plt\n",
        "import seaborn as sns\n",
        "\n",
        "from sklearn.model_selection import train_test_split\n",
        "from sklearn.ensemble import RandomForestClassifier\n",
        "from sklearn.metrics import classification_report, confusion_matrix\n",
        "from imblearn.over_sampling import SMOTE\n",
        "from imblearn.under_sampling import RandomUnderSampler\n"
      ]
    },
    {
      "cell_type": "code",
      "execution_count": 4,
      "metadata": {
        "id": "4baL-TRPWlgJ"
      },
      "outputs": [],
      "source": [
        "# Función para calcular la entropía de Shannon\n",
        "def shannon_entropy(y):\n",
        "    probs = y.value_counts(normalize=True)\n",
        "    return -np.sum(probs * np.log2(probs))\n"
      ]
    },
    {
      "cell_type": "code",
      "execution_count": 5,
      "metadata": {
        "id": "yFGT4LF0W50k"
      },
      "outputs": [],
      "source": [
        "# Cargar dataset Titanic\n",
        "df = sns.load_dataset(\"titanic\")[[\"sex\", \"age\", \"fare\", \"class\", \"embark_town\", \"survived\"]].dropna()\n",
        "df[\"sex\"] = df[\"sex\"].map({\"male\": 0, \"female\": 1})\n",
        "df[\"class\"] = df[\"class\"].map({\"Third\": 3, \"Second\": 2, \"First\": 1})\n",
        "\n",
        "# Cargar dataset Titanic\n",
        "df = sns.load_dataset(\"titanic\")[[\"sex\", \"age\", \"fare\", \"class\", \"embark_town\", \"survived\"]].dropna()\n",
        "df[\"sex\"] = df[\"sex\"].map({\"male\": 0, \"female\": 1})\n",
        "df[\"class\"] = df[\"class\"].map({\"Third\": 3, \"Second\": 2, \"First\": 1})\n",
        "df = pd.get_dummies(df, columns=[\"embark_town\"], drop_first=True)\n",
        "\n",
        "X = df.drop(columns=[\"survived\"])\n",
        "y = df[\"survived\"]"
      ]
    },
    {
      "cell_type": "code",
      "execution_count": 6,
      "metadata": {
        "colab": {
          "base_uri": "https://localhost:8080/"
        },
        "id": "0sPMcJE2WqSK",
        "outputId": "600f1081-6460-4019-bd9e-3588a802c31f"
      },
      "outputs": [
        {
          "name": "stdout",
          "output_type": "stream",
          "text": [
            "Proporción de clases:\n",
            "survived\n",
            "0    0.595506\n",
            "1    0.404494\n",
            "Name: proportion, dtype: float64\n",
            "\n",
            "Entropía de Shannon: 0.9735190023846809\n"
          ]
        }
      ],
      "source": [
        "# Evaluación del desbalance\n",
        "print(\"Proporción de clases:\")\n",
        "print(y.value_counts(normalize=True))\n",
        "entropy_original = shannon_entropy(y)\n",
        "print(\"\\nEntropía de Shannon:\", entropy_original)"
      ]
    },
    {
      "cell_type": "code",
      "execution_count": 7,
      "metadata": {
        "id": "FqQXcvPJXLD8"
      },
      "outputs": [],
      "source": [
        "# Separa en entrenamiento y test\n",
        "X_train, X_test, y_train, y_test = train_test_split(X, y, test_size=0.2, random_state=42, stratify=y)"
      ]
    },
    {
      "cell_type": "code",
      "execution_count": 8,
      "metadata": {
        "colab": {
          "base_uri": "https://localhost:8080/"
        },
        "id": "DDupSfGdXL9J",
        "outputId": "88035f60-9353-43d7-8de7-9a7acb2e2799"
      },
      "outputs": [
        {
          "name": "stdout",
          "output_type": "stream",
          "text": [
            "\n",
            "Métricas (datos originales):\n",
            "              precision    recall  f1-score   support\n",
            "\n",
            "           0       0.80      0.81      0.81        85\n",
            "           1       0.72      0.71      0.71        58\n",
            "\n",
            "    accuracy                           0.77       143\n",
            "   macro avg       0.76      0.76      0.76       143\n",
            "weighted avg       0.77      0.77      0.77       143\n",
            "\n"
          ]
        }
      ],
      "source": [
        "# Modelo base (original))\n",
        "clf = RandomForestClassifier(random_state=42)\n",
        "clf.fit(X_train, y_train)\n",
        "y_pred = clf.predict(X_test)\n",
        "print(\"\\nMétricas (datos originales):\")\n",
        "print(classification_report(y_test, y_pred))"
      ]
    },
    {
      "cell_type": "code",
      "execution_count": 9,
      "metadata": {
        "colab": {
          "base_uri": "https://localhost:8080/"
        },
        "id": "lyIoFcqZXL_W",
        "outputId": "44299b8e-6b7d-4d3a-dc22-712c3c0a7f4b"
      },
      "outputs": [
        {
          "name": "stdout",
          "output_type": "stream",
          "text": [
            "\n",
            "Entropía de Shannon después de SMOTE: 1.0\n",
            "\n",
            "Métricas con SMOTE:\n",
            "              precision    recall  f1-score   support\n",
            "\n",
            "           0       0.82      0.79      0.80        85\n",
            "           1       0.70      0.74      0.72        58\n",
            "\n",
            "    accuracy                           0.77       143\n",
            "   macro avg       0.76      0.76      0.76       143\n",
            "weighted avg       0.77      0.77      0.77       143\n",
            "\n"
          ]
        }
      ],
      "source": [
        "# Oversampling con SMOTE\n",
        "smote = SMOTE(random_state=42)\n",
        "X_train_sm, y_train_sm = smote.fit_resample(X_train, y_train)\n",
        "\n",
        "entropy_smote = shannon_entropy(y_train_sm)\n",
        "print(\"\\nEntropía de Shannon después de SMOTE:\", entropy_smote)\n",
        "clf.fit(X_train_sm, y_train_sm)\n",
        "y_pred_sm = clf.predict(X_test)\n",
        "print(\"\\nMétricas con SMOTE:\")\n",
        "print(classification_report(y_test, y_pred_sm))\n"
      ]
    },
    {
      "cell_type": "code",
      "execution_count": 10,
      "metadata": {
        "colab": {
          "base_uri": "https://localhost:8080/"
        },
        "id": "k9TpZ2_cYEBz",
        "outputId": "d03e9bee-04a8-4039-896f-97e0aadf3b62"
      },
      "outputs": [
        {
          "name": "stdout",
          "output_type": "stream",
          "text": [
            "\n",
            "Entropía de Shannon después de Undersampling: 1.0\n",
            "\n",
            "Métricas con Undersampling:\n",
            "              precision    recall  f1-score   support\n",
            "\n",
            "           0       0.86      0.73      0.79        85\n",
            "           1       0.68      0.83      0.74        58\n",
            "\n",
            "    accuracy                           0.77       143\n",
            "   macro avg       0.77      0.78      0.77       143\n",
            "weighted avg       0.79      0.77      0.77       143\n",
            "\n"
          ]
        }
      ],
      "source": [
        "# Undersampling\n",
        "undersample = RandomUnderSampler(random_state=42)\n",
        "X_train_us, y_train_us = undersample.fit_resample(X_train, y_train)\n",
        "\n",
        "entropy_undersample = shannon_entropy(y_train_us)\n",
        "print(\"\\nEntropía de Shannon después de Undersampling:\", entropy_undersample)\n",
        "clf.fit(X_train_us, y_train_us)\n",
        "y_pred_us = clf.predict(X_test)\n",
        "print(\"\\nMétricas con Undersampling:\")\n",
        "print(classification_report(y_test, y_pred_us))"
      ]
    },
    {
      "cell_type": "code",
      "execution_count": 11,
      "metadata": {
        "colab": {
          "base_uri": "https://localhost:8080/",
          "height": 482
        },
        "id": "eCRzpGIEWqXW",
        "outputId": "7e39e728-9c00-4f86-a6d8-14b3092f2b08"
      },
      "outputs": [
        {
          "data": {
            "image/png": "[encoded data removed]",
            "text/plain": [
              "<Figure size 1500x500 with 3 Axes>"
            ]
          },
          "metadata": {},
          "output_type": "display_data"
        }
      ],
      "source": [
        "# Graficar distribución original y balanceada\n",
        "fig, axes = plt.subplots(1, 3, figsize=(15, 5))\n",
        "y_train.value_counts().plot(kind='bar', ax=axes[0], title='Distribución Original')\n",
        "y_train_sm.value_counts().plot(kind='bar', ax=axes[1], title='SMOTE')\n",
        "y_train_us.value_counts().plot(kind='bar', ax=axes[2], title='Undersampling')\n",
        "\n",
        "for i in (0,1,2):\n",
        "  axes[i].set_ylim(0,350)\n",
        "\n",
        "plt.show()\n"
      ]
    }
  ],
  "metadata": {
    "colab": {
      "provenance": []
    },
    "kernelspec": {
      "display_name": "add-env",
      "language": "python",
      "name": "python3"
    },
    "language_info": {
      "codemirror_mode": {
        "name": "ipython",
        "version": 3
      },
      "file_extension": ".py",
      "mimetype": "text/x-python",
      "name": "python",
      "nbconvert_exporter": "python",
      "pygments_lexer": "ipython3",
      "version": "3.11.11"
    }
  },
  "nbformat": 4,
  "nbformat_minor": 0
}
