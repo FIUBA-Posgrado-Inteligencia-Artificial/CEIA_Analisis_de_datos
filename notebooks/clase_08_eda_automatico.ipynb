{
 "cells": [
  {
   "cell_type": "markdown",
   "metadata": {},
   "source": [
    "## CEIA - Análisis de datos\n",
    "\n",
    "### Clase 8: Automatización de análisis de datos. EDA automático."
   ]
  },
  {
   "cell_type": "markdown",
   "metadata": {},
   "source": [
    "### 1. Biblioteca ydata-profiling"
   ]
  },
  {
   "cell_type": "code",
   "execution_count": 1,
   "metadata": {},
   "outputs": [
    {
     "data": {
      "text/html": [
       "\n",
       "            <div>\n",
       "                <ins><a href=\"https://ydata.ai/register\">Upgrade to ydata-sdk</a></ins>\n",
       "                <p>\n",
       "                    Improve your data and profiling with ydata-sdk, featuring data quality scoring, redundancy detection, outlier identification, text validation, and synthetic data generation.\n",
       "                </p>\n",
       "            </div>\n",
       "            "
      ],
      "text/plain": [
       "<IPython.core.display.HTML object>"
      ]
     },
     "metadata": {},
     "output_type": "display_data"
    }
   ],
   "source": [
    "import pandas as pd\n",
    "import seaborn as sns\n",
    "from ydata_profiling import ProfileReport\n",
    "import webbrowser\n",
    "import os\n",
    "from sklearn.model_selection import train_test_split"
   ]
  },
  {
   "cell_type": "code",
   "execution_count": 2,
   "metadata": {},
   "outputs": [
    {
     "data": {
      "text/html": [
       "<div>\n",
       "<style scoped>\n",
       "    .dataframe tbody tr th:only-of-type {\n",
       "        vertical-align: middle;\n",
       "    }\n",
       "\n",
       "    .dataframe tbody tr th {\n",
       "        vertical-align: top;\n",
       "    }\n",
       "\n",
       "    .dataframe thead th {\n",
       "        text-align: right;\n",
       "    }\n",
       "</style>\n",
       "<table border=\"1\" class=\"dataframe\">\n",
       "  <thead>\n",
       "    <tr style=\"text-align: right;\">\n",
       "      <th></th>\n",
       "      <th>survived</th>\n",
       "      <th>pclass</th>\n",
       "      <th>sex</th>\n",
       "      <th>age</th>\n",
       "      <th>sibsp</th>\n",
       "      <th>parch</th>\n",
       "      <th>fare</th>\n",
       "      <th>embarked</th>\n",
       "      <th>class</th>\n",
       "      <th>who</th>\n",
       "      <th>adult_male</th>\n",
       "      <th>deck</th>\n",
       "      <th>embark_town</th>\n",
       "      <th>alive</th>\n",
       "      <th>alone</th>\n",
       "    </tr>\n",
       "  </thead>\n",
       "  <tbody>\n",
       "    <tr>\n",
       "      <th>0</th>\n",
       "      <td>0</td>\n",
       "      <td>3</td>\n",
       "      <td>male</td>\n",
       "      <td>22.0</td>\n",
       "      <td>1</td>\n",
       "      <td>0</td>\n",
       "      <td>7.2500</td>\n",
       "      <td>S</td>\n",
       "      <td>Third</td>\n",
       "      <td>man</td>\n",
       "      <td>True</td>\n",
       "      <td>NaN</td>\n",
       "      <td>Southampton</td>\n",
       "      <td>no</td>\n",
       "      <td>False</td>\n",
       "    </tr>\n",
       "    <tr>\n",
       "      <th>1</th>\n",
       "      <td>1</td>\n",
       "      <td>1</td>\n",
       "      <td>female</td>\n",
       "      <td>38.0</td>\n",
       "      <td>1</td>\n",
       "      <td>0</td>\n",
       "      <td>71.2833</td>\n",
       "      <td>C</td>\n",
       "      <td>First</td>\n",
       "      <td>woman</td>\n",
       "      <td>False</td>\n",
       "      <td>C</td>\n",
       "      <td>Cherbourg</td>\n",
       "      <td>yes</td>\n",
       "      <td>False</td>\n",
       "    </tr>\n",
       "    <tr>\n",
       "      <th>2</th>\n",
       "      <td>1</td>\n",
       "      <td>3</td>\n",
       "      <td>female</td>\n",
       "      <td>26.0</td>\n",
       "      <td>0</td>\n",
       "      <td>0</td>\n",
       "      <td>7.9250</td>\n",
       "      <td>S</td>\n",
       "      <td>Third</td>\n",
       "      <td>woman</td>\n",
       "      <td>False</td>\n",
       "      <td>NaN</td>\n",
       "      <td>Southampton</td>\n",
       "      <td>yes</td>\n",
       "      <td>True</td>\n",
       "    </tr>\n",
       "    <tr>\n",
       "      <th>3</th>\n",
       "      <td>1</td>\n",
       "      <td>1</td>\n",
       "      <td>female</td>\n",
       "      <td>35.0</td>\n",
       "      <td>1</td>\n",
       "      <td>0</td>\n",
       "      <td>53.1000</td>\n",
       "      <td>S</td>\n",
       "      <td>First</td>\n",
       "      <td>woman</td>\n",
       "      <td>False</td>\n",
       "      <td>C</td>\n",
       "      <td>Southampton</td>\n",
       "      <td>yes</td>\n",
       "      <td>False</td>\n",
       "    </tr>\n",
       "    <tr>\n",
       "      <th>4</th>\n",
       "      <td>0</td>\n",
       "      <td>3</td>\n",
       "      <td>male</td>\n",
       "      <td>35.0</td>\n",
       "      <td>0</td>\n",
       "      <td>0</td>\n",
       "      <td>8.0500</td>\n",
       "      <td>S</td>\n",
       "      <td>Third</td>\n",
       "      <td>man</td>\n",
       "      <td>True</td>\n",
       "      <td>NaN</td>\n",
       "      <td>Southampton</td>\n",
       "      <td>no</td>\n",
       "      <td>True</td>\n",
       "    </tr>\n",
       "  </tbody>\n",
       "</table>\n",
       "</div>"
      ],
      "text/plain": [
       "   survived  pclass     sex   age  sibsp  parch     fare embarked  class  \\\n",
       "0         0       3    male  22.0      1      0   7.2500        S  Third   \n",
       "1         1       1  female  38.0      1      0  71.2833        C  First   \n",
       "2         1       3  female  26.0      0      0   7.9250        S  Third   \n",
       "3         1       1  female  35.0      1      0  53.1000        S  First   \n",
       "4         0       3    male  35.0      0      0   8.0500        S  Third   \n",
       "\n",
       "     who  adult_male deck  embark_town alive  alone  \n",
       "0    man        True  NaN  Southampton    no  False  \n",
       "1  woman       False    C    Cherbourg   yes  False  \n",
       "2  woman       False  NaN  Southampton   yes   True  \n",
       "3  woman       False    C  Southampton   yes  False  \n",
       "4    man        True  NaN  Southampton    no   True  "
      ]
     },
     "execution_count": 2,
     "metadata": {},
     "output_type": "execute_result"
    }
   ],
   "source": [
    "# Cargar el dataset de Titanic\n",
    "df = sns.load_dataset(\"titanic\")\n",
    "df.head()"
   ]
  },
  {
   "cell_type": "markdown",
   "metadata": {},
   "source": [
    "### 1. EDA automático con biblioteca ydata-profiling"
   ]
  },
  {
   "cell_type": "code",
   "execution_count": 3,
   "metadata": {},
   "outputs": [],
   "source": [
    "# Creamos el reporte\n",
    "profile_1 = ProfileReport(df, title=\"Pandas Profiling Report\", explorative=False, correlations={\n",
    "    # default \"auto\": {\"calculate\": True}\n",
    "    \"pearson\": {\"calculate\": True},\n",
    "    \"spearman\": {\"calculate\": True},\n",
    "    \"kendall\": {\"calculate\": True},\n",
    "    \"cramers\": {\"calculate\": True}, \n",
    "    }\n",
    ")\n"
   ]
  },
  {
   "cell_type": "code",
   "execution_count": 4,
   "metadata": {},
   "outputs": [
    {
     "data": {
      "application/vnd.jupyter.widget-view+json": {
       "model_id": "0d9d2a9fd0e843309b5286e992ef7ead",
       "version_major": 2,
       "version_minor": 0
      },
      "text/plain": [
       "Summarize dataset:   0%|          | 0/5 [00:00<?, ?it/s]"
      ]
     },
     "metadata": {},
     "output_type": "display_data"
    },
    {
     "name": "stderr",
     "output_type": "stream",
     "text": [
      "100%|██████████| 15/15 [00:00<00:00, 473.70it/s]\n",
      "/Users/ari/Library/Caches/pypoetry/virtualenvs/ceia-analisis-de-datos-n2oEn7fP-py3.11/lib/python3.11/site-packages/ydata_profiling/model/correlations.py:87: UserWarning: There was an attempt to calculate the auto correlation, but this failed.\n",
      "To hide this warning, disable the calculation\n",
      "(using `df.profile_report(correlations={\"auto\": {\"calculate\": False}})`\n",
      "If this is problematic for your use case, please report this as an issue:\n",
      "https://github.com/ydataai/ydata-profiling/issues\n",
      "(include the error message: 'putmask: first argument must be an array')\n",
      "  warnings.warn(\n"
     ]
    },
    {
     "data": {
      "application/vnd.jupyter.widget-view+json": {
       "model_id": "4f90f51f06464d23b27c226cb21f871d",
       "version_major": 2,
       "version_minor": 0
      },
      "text/plain": [
       "Generate report structure:   0%|          | 0/1 [00:00<?, ?it/s]"
      ]
     },
     "metadata": {},
     "output_type": "display_data"
    },
    {
     "data": {
      "application/vnd.jupyter.widget-view+json": {
       "model_id": "8ead3f608791457b8626226f86011747",
       "version_major": 2,
       "version_minor": 0
      },
      "text/plain": [
       "Render HTML:   0%|          | 0/1 [00:00<?, ?it/s]"
      ]
     },
     "metadata": {},
     "output_type": "display_data"
    },
    {
     "data": {
      "application/vnd.jupyter.widget-view+json": {
       "model_id": "e600013a7cb840cfb941ef98bf9fab94",
       "version_major": 2,
       "version_minor": 0
      },
      "text/plain": [
       "Export report to file:   0%|          | 0/1 [00:00<?, ?it/s]"
      ]
     },
     "metadata": {},
     "output_type": "display_data"
    },
    {
     "data": {
      "application/vnd.jupyter.widget-view+json": {
       "model_id": "839ef82a76e44d7f80914022104feb4b",
       "version_major": 2,
       "version_minor": 0
      },
      "text/plain": [
       "Render JSON:   0%|          | 0/1 [00:00<?, ?it/s]"
      ]
     },
     "metadata": {},
     "output_type": "display_data"
    },
    {
     "data": {
      "application/vnd.jupyter.widget-view+json": {
       "model_id": "77d03e0c816448d5ac909d82b1a96fe5",
       "version_major": 2,
       "version_minor": 0
      },
      "text/plain": [
       "Export report to file:   0%|          | 0/1 [00:00<?, ?it/s]"
      ]
     },
     "metadata": {},
     "output_type": "display_data"
    }
   ],
   "source": [
    "# Exportar el repote a un archivo HTML o Json\n",
    "profile_1.to_file(\"../recursos/titanic_report_1.html\")\n",
    "\n",
    "profile_1.to_file(\"../recursos/titanic_report_1.json\") # Esta opción se usa para customizar el reporte \n"
   ]
  },
  {
   "cell_type": "code",
   "execution_count": 5,
   "metadata": {},
   "outputs": [],
   "source": [
    "# Pequena función para abrir el reporte en el navegador\n",
    "def open_html_report(report_path):\n",
    "    file_path = os.path.abspath(report_path)\n",
    "\n",
    "    # Abrir el reporte en el browser\n",
    "    webbrowser.open(f\"file:///{file_path}\")\n",
    "\n",
    "    return"
   ]
  },
  {
   "cell_type": "code",
   "execution_count": 6,
   "metadata": {},
   "outputs": [],
   "source": [
    "# Si lo queremos mostrar directamente en la notebook, correr la siguiente línea:\n",
    "# profile.to_notebook_iframe() "
   ]
  },
  {
   "cell_type": "code",
   "execution_count": 7,
   "metadata": {},
   "outputs": [],
   "source": [
    "# Abrir el reporte 1 en el browser\n",
    "open_html_report(\"../recursos/titanic_report_1.html\")"
   ]
  },
  {
   "cell_type": "code",
   "execution_count": 8,
   "metadata": {},
   "outputs": [
    {
     "data": {
      "application/vnd.jupyter.widget-view+json": {
       "model_id": "42f6f3f7397f4164853f8f9beaf678e7",
       "version_major": 2,
       "version_minor": 0
      },
      "text/plain": [
       "Summarize dataset:   0%|          | 0/5 [00:00<?, ?it/s]"
      ]
     },
     "metadata": {},
     "output_type": "display_data"
    },
    {
     "name": "stderr",
     "output_type": "stream",
     "text": [
      "100%|██████████| 15/15 [00:00<00:00, 194781.92it/s]\n",
      "/Users/ari/Library/Caches/pypoetry/virtualenvs/ceia-analisis-de-datos-n2oEn7fP-py3.11/lib/python3.11/site-packages/ydata_profiling/model/correlations.py:87: UserWarning: There was an attempt to calculate the auto correlation, but this failed.\n",
      "To hide this warning, disable the calculation\n",
      "(using `df.profile_report(correlations={\"auto\": {\"calculate\": False}})`\n",
      "If this is problematic for your use case, please report this as an issue:\n",
      "https://github.com/ydataai/ydata-profiling/issues\n",
      "(include the error message: 'putmask: first argument must be an array')\n",
      "  warnings.warn(\n"
     ]
    },
    {
     "data": {
      "application/vnd.jupyter.widget-view+json": {
       "model_id": "df9ecfb6a23d4fc79a954cd04652de01",
       "version_major": 2,
       "version_minor": 0
      },
      "text/plain": [
       "Generate report structure:   0%|          | 0/1 [00:00<?, ?it/s]"
      ]
     },
     "metadata": {},
     "output_type": "display_data"
    },
    {
     "data": {
      "application/vnd.jupyter.widget-view+json": {
       "model_id": "f13992a252fe462ab8c3886eba51477d",
       "version_major": 2,
       "version_minor": 0
      },
      "text/plain": [
       "Render HTML:   0%|          | 0/1 [00:00<?, ?it/s]"
      ]
     },
     "metadata": {},
     "output_type": "display_data"
    },
    {
     "data": {
      "application/vnd.jupyter.widget-view+json": {
       "model_id": "4b4ee08e4be9476a91025a6ea8a2ca84",
       "version_major": 2,
       "version_minor": 0
      },
      "text/plain": [
       "Export report to file:   0%|          | 0/1 [00:00<?, ?it/s]"
      ]
     },
     "metadata": {},
     "output_type": "display_data"
    }
   ],
   "source": [
    "# Exploración más exhaustiva con el flag \"explorative\"\n",
    "profile_2 = ProfileReport(df, title=\"Pandas Profiling Report EDA\", explorative=True)\n",
    "profile_2.to_file(\"../recursos/titanic_report_2.html\")\n"
   ]
  },
  {
   "cell_type": "code",
   "execution_count": 9,
   "metadata": {},
   "outputs": [],
   "source": [
    "# Abrir el reporte 2 en el browser\n",
    "open_html_report(\"../recursos/titanic_report_2.html\")"
   ]
  },
  {
   "cell_type": "markdown",
   "metadata": {},
   "source": [
    "### 2. EDA automático con biblioteca sweetviz"
   ]
  },
  {
   "cell_type": "code",
   "execution_count": 10,
   "metadata": {},
   "outputs": [],
   "source": [
    "import sweetviz as sv"
   ]
  },
  {
   "cell_type": "code",
   "execution_count": 11,
   "metadata": {},
   "outputs": [
    {
     "data": {
      "application/vnd.jupyter.widget-view+json": {
       "model_id": "57b7a4dc92ee4096b781956b4e317432",
       "version_major": 2,
       "version_minor": 0
      },
      "text/plain": [
       "                                             |          | [  0%]   00:00 -> (? left)"
      ]
     },
     "metadata": {},
     "output_type": "display_data"
    },
    {
     "name": "stdout",
     "output_type": "stream",
     "text": [
      "Report ../recursos/sweetviz_report.html was generated! NOTEBOOK/COLAB USERS: the web browser MAY not pop up, regardless, the report IS saved in your notebook/colab files.\n"
     ]
    }
   ],
   "source": [
    "sv.analyze(df).show_html(\"../recursos/sweetviz_report.html\")"
   ]
  },
  {
   "cell_type": "code",
   "execution_count": 12,
   "metadata": {},
   "outputs": [
    {
     "data": {
      "application/vnd.jupyter.widget-view+json": {
       "model_id": "90eb0028a8244e14a665987805d7c5f4",
       "version_major": 2,
       "version_minor": 0
      },
      "text/plain": [
       "                                             |          | [  0%]   00:00 -> (? left)"
      ]
     },
     "metadata": {},
     "output_type": "display_data"
    },
    {
     "name": "stdout",
     "output_type": "stream",
     "text": [
      "Report ../recursos/sweetviz_comparacion.html was generated! NOTEBOOK/COLAB USERS: the web browser MAY not pop up, regardless, the report IS saved in your notebook/colab files.\n"
     ]
    }
   ],
   "source": [
    "# Comparar 2 datasets (por ejemplo Train y Test)\n",
    "\n",
    "train_df, test_df = train_test_split(df, test_size=0.2, random_state=42)\n",
    "\n",
    "# Generar el reporte de comparación\n",
    "comparacion = sv.compare([train_df, \"Train\"], [test_df, \"Test\"])\n",
    "\n",
    "# Guardar el reporte HTML\n",
    "comparacion.show_html(\"../recursos/sweetviz_comparacion.html\")\n"
   ]
  },
  {
   "cell_type": "markdown",
   "metadata": {},
   "source": [
    "### 3. Bibliotecas de Auto-ML"
   ]
  },
  {
   "cell_type": "markdown",
   "metadata": {},
   "source": [
    "### Pycaret"
   ]
  },
  {
   "cell_type": "code",
   "execution_count": 13,
   "metadata": {},
   "outputs": [],
   "source": [
    "# Por ejemplo en preparación para un modelo de clasificación\n",
    "from pycaret.classification import *\n"
   ]
  },
  {
   "cell_type": "code",
   "execution_count": 14,
   "metadata": {},
   "outputs": [
    {
     "data": {
      "text/plain": [
       "{'divide': 'raise', 'over': 'raise', 'under': 'raise', 'invalid': 'raise'}"
      ]
     },
     "execution_count": 14,
     "metadata": {},
     "output_type": "execute_result"
    }
   ],
   "source": [
    "import numpy as np\n",
    "np.seterr(all='ignore')"
   ]
  },
  {
   "cell_type": "code",
   "execution_count": 15,
   "metadata": {},
   "outputs": [
    {
     "name": "stdout",
     "output_type": "stream",
     "text": [
      "<class 'pandas.core.frame.DataFrame'>\n",
      "RangeIndex: 891 entries, 0 to 890\n",
      "Data columns (total 15 columns):\n",
      " #   Column       Non-Null Count  Dtype   \n",
      "---  ------       --------------  -----   \n",
      " 0   survived     891 non-null    int64   \n",
      " 1   pclass       891 non-null    int64   \n",
      " 2   sex          891 non-null    object  \n",
      " 3   age          714 non-null    float64 \n",
      " 4   sibsp        891 non-null    int64   \n",
      " 5   parch        891 non-null    int64   \n",
      " 6   fare         891 non-null    float64 \n",
      " 7   embarked     889 non-null    object  \n",
      " 8   class        891 non-null    category\n",
      " 9   who          891 non-null    object  \n",
      " 10  adult_male   891 non-null    bool    \n",
      " 11  deck         203 non-null    category\n",
      " 12  embark_town  889 non-null    object  \n",
      " 13  alive        891 non-null    object  \n",
      " 14  alone        891 non-null    bool    \n",
      "dtypes: bool(2), category(2), float64(2), int64(4), object(5)\n",
      "memory usage: 80.7+ KB\n"
     ]
    }
   ],
   "source": [
    "df.info()"
   ]
  },
  {
   "cell_type": "code",
   "execution_count": 16,
   "metadata": {},
   "outputs": [],
   "source": [
    "# Convertir los objetos a string\n",
    "for col in df.select_dtypes(include='object').columns:\n",
    "    df[col] = df[col].astype(str)\n",
    "\n",
    "# Convertir pclass a string \n",
    "df['pclass'] = df['pclass'].astype(str)\n",
    "\n",
    "# Ensure numerical columns are float64\n",
    "df[['age', 'fare']] = df[['age', 'fare']].astype('float64')"
   ]
  },
  {
   "cell_type": "code",
   "execution_count": 17,
   "metadata": {},
   "outputs": [
    {
     "data": {
      "text/html": [
       "<style type=\"text/css\">\n",
       "#T_78805_row12_col1, #T_78805_row18_col1 {\n",
       "  background-color: lightgreen;\n",
       "}\n",
       "</style>\n",
       "<table id=\"T_78805\">\n",
       "  <thead>\n",
       "    <tr>\n",
       "      <th class=\"blank level0\" >&nbsp;</th>\n",
       "      <th id=\"T_78805_level0_col0\" class=\"col_heading level0 col0\" >Description</th>\n",
       "      <th id=\"T_78805_level0_col1\" class=\"col_heading level0 col1\" >Value</th>\n",
       "    </tr>\n",
       "  </thead>\n",
       "  <tbody>\n",
       "    <tr>\n",
       "      <th id=\"T_78805_level0_row0\" class=\"row_heading level0 row0\" >0</th>\n",
       "      <td id=\"T_78805_row0_col0\" class=\"data row0 col0\" >Session id</td>\n",
       "      <td id=\"T_78805_row0_col1\" class=\"data row0 col1\" >123</td>\n",
       "    </tr>\n",
       "    <tr>\n",
       "      <th id=\"T_78805_level0_row1\" class=\"row_heading level0 row1\" >1</th>\n",
       "      <td id=\"T_78805_row1_col0\" class=\"data row1 col0\" >Target</td>\n",
       "      <td id=\"T_78805_row1_col1\" class=\"data row1 col1\" >survived</td>\n",
       "    </tr>\n",
       "    <tr>\n",
       "      <th id=\"T_78805_level0_row2\" class=\"row_heading level0 row2\" >2</th>\n",
       "      <td id=\"T_78805_row2_col0\" class=\"data row2 col0\" >Target type</td>\n",
       "      <td id=\"T_78805_row2_col1\" class=\"data row2 col1\" >Binary</td>\n",
       "    </tr>\n",
       "    <tr>\n",
       "      <th id=\"T_78805_level0_row3\" class=\"row_heading level0 row3\" >3</th>\n",
       "      <td id=\"T_78805_row3_col0\" class=\"data row3 col0\" >Original data shape</td>\n",
       "      <td id=\"T_78805_row3_col1\" class=\"data row3 col1\" >(891, 15)</td>\n",
       "    </tr>\n",
       "    <tr>\n",
       "      <th id=\"T_78805_level0_row4\" class=\"row_heading level0 row4\" >4</th>\n",
       "      <td id=\"T_78805_row4_col0\" class=\"data row4 col0\" >Transformed data shape</td>\n",
       "      <td id=\"T_78805_row4_col1\" class=\"data row4 col1\" >(884, 9)</td>\n",
       "    </tr>\n",
       "    <tr>\n",
       "      <th id=\"T_78805_level0_row5\" class=\"row_heading level0 row5\" >5</th>\n",
       "      <td id=\"T_78805_row5_col0\" class=\"data row5 col0\" >Transformed train set shape</td>\n",
       "      <td id=\"T_78805_row5_col1\" class=\"data row5 col1\" >(616, 9)</td>\n",
       "    </tr>\n",
       "    <tr>\n",
       "      <th id=\"T_78805_level0_row6\" class=\"row_heading level0 row6\" >6</th>\n",
       "      <td id=\"T_78805_row6_col0\" class=\"data row6 col0\" >Transformed test set shape</td>\n",
       "      <td id=\"T_78805_row6_col1\" class=\"data row6 col1\" >(268, 9)</td>\n",
       "    </tr>\n",
       "    <tr>\n",
       "      <th id=\"T_78805_level0_row7\" class=\"row_heading level0 row7\" >7</th>\n",
       "      <td id=\"T_78805_row7_col0\" class=\"data row7 col0\" >Ignore features</td>\n",
       "      <td id=\"T_78805_row7_col1\" class=\"data row7 col1\" >9</td>\n",
       "    </tr>\n",
       "    <tr>\n",
       "      <th id=\"T_78805_level0_row8\" class=\"row_heading level0 row8\" >8</th>\n",
       "      <td id=\"T_78805_row8_col0\" class=\"data row8 col0\" >Ordinal features</td>\n",
       "      <td id=\"T_78805_row8_col1\" class=\"data row8 col1\" >1</td>\n",
       "    </tr>\n",
       "    <tr>\n",
       "      <th id=\"T_78805_level0_row9\" class=\"row_heading level0 row9\" >9</th>\n",
       "      <td id=\"T_78805_row9_col0\" class=\"data row9 col0\" >Numeric features</td>\n",
       "      <td id=\"T_78805_row9_col1\" class=\"data row9 col1\" >2</td>\n",
       "    </tr>\n",
       "    <tr>\n",
       "      <th id=\"T_78805_level0_row10\" class=\"row_heading level0 row10\" >10</th>\n",
       "      <td id=\"T_78805_row10_col0\" class=\"data row10 col0\" >Categorical features</td>\n",
       "      <td id=\"T_78805_row10_col1\" class=\"data row10 col1\" >2</td>\n",
       "    </tr>\n",
       "    <tr>\n",
       "      <th id=\"T_78805_level0_row11\" class=\"row_heading level0 row11\" >11</th>\n",
       "      <td id=\"T_78805_row11_col0\" class=\"data row11 col0\" >Rows with missing values</td>\n",
       "      <td id=\"T_78805_row11_col1\" class=\"data row11 col1\" >79.3%</td>\n",
       "    </tr>\n",
       "    <tr>\n",
       "      <th id=\"T_78805_level0_row12\" class=\"row_heading level0 row12\" >12</th>\n",
       "      <td id=\"T_78805_row12_col0\" class=\"data row12 col0\" >Preprocess</td>\n",
       "      <td id=\"T_78805_row12_col1\" class=\"data row12 col1\" >True</td>\n",
       "    </tr>\n",
       "    <tr>\n",
       "      <th id=\"T_78805_level0_row13\" class=\"row_heading level0 row13\" >13</th>\n",
       "      <td id=\"T_78805_row13_col0\" class=\"data row13 col0\" >Imputation type</td>\n",
       "      <td id=\"T_78805_row13_col1\" class=\"data row13 col1\" >simple</td>\n",
       "    </tr>\n",
       "    <tr>\n",
       "      <th id=\"T_78805_level0_row14\" class=\"row_heading level0 row14\" >14</th>\n",
       "      <td id=\"T_78805_row14_col0\" class=\"data row14 col0\" >Numeric imputation</td>\n",
       "      <td id=\"T_78805_row14_col1\" class=\"data row14 col1\" >mean</td>\n",
       "    </tr>\n",
       "    <tr>\n",
       "      <th id=\"T_78805_level0_row15\" class=\"row_heading level0 row15\" >15</th>\n",
       "      <td id=\"T_78805_row15_col0\" class=\"data row15 col0\" >Categorical imputation</td>\n",
       "      <td id=\"T_78805_row15_col1\" class=\"data row15 col1\" >mode</td>\n",
       "    </tr>\n",
       "    <tr>\n",
       "      <th id=\"T_78805_level0_row16\" class=\"row_heading level0 row16\" >16</th>\n",
       "      <td id=\"T_78805_row16_col0\" class=\"data row16 col0\" >Maximum one-hot encoding</td>\n",
       "      <td id=\"T_78805_row16_col1\" class=\"data row16 col1\" >25</td>\n",
       "    </tr>\n",
       "    <tr>\n",
       "      <th id=\"T_78805_level0_row17\" class=\"row_heading level0 row17\" >17</th>\n",
       "      <td id=\"T_78805_row17_col0\" class=\"data row17 col0\" >Encoding method</td>\n",
       "      <td id=\"T_78805_row17_col1\" class=\"data row17 col1\" >None</td>\n",
       "    </tr>\n",
       "    <tr>\n",
       "      <th id=\"T_78805_level0_row18\" class=\"row_heading level0 row18\" >18</th>\n",
       "      <td id=\"T_78805_row18_col0\" class=\"data row18 col0\" >Remove outliers</td>\n",
       "      <td id=\"T_78805_row18_col1\" class=\"data row18 col1\" >True</td>\n",
       "    </tr>\n",
       "    <tr>\n",
       "      <th id=\"T_78805_level0_row19\" class=\"row_heading level0 row19\" >19</th>\n",
       "      <td id=\"T_78805_row19_col0\" class=\"data row19 col0\" >Outliers threshold</td>\n",
       "      <td id=\"T_78805_row19_col1\" class=\"data row19 col1\" >0.010000</td>\n",
       "    </tr>\n",
       "    <tr>\n",
       "      <th id=\"T_78805_level0_row20\" class=\"row_heading level0 row20\" >20</th>\n",
       "      <td id=\"T_78805_row20_col0\" class=\"data row20 col0\" >Fold Generator</td>\n",
       "      <td id=\"T_78805_row20_col1\" class=\"data row20 col1\" >StratifiedKFold</td>\n",
       "    </tr>\n",
       "    <tr>\n",
       "      <th id=\"T_78805_level0_row21\" class=\"row_heading level0 row21\" >21</th>\n",
       "      <td id=\"T_78805_row21_col0\" class=\"data row21 col0\" >Fold Number</td>\n",
       "      <td id=\"T_78805_row21_col1\" class=\"data row21 col1\" >10</td>\n",
       "    </tr>\n",
       "    <tr>\n",
       "      <th id=\"T_78805_level0_row22\" class=\"row_heading level0 row22\" >22</th>\n",
       "      <td id=\"T_78805_row22_col0\" class=\"data row22 col0\" >CPU Jobs</td>\n",
       "      <td id=\"T_78805_row22_col1\" class=\"data row22 col1\" >-1</td>\n",
       "    </tr>\n",
       "    <tr>\n",
       "      <th id=\"T_78805_level0_row23\" class=\"row_heading level0 row23\" >23</th>\n",
       "      <td id=\"T_78805_row23_col0\" class=\"data row23 col0\" >Use GPU</td>\n",
       "      <td id=\"T_78805_row23_col1\" class=\"data row23 col1\" >False</td>\n",
       "    </tr>\n",
       "    <tr>\n",
       "      <th id=\"T_78805_level0_row24\" class=\"row_heading level0 row24\" >24</th>\n",
       "      <td id=\"T_78805_row24_col0\" class=\"data row24 col0\" >Log Experiment</td>\n",
       "      <td id=\"T_78805_row24_col1\" class=\"data row24 col1\" >False</td>\n",
       "    </tr>\n",
       "    <tr>\n",
       "      <th id=\"T_78805_level0_row25\" class=\"row_heading level0 row25\" >25</th>\n",
       "      <td id=\"T_78805_row25_col0\" class=\"data row25 col0\" >Experiment Name</td>\n",
       "      <td id=\"T_78805_row25_col1\" class=\"data row25 col1\" >clf-default-name</td>\n",
       "    </tr>\n",
       "    <tr>\n",
       "      <th id=\"T_78805_level0_row26\" class=\"row_heading level0 row26\" >26</th>\n",
       "      <td id=\"T_78805_row26_col0\" class=\"data row26 col0\" >USI</td>\n",
       "      <td id=\"T_78805_row26_col1\" class=\"data row26 col1\" >bf81</td>\n",
       "    </tr>\n",
       "  </tbody>\n",
       "</table>\n"
      ],
      "text/plain": [
       "<pandas.io.formats.style.Styler at 0x17e73d390>"
      ]
     },
     "metadata": {},
     "output_type": "display_data"
    },
    {
     "name": "stdout",
     "output_type": "stream",
     "text": [
      "Datos preprocesados:\n",
      "     pclass  sex        age    fare  embark_town_Southampton  \\\n",
      "199     1.0  0.0  24.000000  13.000                      1.0   \n",
      "468     0.0  1.0  28.941458   7.725                      0.0   \n",
      "198     0.0  0.0  28.941458   7.750                      0.0   \n",
      "574     0.0  1.0  16.000000   8.050                      1.0   \n",
      "776     0.0  1.0  28.941458   7.750                      0.0   \n",
      "\n",
      "     embark_town_Queenstown  embark_town_Cherbourg  embark_town_nan  survived  \n",
      "199                     0.0                    0.0              0.0         0  \n",
      "468                     1.0                    0.0              0.0         0  \n",
      "198                     1.0                    0.0              0.0         1  \n",
      "574                     0.0                    0.0              0.0         0  \n",
      "776                     1.0                    0.0              0.0         0  \n",
      "Dimensiones del dataset preprocesado: (884, 9)\n",
      "Nulos: 0\n"
     ]
    }
   ],
   "source": [
    "# Setup de Pycaret\n",
    "s = setup(\n",
    "    data=df,\n",
    "    target='survived',\n",
    "    session_id=123,\n",
    "    preprocess=True,\n",
    "    normalize=False,\n",
    "    normalize_method='minmax', # 'zscore' (StandardScaler) o'minmax'\n",
    "    remove_outliers=True,\n",
    "    outliers_threshold=0.01,\n",
    "    ordinal_features={'pclass': ['3', '2', '1']},\n",
    "    categorical_features=['sex', 'embark_town'],\n",
    "    ignore_features=['parch', 'alive', 'alone', 'who', 'adult_male', 'embarked', 'class', 'sibsp', 'deck'],\n",
    "    categorical_imputation='mode',\n",
    "    numeric_imputation='mean',\n",
    "    verbose=True,  # set to True to catch any internal errors\n",
    ")\n",
    "\n",
    "# Cargamos los datos preprocesados\n",
    "dataset_transf = get_config('dataset_transformed')\n",
    "\n",
    "print(\"Datos preprocesados:\")\n",
    "print(dataset_transf.head())\n",
    "print(f\"Dimensiones del dataset preprocesado: {dataset_transf.shape}\")\n",
    "print(f\"Nulos: {dataset_transf.isnull().sum().sum()}\")\n"
   ]
  },
  {
   "cell_type": "code",
   "execution_count": 18,
   "metadata": {},
   "outputs": [
    {
     "name": "stdout",
     "output_type": "stream",
     "text": [
      "<class 'pandas.core.frame.DataFrame'>\n",
      "Index: 884 entries, 199 to 779\n",
      "Data columns (total 9 columns):\n",
      " #   Column                   Non-Null Count  Dtype  \n",
      "---  ------                   --------------  -----  \n",
      " 0   pclass                   884 non-null    float64\n",
      " 1   sex                      884 non-null    float64\n",
      " 2   age                      884 non-null    float32\n",
      " 3   fare                     884 non-null    float32\n",
      " 4   embark_town_Southampton  884 non-null    float64\n",
      " 5   embark_town_Queenstown   884 non-null    float64\n",
      " 6   embark_town_Cherbourg    884 non-null    float64\n",
      " 7   embark_town_nan          884 non-null    float64\n",
      " 8   survived                 884 non-null    int8   \n",
      "dtypes: float32(2), float64(6), int8(1)\n",
      "memory usage: 56.1 KB\n"
     ]
    }
   ],
   "source": [
    "dataset_transf.info()"
   ]
  },
  {
   "cell_type": "markdown",
   "metadata": {},
   "source": [
    "#### ¿Cómo seguiría el proceso? (Tomado de la documentación de Pycaret: https://github.com/pycaret/pycaret?tab=readme-ov-file#1-functional-api)\n"
   ]
  },
  {
   "cell_type": "code",
   "execution_count": 19,
   "metadata": {},
   "outputs": [
    {
     "data": {
      "text/html": [],
      "text/plain": [
       "<IPython.core.display.HTML object>"
      ]
     },
     "metadata": {},
     "output_type": "display_data"
    },
    {
     "data": {
      "text/html": [
       "<style type=\"text/css\">\n",
       "#T_7a856 th {\n",
       "  text-align: left;\n",
       "}\n",
       "#T_7a856_row0_col0, #T_7a856_row0_col2, #T_7a856_row0_col3, #T_7a856_row1_col0, #T_7a856_row1_col1, #T_7a856_row1_col2, #T_7a856_row1_col3, #T_7a856_row1_col4, #T_7a856_row1_col5, #T_7a856_row1_col6, #T_7a856_row1_col7, #T_7a856_row2_col0, #T_7a856_row2_col1, #T_7a856_row2_col3, #T_7a856_row2_col4, #T_7a856_row2_col5, #T_7a856_row2_col6, #T_7a856_row2_col7, #T_7a856_row3_col0, #T_7a856_row3_col1, #T_7a856_row3_col2, #T_7a856_row3_col3, #T_7a856_row3_col4, #T_7a856_row3_col5, #T_7a856_row3_col6, #T_7a856_row3_col7, #T_7a856_row4_col0, #T_7a856_row4_col1, #T_7a856_row4_col2, #T_7a856_row4_col3, #T_7a856_row4_col4, #T_7a856_row4_col5, #T_7a856_row4_col6, #T_7a856_row4_col7, #T_7a856_row5_col0, #T_7a856_row5_col1, #T_7a856_row5_col2, #T_7a856_row5_col3, #T_7a856_row5_col4, #T_7a856_row5_col5, #T_7a856_row5_col6, #T_7a856_row5_col7, #T_7a856_row6_col0, #T_7a856_row6_col1, #T_7a856_row6_col2, #T_7a856_row6_col3, #T_7a856_row6_col4, #T_7a856_row6_col5, #T_7a856_row6_col6, #T_7a856_row6_col7, #T_7a856_row7_col0, #T_7a856_row7_col1, #T_7a856_row7_col2, #T_7a856_row7_col3, #T_7a856_row7_col4, #T_7a856_row7_col5, #T_7a856_row7_col6, #T_7a856_row7_col7, #T_7a856_row8_col0, #T_7a856_row8_col1, #T_7a856_row8_col2, #T_7a856_row8_col4, #T_7a856_row8_col5, #T_7a856_row8_col6, #T_7a856_row8_col7, #T_7a856_row9_col0, #T_7a856_row9_col1, #T_7a856_row9_col2, #T_7a856_row9_col3, #T_7a856_row9_col4, #T_7a856_row9_col5, #T_7a856_row9_col6, #T_7a856_row9_col7, #T_7a856_row10_col0, #T_7a856_row10_col1, #T_7a856_row10_col2, #T_7a856_row10_col3, #T_7a856_row10_col4, #T_7a856_row10_col5, #T_7a856_row10_col6, #T_7a856_row10_col7, #T_7a856_row11_col0, #T_7a856_row11_col1, #T_7a856_row11_col2, #T_7a856_row11_col3, #T_7a856_row11_col4, #T_7a856_row11_col5, #T_7a856_row11_col6, #T_7a856_row11_col7, #T_7a856_row12_col0, #T_7a856_row12_col1, #T_7a856_row12_col2, #T_7a856_row12_col3, #T_7a856_row12_col4, #T_7a856_row12_col5, #T_7a856_row12_col6, #T_7a856_row12_col7, #T_7a856_row13_col0, #T_7a856_row13_col1, #T_7a856_row13_col2, #T_7a856_row13_col3, #T_7a856_row13_col4, #T_7a856_row13_col5, #T_7a856_row13_col6, #T_7a856_row13_col7 {\n",
       "  text-align: left;\n",
       "}\n",
       "#T_7a856_row0_col1, #T_7a856_row0_col4, #T_7a856_row0_col5, #T_7a856_row0_col6, #T_7a856_row0_col7, #T_7a856_row2_col2, #T_7a856_row8_col3 {\n",
       "  text-align: left;\n",
       "  background-color: yellow;\n",
       "}\n",
       "#T_7a856_row0_col8, #T_7a856_row1_col8, #T_7a856_row2_col8, #T_7a856_row3_col8, #T_7a856_row4_col8, #T_7a856_row5_col8, #T_7a856_row6_col8, #T_7a856_row7_col8, #T_7a856_row8_col8, #T_7a856_row9_col8, #T_7a856_row10_col8, #T_7a856_row12_col8, #T_7a856_row13_col8 {\n",
       "  text-align: left;\n",
       "  background-color: lightgrey;\n",
       "}\n",
       "#T_7a856_row11_col8 {\n",
       "  text-align: left;\n",
       "  background-color: yellow;\n",
       "  background-color: lightgrey;\n",
       "}\n",
       "</style>\n",
       "<table id=\"T_7a856\">\n",
       "  <thead>\n",
       "    <tr>\n",
       "      <th class=\"blank level0\" >&nbsp;</th>\n",
       "      <th id=\"T_7a856_level0_col0\" class=\"col_heading level0 col0\" >Model</th>\n",
       "      <th id=\"T_7a856_level0_col1\" class=\"col_heading level0 col1\" >Accuracy</th>\n",
       "      <th id=\"T_7a856_level0_col2\" class=\"col_heading level0 col2\" >AUC</th>\n",
       "      <th id=\"T_7a856_level0_col3\" class=\"col_heading level0 col3\" >Recall</th>\n",
       "      <th id=\"T_7a856_level0_col4\" class=\"col_heading level0 col4\" >Prec.</th>\n",
       "      <th id=\"T_7a856_level0_col5\" class=\"col_heading level0 col5\" >F1</th>\n",
       "      <th id=\"T_7a856_level0_col6\" class=\"col_heading level0 col6\" >Kappa</th>\n",
       "      <th id=\"T_7a856_level0_col7\" class=\"col_heading level0 col7\" >MCC</th>\n",
       "      <th id=\"T_7a856_level0_col8\" class=\"col_heading level0 col8\" >TT (Sec)</th>\n",
       "    </tr>\n",
       "  </thead>\n",
       "  <tbody>\n",
       "    <tr>\n",
       "      <th id=\"T_7a856_level0_row0\" class=\"row_heading level0 row0\" >gbc</th>\n",
       "      <td id=\"T_7a856_row0_col0\" class=\"data row0 col0\" >Gradient Boosting Classifier</td>\n",
       "      <td id=\"T_7a856_row0_col1\" class=\"data row0 col1\" >0.8250</td>\n",
       "      <td id=\"T_7a856_row0_col2\" class=\"data row0 col2\" >0.8429</td>\n",
       "      <td id=\"T_7a856_row0_col3\" class=\"data row0 col3\" >0.7152</td>\n",
       "      <td id=\"T_7a856_row0_col4\" class=\"data row0 col4\" >0.8085</td>\n",
       "      <td id=\"T_7a856_row0_col5\" class=\"data row0 col5\" >0.7570</td>\n",
       "      <td id=\"T_7a856_row0_col6\" class=\"data row0 col6\" >0.6213</td>\n",
       "      <td id=\"T_7a856_row0_col7\" class=\"data row0 col7\" >0.6259</td>\n",
       "      <td id=\"T_7a856_row0_col8\" class=\"data row0 col8\" >0.0330</td>\n",
       "    </tr>\n",
       "    <tr>\n",
       "      <th id=\"T_7a856_level0_row1\" class=\"row_heading level0 row1\" >rf</th>\n",
       "      <td id=\"T_7a856_row1_col0\" class=\"data row1 col0\" >Random Forest Classifier</td>\n",
       "      <td id=\"T_7a856_row1_col1\" class=\"data row1 col1\" >0.8073</td>\n",
       "      <td id=\"T_7a856_row1_col2\" class=\"data row1 col2\" >0.8447</td>\n",
       "      <td id=\"T_7a856_row1_col3\" class=\"data row1 col3\" >0.7150</td>\n",
       "      <td id=\"T_7a856_row1_col4\" class=\"data row1 col4\" >0.7726</td>\n",
       "      <td id=\"T_7a856_row1_col5\" class=\"data row1 col5\" >0.7386</td>\n",
       "      <td id=\"T_7a856_row1_col6\" class=\"data row1 col6\" >0.5867</td>\n",
       "      <td id=\"T_7a856_row1_col7\" class=\"data row1 col7\" >0.5915</td>\n",
       "      <td id=\"T_7a856_row1_col8\" class=\"data row1 col8\" >0.0490</td>\n",
       "    </tr>\n",
       "    <tr>\n",
       "      <th id=\"T_7a856_level0_row2\" class=\"row_heading level0 row2\" >lr</th>\n",
       "      <td id=\"T_7a856_row2_col0\" class=\"data row2 col0\" >Logistic Regression</td>\n",
       "      <td id=\"T_7a856_row2_col1\" class=\"data row2 col1\" >0.8024</td>\n",
       "      <td id=\"T_7a856_row2_col2\" class=\"data row2 col2\" >0.8495</td>\n",
       "      <td id=\"T_7a856_row2_col3\" class=\"data row2 col3\" >0.7239</td>\n",
       "      <td id=\"T_7a856_row2_col4\" class=\"data row2 col4\" >0.7571</td>\n",
       "      <td id=\"T_7a856_row2_col5\" class=\"data row2 col5\" >0.7355</td>\n",
       "      <td id=\"T_7a856_row2_col6\" class=\"data row2 col6\" >0.5786</td>\n",
       "      <td id=\"T_7a856_row2_col7\" class=\"data row2 col7\" >0.5835</td>\n",
       "      <td id=\"T_7a856_row2_col8\" class=\"data row2 col8\" >0.3090</td>\n",
       "    </tr>\n",
       "    <tr>\n",
       "      <th id=\"T_7a856_level0_row3\" class=\"row_heading level0 row3\" >lightgbm</th>\n",
       "      <td id=\"T_7a856_row3_col0\" class=\"data row3 col0\" >Light Gradient Boosting Machine</td>\n",
       "      <td id=\"T_7a856_row3_col1\" class=\"data row3 col1\" >0.8024</td>\n",
       "      <td id=\"T_7a856_row3_col2\" class=\"data row3 col2\" >0.8421</td>\n",
       "      <td id=\"T_7a856_row3_col3\" class=\"data row3 col3\" >0.7025</td>\n",
       "      <td id=\"T_7a856_row3_col4\" class=\"data row3 col4\" >0.7673</td>\n",
       "      <td id=\"T_7a856_row3_col5\" class=\"data row3 col5\" >0.7299</td>\n",
       "      <td id=\"T_7a856_row3_col6\" class=\"data row3 col6\" >0.5751</td>\n",
       "      <td id=\"T_7a856_row3_col7\" class=\"data row3 col7\" >0.5796</td>\n",
       "      <td id=\"T_7a856_row3_col8\" class=\"data row3 col8\" >0.2890</td>\n",
       "    </tr>\n",
       "    <tr>\n",
       "      <th id=\"T_7a856_level0_row4\" class=\"row_heading level0 row4\" >ridge</th>\n",
       "      <td id=\"T_7a856_row4_col0\" class=\"data row4 col0\" >Ridge Classifier</td>\n",
       "      <td id=\"T_7a856_row4_col1\" class=\"data row4 col1\" >0.7992</td>\n",
       "      <td id=\"T_7a856_row4_col2\" class=\"data row4 col2\" >0.8492</td>\n",
       "      <td id=\"T_7a856_row4_col3\" class=\"data row4 col3\" >0.7029</td>\n",
       "      <td id=\"T_7a856_row4_col4\" class=\"data row4 col4\" >0.7587</td>\n",
       "      <td id=\"T_7a856_row4_col5\" class=\"data row4 col5\" >0.7266</td>\n",
       "      <td id=\"T_7a856_row4_col6\" class=\"data row4 col6\" >0.5688</td>\n",
       "      <td id=\"T_7a856_row4_col7\" class=\"data row4 col7\" >0.5724</td>\n",
       "      <td id=\"T_7a856_row4_col8\" class=\"data row4 col8\" >0.0220</td>\n",
       "    </tr>\n",
       "    <tr>\n",
       "      <th id=\"T_7a856_level0_row5\" class=\"row_heading level0 row5\" >ada</th>\n",
       "      <td id=\"T_7a856_row5_col0\" class=\"data row5 col0\" >Ada Boost Classifier</td>\n",
       "      <td id=\"T_7a856_row5_col1\" class=\"data row5 col1\" >0.7992</td>\n",
       "      <td id=\"T_7a856_row5_col2\" class=\"data row5 col2\" >0.8371</td>\n",
       "      <td id=\"T_7a856_row5_col3\" class=\"data row5 col3\" >0.7199</td>\n",
       "      <td id=\"T_7a856_row5_col4\" class=\"data row5 col4\" >0.7525</td>\n",
       "      <td id=\"T_7a856_row5_col5\" class=\"data row5 col5\" >0.7327</td>\n",
       "      <td id=\"T_7a856_row5_col6\" class=\"data row5 col6\" >0.5724</td>\n",
       "      <td id=\"T_7a856_row5_col7\" class=\"data row5 col7\" >0.5757</td>\n",
       "      <td id=\"T_7a856_row5_col8\" class=\"data row5 col8\" >0.0330</td>\n",
       "    </tr>\n",
       "    <tr>\n",
       "      <th id=\"T_7a856_level0_row6\" class=\"row_heading level0 row6\" >lda</th>\n",
       "      <td id=\"T_7a856_row6_col0\" class=\"data row6 col0\" >Linear Discriminant Analysis</td>\n",
       "      <td id=\"T_7a856_row6_col1\" class=\"data row6 col1\" >0.7976</td>\n",
       "      <td id=\"T_7a856_row6_col2\" class=\"data row6 col2\" >0.8492</td>\n",
       "      <td id=\"T_7a856_row6_col3\" class=\"data row6 col3\" >0.7029</td>\n",
       "      <td id=\"T_7a856_row6_col4\" class=\"data row6 col4\" >0.7562</td>\n",
       "      <td id=\"T_7a856_row6_col5\" class=\"data row6 col5\" >0.7253</td>\n",
       "      <td id=\"T_7a856_row6_col6\" class=\"data row6 col6\" >0.5659</td>\n",
       "      <td id=\"T_7a856_row6_col7\" class=\"data row6 col7\" >0.5696</td>\n",
       "      <td id=\"T_7a856_row6_col8\" class=\"data row6 col8\" >0.0220</td>\n",
       "    </tr>\n",
       "    <tr>\n",
       "      <th id=\"T_7a856_level0_row7\" class=\"row_heading level0 row7\" >et</th>\n",
       "      <td id=\"T_7a856_row7_col0\" class=\"data row7 col0\" >Extra Trees Classifier</td>\n",
       "      <td id=\"T_7a856_row7_col1\" class=\"data row7 col1\" >0.7945</td>\n",
       "      <td id=\"T_7a856_row7_col2\" class=\"data row7 col2\" >0.8309</td>\n",
       "      <td id=\"T_7a856_row7_col3\" class=\"data row7 col3\" >0.7025</td>\n",
       "      <td id=\"T_7a856_row7_col4\" class=\"data row7 col4\" >0.7526</td>\n",
       "      <td id=\"T_7a856_row7_col5\" class=\"data row7 col5\" >0.7236</td>\n",
       "      <td id=\"T_7a856_row7_col6\" class=\"data row7 col6\" >0.5606</td>\n",
       "      <td id=\"T_7a856_row7_col7\" class=\"data row7 col7\" >0.5642</td>\n",
       "      <td id=\"T_7a856_row7_col8\" class=\"data row7 col8\" >0.0470</td>\n",
       "    </tr>\n",
       "    <tr>\n",
       "      <th id=\"T_7a856_level0_row8\" class=\"row_heading level0 row8\" >nb</th>\n",
       "      <td id=\"T_7a856_row8_col0\" class=\"data row8 col0\" >Naive Bayes</td>\n",
       "      <td id=\"T_7a856_row8_col1\" class=\"data row8 col1\" >0.7784</td>\n",
       "      <td id=\"T_7a856_row8_col2\" class=\"data row8 col2\" >0.8197</td>\n",
       "      <td id=\"T_7a856_row8_col3\" class=\"data row8 col3\" >0.7366</td>\n",
       "      <td id=\"T_7a856_row8_col4\" class=\"data row8 col4\" >0.7097</td>\n",
       "      <td id=\"T_7a856_row8_col5\" class=\"data row8 col5\" >0.7166</td>\n",
       "      <td id=\"T_7a856_row8_col6\" class=\"data row8 col6\" >0.5358</td>\n",
       "      <td id=\"T_7a856_row8_col7\" class=\"data row8 col7\" >0.5432</td>\n",
       "      <td id=\"T_7a856_row8_col8\" class=\"data row8 col8\" >0.0230</td>\n",
       "    </tr>\n",
       "    <tr>\n",
       "      <th id=\"T_7a856_level0_row9\" class=\"row_heading level0 row9\" >dt</th>\n",
       "      <td id=\"T_7a856_row9_col0\" class=\"data row9 col0\" >Decision Tree Classifier</td>\n",
       "      <td id=\"T_7a856_row9_col1\" class=\"data row9 col1\" >0.7544</td>\n",
       "      <td id=\"T_7a856_row9_col2\" class=\"data row9 col2\" >0.7349</td>\n",
       "      <td id=\"T_7a856_row9_col3\" class=\"data row9 col3\" >0.6696</td>\n",
       "      <td id=\"T_7a856_row9_col4\" class=\"data row9 col4\" >0.6849</td>\n",
       "      <td id=\"T_7a856_row9_col5\" class=\"data row9 col5\" >0.6747</td>\n",
       "      <td id=\"T_7a856_row9_col6\" class=\"data row9 col6\" >0.4779</td>\n",
       "      <td id=\"T_7a856_row9_col7\" class=\"data row9 col7\" >0.4801</td>\n",
       "      <td id=\"T_7a856_row9_col8\" class=\"data row9 col8\" >0.0250</td>\n",
       "    </tr>\n",
       "    <tr>\n",
       "      <th id=\"T_7a856_level0_row10\" class=\"row_heading level0 row10\" >knn</th>\n",
       "      <td id=\"T_7a856_row10_col0\" class=\"data row10 col0\" >K Neighbors Classifier</td>\n",
       "      <td id=\"T_7a856_row10_col1\" class=\"data row10 col1\" >0.7030</td>\n",
       "      <td id=\"T_7a856_row10_col2\" class=\"data row10 col2\" >0.7454</td>\n",
       "      <td id=\"T_7a856_row10_col3\" class=\"data row10 col3\" >0.5697</td>\n",
       "      <td id=\"T_7a856_row10_col4\" class=\"data row10 col4\" >0.6236</td>\n",
       "      <td id=\"T_7a856_row10_col5\" class=\"data row10 col5\" >0.5911</td>\n",
       "      <td id=\"T_7a856_row10_col6\" class=\"data row10 col6\" >0.3603</td>\n",
       "      <td id=\"T_7a856_row10_col7\" class=\"data row10 col7\" >0.3638</td>\n",
       "      <td id=\"T_7a856_row10_col8\" class=\"data row10 col8\" >0.0620</td>\n",
       "    </tr>\n",
       "    <tr>\n",
       "      <th id=\"T_7a856_level0_row11\" class=\"row_heading level0 row11\" >svm</th>\n",
       "      <td id=\"T_7a856_row11_col0\" class=\"data row11 col0\" >SVM - Linear Kernel</td>\n",
       "      <td id=\"T_7a856_row11_col1\" class=\"data row11 col1\" >0.6468</td>\n",
       "      <td id=\"T_7a856_row11_col2\" class=\"data row11 col2\" >0.7481</td>\n",
       "      <td id=\"T_7a856_row11_col3\" class=\"data row11 col3\" >0.5607</td>\n",
       "      <td id=\"T_7a856_row11_col4\" class=\"data row11 col4\" >0.5652</td>\n",
       "      <td id=\"T_7a856_row11_col5\" class=\"data row11 col5\" >0.4907</td>\n",
       "      <td id=\"T_7a856_row11_col6\" class=\"data row11 col6\" >0.2563</td>\n",
       "      <td id=\"T_7a856_row11_col7\" class=\"data row11 col7\" >0.2853</td>\n",
       "      <td id=\"T_7a856_row11_col8\" class=\"data row11 col8\" >0.0210</td>\n",
       "    </tr>\n",
       "    <tr>\n",
       "      <th id=\"T_7a856_level0_row12\" class=\"row_heading level0 row12\" >qda</th>\n",
       "      <td id=\"T_7a856_row12_col0\" class=\"data row12 col0\" >Quadratic Discriminant Analysis</td>\n",
       "      <td id=\"T_7a856_row12_col1\" class=\"data row12 col1\" >0.6259</td>\n",
       "      <td id=\"T_7a856_row12_col2\" class=\"data row12 col2\" >0.0824</td>\n",
       "      <td id=\"T_7a856_row12_col3\" class=\"data row12 col3\" >0.0333</td>\n",
       "      <td id=\"T_7a856_row12_col4\" class=\"data row12 col4\" >0.0800</td>\n",
       "      <td id=\"T_7a856_row12_col5\" class=\"data row12 col5\" >0.0471</td>\n",
       "      <td id=\"T_7a856_row12_col6\" class=\"data row12 col6\" >0.0318</td>\n",
       "      <td id=\"T_7a856_row12_col7\" class=\"data row12 col7\" >0.0375</td>\n",
       "      <td id=\"T_7a856_row12_col8\" class=\"data row12 col8\" >0.0250</td>\n",
       "    </tr>\n",
       "    <tr>\n",
       "      <th id=\"T_7a856_level0_row13\" class=\"row_heading level0 row13\" >dummy</th>\n",
       "      <td id=\"T_7a856_row13_col0\" class=\"data row13 col0\" >Dummy Classifier</td>\n",
       "      <td id=\"T_7a856_row13_col1\" class=\"data row13 col1\" >0.6164</td>\n",
       "      <td id=\"T_7a856_row13_col2\" class=\"data row13 col2\" >0.5000</td>\n",
       "      <td id=\"T_7a856_row13_col3\" class=\"data row13 col3\" >0.0000</td>\n",
       "      <td id=\"T_7a856_row13_col4\" class=\"data row13 col4\" >0.0000</td>\n",
       "      <td id=\"T_7a856_row13_col5\" class=\"data row13 col5\" >0.0000</td>\n",
       "      <td id=\"T_7a856_row13_col6\" class=\"data row13 col6\" >0.0000</td>\n",
       "      <td id=\"T_7a856_row13_col7\" class=\"data row13 col7\" >0.0000</td>\n",
       "      <td id=\"T_7a856_row13_col8\" class=\"data row13 col8\" >0.0240</td>\n",
       "    </tr>\n",
       "  </tbody>\n",
       "</table>\n"
      ],
      "text/plain": [
       "<pandas.io.formats.style.Styler at 0x178ae4050>"
      ]
     },
     "metadata": {},
     "output_type": "display_data"
    },
    {
     "data": {
      "text/html": [],
      "text/plain": [
       "<IPython.core.display.HTML object>"
      ]
     },
     "metadata": {},
     "output_type": "display_data"
    },
    {
     "data": {
      "application/vnd.jupyter.widget-view+json": {
       "model_id": "e721e6b88b374a7fbff95fbe84a5d565",
       "version_major": 2,
       "version_minor": 0
      },
      "text/plain": [
       "interactive(children=(ToggleButtons(description='Plot Type:', icons=('',), options=(('Pipeline Plot', 'pipelin…"
      ]
     },
     "metadata": {},
     "output_type": "display_data"
    }
   ],
   "source": [
    "# Classification Functional API Example \n",
    "\n",
    "# model training and selection\n",
    "best = compare_models()\n",
    "\n",
    "# evaluate trained model\n",
    "evaluate_model(best)\n",
    "\n",
    "# predict on hold-out/test set\n",
    "# pred_holdout = predict_model(best)\n",
    "\n",
    "# # predict on new data\n",
    "# new_data = df.copy().drop('survived', axis = 1)\n",
    "# predictions = predict_model(best, data = new_data)\n",
    "\n",
    "# # save model\n",
    "# save_model(best, 'best_pipeline')"
   ]
  }
 ],
 "metadata": {
  "kernelspec": {
   "display_name": "ceia-analisis-de-datos-n2oEn7fP-py3.11",
   "language": "python",
   "name": "python3"
  },
  "language_info": {
   "codemirror_mode": {
    "name": "ipython",
    "version": 3
   },
   "file_extension": ".py",
   "mimetype": "text/x-python",
   "name": "python",
   "nbconvert_exporter": "python",
   "pygments_lexer": "ipython3",
   "version": "3.11.11"
  }
 },
 "nbformat": 4,
 "nbformat_minor": 2
}
