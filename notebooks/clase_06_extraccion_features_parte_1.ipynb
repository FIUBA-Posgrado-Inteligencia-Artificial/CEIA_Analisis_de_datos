{
 "cells": [
  {
   "cell_type": "markdown",
   "metadata": {
    "id": "cw2tsd20hfi8"
   },
   "source": [
    "## Análisis de datos - Clase 6\n",
    "\n",
    "#### Técnicas de extracción de features\n",
    "### Análisis de componentes principales (PCA)"
   ]
  },
  {
   "cell_type": "code",
   "execution_count": 1,
   "metadata": {
    "executionInfo": {
     "elapsed": 14,
     "status": "ok",
     "timestamp": 1743701986925,
     "user": {
      "displayName": "María Carina Roldán",
      "userId": "04296840348370091423"
     },
     "user_tz": 180
    },
    "id": "9w_BSY8dhJTl"
   },
   "outputs": [],
   "source": [
    "import numpy as np\n",
    "import pandas as pd\n",
    "import matplotlib.pyplot as plt\n",
    "from sklearn.datasets import load_iris\n",
    "from sklearn.preprocessing import StandardScaler\n",
    "from sklearn.model_selection import train_test_split\n",
    "\n",
    "from sklearn.decomposition import PCA"
   ]
  },
  {
   "cell_type": "code",
   "execution_count": 2,
   "metadata": {},
   "outputs": [
    {
     "name": "stdout",
     "output_type": "stream",
     "text": [
      "Datos:\n",
      " [[2. 0. 0.]\n",
      " [0. 1. 0.]\n",
      " [0. 0. 1.]\n",
      " [3. 2. 1.]]\n"
     ]
    }
   ],
   "source": [
    "# Datos sin transformar\n",
    "X = np.array([\n",
    "    [2, 0, 0],\n",
    "    [0, 1, 0],\n",
    "    [0, 0, 1],\n",
    "    [3, 2, 1]\n",
    "], dtype=float)\n",
    "\n",
    "print(\"Datos:\\n\", X)"
   ]
  },
  {
   "cell_type": "markdown",
   "metadata": {},
   "source": [
    "### 1. Cálculo *artesanal* (con numpy)"
   ]
  },
  {
   "cell_type": "code",
   "execution_count": 3,
   "metadata": {
    "tags": []
   },
   "outputs": [
    {
     "data": {
      "text/plain": [
       "array([[ 0.75, -0.75, -0.5 ],\n",
       "       [-1.25,  0.25, -0.5 ],\n",
       "       [-1.25, -0.75,  0.5 ],\n",
       "       [ 1.75,  1.25,  0.5 ]])"
      ]
     },
     "execution_count": 3,
     "metadata": {},
     "output_type": "execute_result"
    }
   ],
   "source": [
    "# Como las variables están en la misma escala y las unidades son comparables, alcanza con centrar en la media.\n",
    "# No hace falta estandarizar\n",
    "\n",
    "mean_vec = np.mean(X, axis=0)\n",
    "Xc = X - mean_vec\n",
    "Xc"
   ]
  },
  {
   "cell_type": "code",
   "execution_count": 4,
   "metadata": {
    "tags": []
   },
   "outputs": [
    {
     "data": {
      "text/plain": [
       "array([[2.25      , 0.75      , 0.16666667],\n",
       "       [0.75      , 0.91666667, 0.16666667],\n",
       "       [0.16666667, 0.16666667, 0.33333333]])"
      ]
     },
     "execution_count": 4,
     "metadata": {},
     "output_type": "execute_result"
    }
   ],
   "source": [
    "# Construimos la matriz de covarianza\n",
    "cov_matrix = np.cov(Xc, rowvar=False)\n",
    "cov_matrix"
   ]
  },
  {
   "cell_type": "code",
   "execution_count": 5,
   "metadata": {
    "tags": []
   },
   "outputs": [
    {
     "name": "stdout",
     "output_type": "stream",
     "text": [
      "Autovalores: [2.60816947 0.60366691 0.28816361]\n",
      "\n",
      "Autovectores (columnas):\n",
      " [[-0.90633825 -0.42156318  0.02890425]\n",
      " [-0.4113763   0.86467006 -0.28829713]\n",
      " [-0.09654282  0.27318524  0.95710465]]\n"
     ]
    }
   ],
   "source": [
    "# Calculamos los autovalores y autovectores\n",
    "eigvals, eigvecs = np.linalg.eigh(cov_matrix)\n",
    "\n",
    "# Ordenamos los autovectores de mayor a menor (según los autovalores)\n",
    "idx = np.argsort(eigvals)[::-1]\n",
    "eigvals = eigvals[idx]\n",
    "eigvecs = eigvecs[:, idx]\n",
    "\n",
    "print(\"Autovalores:\", eigvals)\n",
    "print(\"\\nAutovectores (columnas):\\n\", eigvecs)"
   ]
  },
  {
   "cell_type": "code",
   "execution_count": 6,
   "metadata": {
    "tags": []
   },
   "outputs": [
    {
     "name": "stdout",
     "output_type": "stream",
     "text": [
      "Varianza explicada (%): [74.51912773 17.24762613  8.23324614]\n"
     ]
    }
   ],
   "source": [
    "# Varianza explicada\n",
    "explained_variance_ratio = eigvals / np.sum(eigvals)\n",
    "print(\"Varianza explicada (%):\", explained_variance_ratio * 100)"
   ]
  },
  {
   "cell_type": "code",
   "execution_count": 7,
   "metadata": {
    "tags": []
   },
   "outputs": [
    {
     "data": {
      "text/plain": [
       "array([[-0.32295006, -1.10126755],\n",
       "       [ 1.07835015,  0.60652887],\n",
       "       [ 1.39318363,  0.01504406],\n",
       "       [-2.14858372,  0.47969462]])"
      ]
     },
     "execution_count": 7,
     "metadata": {},
     "output_type": "execute_result"
    }
   ],
   "source": [
    "# Proyección al nuevo espacio de dimensiones (PC1 y PC2)\n",
    "W = eigvecs[:, :2]   # nos quedamos con los 2 primeros autovectores\n",
    "Y = Xc @ W\n",
    "Y"
   ]
  },
  {
   "cell_type": "markdown",
   "metadata": {},
   "source": [
    "### 2. Cálculo con Sklearn\n",
    "\n",
    "https://scikit-learn.org/stable/modules/generated/sklearn.decomposition.PCA.html"
   ]
  },
  {
   "cell_type": "code",
   "execution_count": 8,
   "metadata": {
    "tags": []
   },
   "outputs": [],
   "source": [
    "# Datos sin transformar\n",
    "X = np.array([\n",
    "    [2, 0, 0],\n",
    "    [0, 1, 0],\n",
    "    [0, 0, 1],\n",
    "    [3, 2, 1]\n",
    "], dtype=float)"
   ]
  },
  {
   "cell_type": "code",
   "execution_count": 9,
   "metadata": {
    "tags": []
   },
   "outputs": [
    {
     "name": "stdout",
     "output_type": "stream",
     "text": [
      "\n",
      "Varianza de cada componente: [2.60816947 0.60366691]\n",
      "\n",
      "Varianza explicada (%): [74.51912773 17.24762613]\n",
      "\n",
      "Componentes principales:\n",
      " [[ 0.90633825  0.4113763   0.09654282]\n",
      " [-0.42156318  0.86467006  0.27318524]]\n"
     ]
    }
   ],
   "source": [
    "pca = PCA(n_components=2) # PCA con 2 componentes principales\n",
    "pca.fit(X)                # calcula los autovalores y autovectores (por defecto, centra los datos, pero no los escala!)\n",
    "\n",
    "print(\"\\nVarianza de cada componente:\", pca.explained_variance_)        # Autovalores\n",
    "print(\"\\nVarianza explicada (%):\", pca.explained_variance_ratio_ * 100) # varianza explicada\n",
    "print(\"\\nComponentes principales:\\n\", pca.components_)                  # Autovectores"
   ]
  },
  {
   "cell_type": "code",
   "execution_count": 10,
   "metadata": {
    "tags": []
   },
   "outputs": [
    {
     "data": {
      "text/plain": [
       "array([[ 0.32295006, -1.10126755],\n",
       "       [-1.07835015,  0.60652887],\n",
       "       [-1.39318363,  0.01504406],\n",
       "       [ 2.14858372,  0.47969462]])"
      ]
     },
     "execution_count": 10,
     "metadata": {},
     "output_type": "execute_result"
    }
   ],
   "source": [
    "Y = pca.transform(X)  # Proyecta los datos\n",
    "Y"
   ]
  },
  {
   "cell_type": "markdown",
   "metadata": {},
   "source": [
    "### 3. Ejemplo con dataset Iris"
   ]
  },
  {
   "cell_type": "code",
   "execution_count": 11,
   "metadata": {
    "colab": {
     "base_uri": "https://localhost:8080/"
    },
    "executionInfo": {
     "elapsed": 68,
     "status": "ok",
     "timestamp": 1743701986985,
     "user": {
      "displayName": "María Carina Roldán",
      "userId": "04296840348370091423"
     },
     "user_tz": 180
    },
    "id": "bILYHkcohqPE",
    "outputId": "40e56127-5596-421c-98bc-3d94fca9eb35"
   },
   "outputs": [
    {
     "name": "stdout",
     "output_type": "stream",
     "text": [
      "[[5.1 3.5 1.4 0.2]\n",
      " [4.9 3.  1.4 0.2]\n",
      " [4.7 3.2 1.3 0.2]\n",
      " [4.6 3.1 1.5 0.2]\n",
      " [5.  3.6 1.4 0.2]\n",
      " [5.4 3.9 1.7 0.4]\n",
      " [4.6 3.4 1.4 0.3]\n",
      " [5.  3.4 1.5 0.2]\n",
      " [4.4 2.9 1.4 0.2]\n",
      " [4.9 3.1 1.5 0.1]]\n"
     ]
    }
   ],
   "source": [
    "# Dataset Iris\n",
    "iris = load_iris()\n",
    "print(iris.data[:10, :])"
   ]
  },
  {
   "cell_type": "code",
   "execution_count": 12,
   "metadata": {
    "executionInfo": {
     "elapsed": 2,
     "status": "ok",
     "timestamp": 1743701986996,
     "user": {
      "displayName": "María Carina Roldán",
      "userId": "04296840348370091423"
     },
     "user_tz": 180
    },
    "id": "vXY7BiI-h1m3"
   },
   "outputs": [
    {
     "data": {
      "text/plain": [
       "(150, 4)"
      ]
     },
     "execution_count": 12,
     "metadata": {},
     "output_type": "execute_result"
    }
   ],
   "source": [
    "X = iris.data\n",
    "y = iris.target\n",
    "target_names = iris.target_names\n",
    "\n",
    "np.shape(iris.data)"
   ]
  },
  {
   "cell_type": "code",
   "execution_count": 13,
   "metadata": {},
   "outputs": [
    {
     "data": {
      "text/plain": [
       "array([0, 0, 0, 0, 0, 0, 0, 0, 0, 0, 0, 0, 0, 0, 0, 0, 0, 0, 0, 0, 0, 0,\n",
       "       0, 0, 0, 0, 0, 0, 0, 0, 0, 0, 0, 0, 0, 0, 0, 0, 0, 0, 0, 0, 0, 0,\n",
       "       0, 0, 0, 0, 0, 0, 1, 1, 1, 1, 1, 1, 1, 1, 1, 1, 1, 1, 1, 1, 1, 1,\n",
       "       1, 1, 1, 1, 1, 1, 1, 1, 1, 1, 1, 1, 1, 1, 1, 1, 1, 1, 1, 1, 1, 1,\n",
       "       1, 1, 1, 1, 1, 1, 1, 1, 1, 1, 1, 1, 2, 2, 2, 2, 2, 2, 2, 2, 2, 2,\n",
       "       2, 2, 2, 2, 2, 2, 2, 2, 2, 2, 2, 2, 2, 2, 2, 2, 2, 2, 2, 2, 2, 2,\n",
       "       2, 2, 2, 2, 2, 2, 2, 2, 2, 2, 2, 2, 2, 2, 2, 2, 2, 2])"
      ]
     },
     "execution_count": 13,
     "metadata": {},
     "output_type": "execute_result"
    }
   ],
   "source": [
    "y"
   ]
  },
  {
   "cell_type": "code",
   "execution_count": 14,
   "metadata": {},
   "outputs": [
    {
     "name": "stdout",
     "output_type": "stream",
     "text": [
      "Tamaño train: (120, 4) Test: (30, 4)\n"
     ]
    }
   ],
   "source": [
    "X_train, X_test, y_train, y_test = train_test_split(X, y, test_size=0.2, random_state=42)\n",
    "print(\"Tamaño train:\", X_train.shape, \"Test:\", X_test.shape)"
   ]
  },
  {
   "cell_type": "code",
   "execution_count": 15,
   "metadata": {
    "executionInfo": {
     "elapsed": 2,
     "status": "ok",
     "timestamp": 1743701987007,
     "user": {
      "displayName": "María Carina Roldán",
      "userId": "04296840348370091423"
     },
     "user_tz": 180
    },
    "id": "YACZpk-7hwpx"
   },
   "outputs": [],
   "source": [
    "# Estandarizar los datos\n",
    "scaler = StandardScaler()\n",
    "X_train_scaled = scaler.fit_transform(X_train)\n",
    "X_test_scaled = scaler.transform(X_test)"
   ]
  },
  {
   "cell_type": "code",
   "execution_count": 16,
   "metadata": {
    "colab": {
     "base_uri": "https://localhost:8080/",
     "height": 564
    },
    "executionInfo": {
     "elapsed": 202,
     "status": "ok",
     "timestamp": 1743701987211,
     "user": {
      "displayName": "María Carina Roldán",
      "userId": "04296840348370091423"
     },
     "user_tz": 180
    },
    "id": "krs6MNvQgOIc",
    "outputId": "504c8ac1-b37d-4622-9818-91b03dc76a2f"
   },
   "outputs": [
    {
     "data": {
      "image/png": "[encoded data removed]",
      "text/plain": [
       "<Figure size 600x400 with 1 Axes>"
      ]
     },
     "metadata": {},
     "output_type": "display_data"
    }
   ],
   "source": [
    "# Hago el análisis de los componentes principales (PCA)\n",
    "pca = PCA(n_components=2)\n",
    "X_train_pca = pca.fit_transform(X_train_scaled)\n",
    "\n",
    "plt.figure(figsize=(6, 4))\n",
    "for i, target_name in enumerate(target_names):\n",
    "    plt.scatter(X_train_pca[y_train == i, 0], X_train_pca[y_train == i, 1], label=target_name, alpha=0.7)\n",
    "plt.xlabel(\"Componente Principal 1\")\n",
    "plt.ylabel(\"Componente Principal 2\")\n",
    "plt.legend()\n",
    "plt.title(\"PCA en el dataset Iris\")\n",
    "plt.show()"
   ]
  },
  {
   "cell_type": "code",
   "execution_count": 17,
   "metadata": {
    "colab": {
     "base_uri": "https://localhost:8080/"
    },
    "executionInfo": {
     "elapsed": 4,
     "status": "ok",
     "timestamp": 1743701987216,
     "user": {
      "displayName": "María Carina Roldán",
      "userId": "04296840348370091423"
     },
     "user_tz": 180
    },
    "id": "FDhKO3-vjlHY",
    "outputId": "f11b9055-e505-4e88-debc-cd079a740a8b"
   },
   "outputs": [
    {
     "name": "stdout",
     "output_type": "stream",
     "text": [
      "[0.72551423 0.23000922]\n"
     ]
    }
   ],
   "source": [
    "print(pca.explained_variance_ratio_)  # % de varianza capturada por cada componente"
   ]
  },
  {
   "cell_type": "code",
   "execution_count": 18,
   "metadata": {
    "colab": {
     "base_uri": "https://localhost:8080/",
     "height": 423
    },
    "executionInfo": {
     "elapsed": 30,
     "status": "ok",
     "timestamp": 1743701987245,
     "user": {
      "displayName": "María Carina Roldán",
      "userId": "04296840348370091423"
     },
     "user_tz": 180
    },
    "id": "h0zvmLovkZtD",
    "outputId": "a592de64-113a-4613-b825-a37dd3bb5248"
   },
   "outputs": [
    {
     "data": {
      "text/html": [
       "<div>\n",
       "<style scoped>\n",
       "    .dataframe tbody tr th:only-of-type {\n",
       "        vertical-align: middle;\n",
       "    }\n",
       "\n",
       "    .dataframe tbody tr th {\n",
       "        vertical-align: top;\n",
       "    }\n",
       "\n",
       "    .dataframe thead th {\n",
       "        text-align: right;\n",
       "    }\n",
       "</style>\n",
       "<table border=\"1\" class=\"dataframe\">\n",
       "  <thead>\n",
       "    <tr style=\"text-align: right;\">\n",
       "      <th></th>\n",
       "      <th>PCA1</th>\n",
       "      <th>PCA2</th>\n",
       "      <th>target</th>\n",
       "    </tr>\n",
       "  </thead>\n",
       "  <tbody>\n",
       "    <tr>\n",
       "      <th>0</th>\n",
       "      <td>-2.741058</td>\n",
       "      <td>0.415798</td>\n",
       "      <td>0</td>\n",
       "    </tr>\n",
       "    <tr>\n",
       "      <th>1</th>\n",
       "      <td>-2.214577</td>\n",
       "      <td>2.604762</td>\n",
       "      <td>0</td>\n",
       "    </tr>\n",
       "    <tr>\n",
       "      <th>2</th>\n",
       "      <td>0.926828</td>\n",
       "      <td>0.529167</td>\n",
       "      <td>1</td>\n",
       "    </tr>\n",
       "    <tr>\n",
       "      <th>3</th>\n",
       "      <td>-2.293429</td>\n",
       "      <td>0.108078</td>\n",
       "      <td>0</td>\n",
       "    </tr>\n",
       "    <tr>\n",
       "      <th>4</th>\n",
       "      <td>-2.524548</td>\n",
       "      <td>-0.496938</td>\n",
       "      <td>0</td>\n",
       "    </tr>\n",
       "    <tr>\n",
       "      <th>...</th>\n",
       "      <td>...</td>\n",
       "      <td>...</td>\n",
       "      <td>...</td>\n",
       "    </tr>\n",
       "    <tr>\n",
       "      <th>115</th>\n",
       "      <td>0.521362</td>\n",
       "      <td>-0.385743</td>\n",
       "      <td>1</td>\n",
       "    </tr>\n",
       "    <tr>\n",
       "      <th>116</th>\n",
       "      <td>0.415127</td>\n",
       "      <td>-1.535405</td>\n",
       "      <td>2</td>\n",
       "    </tr>\n",
       "    <tr>\n",
       "      <th>117</th>\n",
       "      <td>-2.159999</td>\n",
       "      <td>1.811532</td>\n",
       "      <td>0</td>\n",
       "    </tr>\n",
       "    <tr>\n",
       "      <th>118</th>\n",
       "      <td>0.377947</td>\n",
       "      <td>-0.947346</td>\n",
       "      <td>1</td>\n",
       "    </tr>\n",
       "    <tr>\n",
       "      <th>119</th>\n",
       "      <td>2.268576</td>\n",
       "      <td>0.589401</td>\n",
       "      <td>2</td>\n",
       "    </tr>\n",
       "  </tbody>\n",
       "</table>\n",
       "<p>120 rows × 3 columns</p>\n",
       "</div>"
      ],
      "text/plain": [
       "         PCA1      PCA2  target\n",
       "0   -2.741058  0.415798       0\n",
       "1   -2.214577  2.604762       0\n",
       "2    0.926828  0.529167       1\n",
       "3   -2.293429  0.108078       0\n",
       "4   -2.524548 -0.496938       0\n",
       "..        ...       ...     ...\n",
       "115  0.521362 -0.385743       1\n",
       "116  0.415127 -1.535405       2\n",
       "117 -2.159999  1.811532       0\n",
       "118  0.377947 -0.947346       1\n",
       "119  2.268576  0.589401       2\n",
       "\n",
       "[120 rows x 3 columns]"
      ]
     },
     "execution_count": 18,
     "metadata": {},
     "output_type": "execute_result"
    }
   ],
   "source": [
    "df_pca = pd.DataFrame(X_train_pca, columns=['PCA1', 'PCA2'])\n",
    "df_pca['target'] = y_train\n",
    "df_pca"
   ]
  },
  {
   "cell_type": "code",
   "execution_count": 19,
   "metadata": {},
   "outputs": [
    {
     "data": {
      "text/html": [
       "<div>\n",
       "<style scoped>\n",
       "    .dataframe tbody tr th:only-of-type {\n",
       "        vertical-align: middle;\n",
       "    }\n",
       "\n",
       "    .dataframe tbody tr th {\n",
       "        vertical-align: top;\n",
       "    }\n",
       "\n",
       "    .dataframe thead th {\n",
       "        text-align: right;\n",
       "    }\n",
       "</style>\n",
       "<table border=\"1\" class=\"dataframe\">\n",
       "  <thead>\n",
       "    <tr style=\"text-align: right;\">\n",
       "      <th></th>\n",
       "      <th>PCA1</th>\n",
       "      <th>PCA2</th>\n",
       "    </tr>\n",
       "  </thead>\n",
       "  <tbody>\n",
       "    <tr>\n",
       "      <th>0</th>\n",
       "      <td>0.679466</td>\n",
       "      <td>-0.385006</td>\n",
       "    </tr>\n",
       "    <tr>\n",
       "      <th>1</th>\n",
       "      <td>-1.859485</td>\n",
       "      <td>1.367548</td>\n",
       "    </tr>\n",
       "    <tr>\n",
       "      <th>2</th>\n",
       "      <td>3.374187</td>\n",
       "      <td>0.082834</td>\n",
       "    </tr>\n",
       "    <tr>\n",
       "      <th>3</th>\n",
       "      <td>0.715433</td>\n",
       "      <td>-0.205865</td>\n",
       "    </tr>\n",
       "    <tr>\n",
       "      <th>4</th>\n",
       "      <td>1.305286</td>\n",
       "      <td>-0.034010</td>\n",
       "    </tr>\n",
       "    <tr>\n",
       "      <th>5</th>\n",
       "      <td>-1.797417</td>\n",
       "      <td>0.408900</td>\n",
       "    </tr>\n",
       "    <tr>\n",
       "      <th>6</th>\n",
       "      <td>0.011888</td>\n",
       "      <td>-0.423833</td>\n",
       "    </tr>\n",
       "    <tr>\n",
       "      <th>7</th>\n",
       "      <td>1.965792</td>\n",
       "      <td>0.705358</td>\n",
       "    </tr>\n",
       "    <tr>\n",
       "      <th>8</th>\n",
       "      <td>1.266044</td>\n",
       "      <td>-1.547501</td>\n",
       "    </tr>\n",
       "    <tr>\n",
       "      <th>9</th>\n",
       "      <td>0.283942</td>\n",
       "      <td>-0.743312</td>\n",
       "    </tr>\n",
       "    <tr>\n",
       "      <th>10</th>\n",
       "      <td>1.426449</td>\n",
       "      <td>0.695911</td>\n",
       "    </tr>\n",
       "    <tr>\n",
       "      <th>11</th>\n",
       "      <td>-2.193085</td>\n",
       "      <td>-0.723566</td>\n",
       "    </tr>\n",
       "    <tr>\n",
       "      <th>12</th>\n",
       "      <td>-2.012661</td>\n",
       "      <td>0.643338</td>\n",
       "    </tr>\n",
       "    <tr>\n",
       "      <th>13</th>\n",
       "      <td>-2.157282</td>\n",
       "      <td>-0.469358</td>\n",
       "    </tr>\n",
       "    <tr>\n",
       "      <th>14</th>\n",
       "      <td>-2.304658</td>\n",
       "      <td>1.078999</td>\n",
       "    </tr>\n",
       "    <tr>\n",
       "      <th>15</th>\n",
       "      <td>0.804308</td>\n",
       "      <td>0.768804</td>\n",
       "    </tr>\n",
       "    <tr>\n",
       "      <th>16</th>\n",
       "      <td>1.932243</td>\n",
       "      <td>0.310111</td>\n",
       "    </tr>\n",
       "    <tr>\n",
       "      <th>17</th>\n",
       "      <td>0.203600</td>\n",
       "      <td>-1.257240</td>\n",
       "    </tr>\n",
       "    <tr>\n",
       "      <th>18</th>\n",
       "      <td>0.435910</td>\n",
       "      <td>-0.570195</td>\n",
       "    </tr>\n",
       "    <tr>\n",
       "      <th>19</th>\n",
       "      <td>1.923710</td>\n",
       "      <td>-0.150630</td>\n",
       "    </tr>\n",
       "    <tr>\n",
       "      <th>20</th>\n",
       "      <td>-2.235226</td>\n",
       "      <td>-0.350164</td>\n",
       "    </tr>\n",
       "    <tr>\n",
       "      <th>21</th>\n",
       "      <td>1.077754</td>\n",
       "      <td>0.076123</td>\n",
       "    </tr>\n",
       "    <tr>\n",
       "      <th>22</th>\n",
       "      <td>-2.016340</td>\n",
       "      <td>0.219449</td>\n",
       "    </tr>\n",
       "    <tr>\n",
       "      <th>23</th>\n",
       "      <td>1.848239</td>\n",
       "      <td>-0.158641</td>\n",
       "    </tr>\n",
       "    <tr>\n",
       "      <th>24</th>\n",
       "      <td>2.379424</td>\n",
       "      <td>2.611309</td>\n",
       "    </tr>\n",
       "    <tr>\n",
       "      <th>25</th>\n",
       "      <td>1.933652</td>\n",
       "      <td>0.405974</td>\n",
       "    </tr>\n",
       "    <tr>\n",
       "      <th>26</th>\n",
       "      <td>2.059692</td>\n",
       "      <td>-0.652998</td>\n",
       "    </tr>\n",
       "    <tr>\n",
       "      <th>27</th>\n",
       "      <td>2.109025</td>\n",
       "      <td>0.872964</td>\n",
       "    </tr>\n",
       "    <tr>\n",
       "      <th>28</th>\n",
       "      <td>-2.042142</td>\n",
       "      <td>-0.707545</td>\n",
       "    </tr>\n",
       "    <tr>\n",
       "      <th>29</th>\n",
       "      <td>-2.111515</td>\n",
       "      <td>-0.507773</td>\n",
       "    </tr>\n",
       "  </tbody>\n",
       "</table>\n",
       "</div>"
      ],
      "text/plain": [
       "        PCA1      PCA2\n",
       "0   0.679466 -0.385006\n",
       "1  -1.859485  1.367548\n",
       "2   3.374187  0.082834\n",
       "3   0.715433 -0.205865\n",
       "4   1.305286 -0.034010\n",
       "5  -1.797417  0.408900\n",
       "6   0.011888 -0.423833\n",
       "7   1.965792  0.705358\n",
       "8   1.266044 -1.547501\n",
       "9   0.283942 -0.743312\n",
       "10  1.426449  0.695911\n",
       "11 -2.193085 -0.723566\n",
       "12 -2.012661  0.643338\n",
       "13 -2.157282 -0.469358\n",
       "14 -2.304658  1.078999\n",
       "15  0.804308  0.768804\n",
       "16  1.932243  0.310111\n",
       "17  0.203600 -1.257240\n",
       "18  0.435910 -0.570195\n",
       "19  1.923710 -0.150630\n",
       "20 -2.235226 -0.350164\n",
       "21  1.077754  0.076123\n",
       "22 -2.016340  0.219449\n",
       "23  1.848239 -0.158641\n",
       "24  2.379424  2.611309\n",
       "25  1.933652  0.405974\n",
       "26  2.059692 -0.652998\n",
       "27  2.109025  0.872964\n",
       "28 -2.042142 -0.707545\n",
       "29 -2.111515 -0.507773"
      ]
     },
     "execution_count": 19,
     "metadata": {},
     "output_type": "execute_result"
    }
   ],
   "source": [
    "# Luego de entrenado el modelo, aplicamos PCA en el dataset de test para poder evaluarlo:\n",
    "X_test_pca = pca.transform(X_test_scaled)\n",
    "\n",
    "df_test_pca = pd.DataFrame(X_test_pca, columns=['PCA1', 'PCA2'])\n",
    "df_test_pca"
   ]
  }
 ],
 "metadata": {
  "colab": {
   "provenance": []
  },
  "kernelspec": {
   "display_name": "Python (add-env)",
   "language": "python",
   "name": "add-env"
  },
  "language_info": {
   "codemirror_mode": {
    "name": "ipython",
    "version": 3
   },
   "file_extension": ".py",
   "mimetype": "text/x-python",
   "name": "python",
   "nbconvert_exporter": "python",
   "pygments_lexer": "ipython3",
   "version": "3.11.11"
  }
 },
 "nbformat": 4,
 "nbformat_minor": 4
}
