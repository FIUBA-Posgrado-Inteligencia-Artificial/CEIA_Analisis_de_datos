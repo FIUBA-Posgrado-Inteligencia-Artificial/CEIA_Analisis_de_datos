{
 "cells": [
  {
   "cell_type": "markdown",
   "id": "5101de57",
   "metadata": {},
   "source": [
    "## Análisis de datos - Clase 6"
   ]
  },
  {
   "cell_type": "markdown",
   "id": "f7eb889a",
   "metadata": {},
   "source": [
    "---\n",
    "### Técnicas de selección de features\n",
    "---"
   ]
  },
  {
   "cell_type": "code",
   "execution_count": 81,
   "id": "f24a50e0",
   "metadata": {},
   "outputs": [],
   "source": [
    "import pandas as pd\n",
    "import numpy as np\n",
    "import seaborn as sns\n",
    "import matplotlib.pyplot as plt\n",
    "from sklearn.datasets import fetch_openml\n",
    "from sklearn.impute import SimpleImputer\n",
    "from sklearn.preprocessing import MinMaxScaler, OrdinalEncoder, StandardScaler\n",
    "from category_encoders import BinaryEncoder\n",
    "from sklearn.feature_selection import VarianceThreshold, SelectKBest, chi2, f_classif, mutual_info_classif\n",
    "from sklearn.model_selection import train_test_split\n"
   ]
  },
  {
   "cell_type": "markdown",
   "id": "555e5b7a",
   "metadata": {},
   "source": [
    "#### Para este ejemplo usamos el dataset 'adult' que tiene información capturada durante un censo. El objetivo es, dado un conjunto de características de adultos, predecir si su rango salarial estará por encima de 50K (problema de clasificación binaria)."
   ]
  },
  {
   "cell_type": "code",
   "execution_count": 86,
   "id": "ab7707f5",
   "metadata": {},
   "outputs": [],
   "source": [
    "# Cargar el dataset de censo de adultos\n",
    "adultos = fetch_openml(name='adult', version=2, as_frame=True)\n",
    "X = adultos.data\n",
    "y = adultos.target"
   ]
  },
  {
   "cell_type": "code",
   "execution_count": 87,
   "id": "9cb4559f",
   "metadata": {},
   "outputs": [
    {
     "data": {
      "text/html": [
       "<div>\n",
       "<style scoped>\n",
       "    .dataframe tbody tr th:only-of-type {\n",
       "        vertical-align: middle;\n",
       "    }\n",
       "\n",
       "    .dataframe tbody tr th {\n",
       "        vertical-align: top;\n",
       "    }\n",
       "\n",
       "    .dataframe thead th {\n",
       "        text-align: right;\n",
       "    }\n",
       "</style>\n",
       "<table border=\"1\" class=\"dataframe\">\n",
       "  <thead>\n",
       "    <tr style=\"text-align: right;\">\n",
       "      <th></th>\n",
       "      <th>age</th>\n",
       "      <th>workclass</th>\n",
       "      <th>fnlwgt</th>\n",
       "      <th>education</th>\n",
       "      <th>education-num</th>\n",
       "      <th>marital-status</th>\n",
       "      <th>occupation</th>\n",
       "      <th>relationship</th>\n",
       "      <th>race</th>\n",
       "      <th>sex</th>\n",
       "      <th>capital-gain</th>\n",
       "      <th>capital-loss</th>\n",
       "      <th>hours-per-week</th>\n",
       "      <th>native-country</th>\n",
       "    </tr>\n",
       "  </thead>\n",
       "  <tbody>\n",
       "    <tr>\n",
       "      <th>0</th>\n",
       "      <td>25</td>\n",
       "      <td>Private</td>\n",
       "      <td>226802</td>\n",
       "      <td>11th</td>\n",
       "      <td>7</td>\n",
       "      <td>Never-married</td>\n",
       "      <td>Machine-op-inspct</td>\n",
       "      <td>Own-child</td>\n",
       "      <td>Black</td>\n",
       "      <td>Male</td>\n",
       "      <td>0</td>\n",
       "      <td>0</td>\n",
       "      <td>40</td>\n",
       "      <td>United-States</td>\n",
       "    </tr>\n",
       "    <tr>\n",
       "      <th>1</th>\n",
       "      <td>38</td>\n",
       "      <td>Private</td>\n",
       "      <td>89814</td>\n",
       "      <td>HS-grad</td>\n",
       "      <td>9</td>\n",
       "      <td>Married-civ-spouse</td>\n",
       "      <td>Farming-fishing</td>\n",
       "      <td>Husband</td>\n",
       "      <td>White</td>\n",
       "      <td>Male</td>\n",
       "      <td>0</td>\n",
       "      <td>0</td>\n",
       "      <td>50</td>\n",
       "      <td>United-States</td>\n",
       "    </tr>\n",
       "    <tr>\n",
       "      <th>2</th>\n",
       "      <td>28</td>\n",
       "      <td>Local-gov</td>\n",
       "      <td>336951</td>\n",
       "      <td>Assoc-acdm</td>\n",
       "      <td>12</td>\n",
       "      <td>Married-civ-spouse</td>\n",
       "      <td>Protective-serv</td>\n",
       "      <td>Husband</td>\n",
       "      <td>White</td>\n",
       "      <td>Male</td>\n",
       "      <td>0</td>\n",
       "      <td>0</td>\n",
       "      <td>40</td>\n",
       "      <td>United-States</td>\n",
       "    </tr>\n",
       "    <tr>\n",
       "      <th>3</th>\n",
       "      <td>44</td>\n",
       "      <td>Private</td>\n",
       "      <td>160323</td>\n",
       "      <td>Some-college</td>\n",
       "      <td>10</td>\n",
       "      <td>Married-civ-spouse</td>\n",
       "      <td>Machine-op-inspct</td>\n",
       "      <td>Husband</td>\n",
       "      <td>Black</td>\n",
       "      <td>Male</td>\n",
       "      <td>7688</td>\n",
       "      <td>0</td>\n",
       "      <td>40</td>\n",
       "      <td>United-States</td>\n",
       "    </tr>\n",
       "    <tr>\n",
       "      <th>4</th>\n",
       "      <td>18</td>\n",
       "      <td>NaN</td>\n",
       "      <td>103497</td>\n",
       "      <td>Some-college</td>\n",
       "      <td>10</td>\n",
       "      <td>Never-married</td>\n",
       "      <td>NaN</td>\n",
       "      <td>Own-child</td>\n",
       "      <td>White</td>\n",
       "      <td>Female</td>\n",
       "      <td>0</td>\n",
       "      <td>0</td>\n",
       "      <td>30</td>\n",
       "      <td>United-States</td>\n",
       "    </tr>\n",
       "  </tbody>\n",
       "</table>\n",
       "</div>"
      ],
      "text/plain": [
       "   age  workclass  fnlwgt     education  education-num      marital-status  \\\n",
       "0   25    Private  226802          11th              7       Never-married   \n",
       "1   38    Private   89814       HS-grad              9  Married-civ-spouse   \n",
       "2   28  Local-gov  336951    Assoc-acdm             12  Married-civ-spouse   \n",
       "3   44    Private  160323  Some-college             10  Married-civ-spouse   \n",
       "4   18        NaN  103497  Some-college             10       Never-married   \n",
       "\n",
       "          occupation relationship   race     sex  capital-gain  capital-loss  \\\n",
       "0  Machine-op-inspct    Own-child  Black    Male             0             0   \n",
       "1    Farming-fishing      Husband  White    Male             0             0   \n",
       "2    Protective-serv      Husband  White    Male             0             0   \n",
       "3  Machine-op-inspct      Husband  Black    Male          7688             0   \n",
       "4                NaN    Own-child  White  Female             0             0   \n",
       "\n",
       "   hours-per-week native-country  \n",
       "0              40  United-States  \n",
       "1              50  United-States  \n",
       "2              40  United-States  \n",
       "3              40  United-States  \n",
       "4              30  United-States  "
      ]
     },
     "execution_count": 87,
     "metadata": {},
     "output_type": "execute_result"
    }
   ],
   "source": [
    "X.head()"
   ]
  },
  {
   "cell_type": "code",
   "execution_count": 88,
   "id": "8cafe35f",
   "metadata": {},
   "outputs": [
    {
     "name": "stdout",
     "output_type": "stream",
     "text": [
      "<class 'pandas.core.frame.DataFrame'>\n",
      "RangeIndex: 48842 entries, 0 to 48841\n",
      "Data columns (total 14 columns):\n",
      " #   Column          Non-Null Count  Dtype   \n",
      "---  ------          --------------  -----   \n",
      " 0   age             48842 non-null  int64   \n",
      " 1   workclass       46043 non-null  category\n",
      " 2   fnlwgt          48842 non-null  int64   \n",
      " 3   education       48842 non-null  category\n",
      " 4   education-num   48842 non-null  int64   \n",
      " 5   marital-status  48842 non-null  category\n",
      " 6   occupation      46033 non-null  category\n",
      " 7   relationship    48842 non-null  category\n",
      " 8   race            48842 non-null  category\n",
      " 9   sex             48842 non-null  category\n",
      " 10  capital-gain    48842 non-null  int64   \n",
      " 11  capital-loss    48842 non-null  int64   \n",
      " 12  hours-per-week  48842 non-null  int64   \n",
      " 13  native-country  47985 non-null  category\n",
      "dtypes: category(8), int64(6)\n",
      "memory usage: 2.6 MB\n"
     ]
    }
   ],
   "source": [
    "X.info()"
   ]
  },
  {
   "cell_type": "code",
   "execution_count": 89,
   "id": "f42c2c0f",
   "metadata": {},
   "outputs": [
    {
     "data": {
      "text/plain": [
       "age               0.00\n",
       "workclass         5.73\n",
       "fnlwgt            0.00\n",
       "education         0.00\n",
       "education-num     0.00\n",
       "marital-status    0.00\n",
       "occupation        5.75\n",
       "relationship      0.00\n",
       "race              0.00\n",
       "sex               0.00\n",
       "capital-gain      0.00\n",
       "capital-loss      0.00\n",
       "hours-per-week    0.00\n",
       "native-country    1.75\n",
       "dtype: float64"
      ]
     },
     "execution_count": 89,
     "metadata": {},
     "output_type": "execute_result"
    }
   ],
   "source": [
    "X.isna().mean().round(4)*100"
   ]
  },
  {
   "cell_type": "code",
   "execution_count": 90,
   "id": "d1b880dd",
   "metadata": {},
   "outputs": [
    {
     "data": {
      "text/plain": [
       "0    <=50K\n",
       "1    <=50K\n",
       "2     >50K\n",
       "3     >50K\n",
       "4    <=50K\n",
       "Name: class, dtype: category\n",
       "Categories (2, object): ['<=50K', '>50K']"
      ]
     },
     "execution_count": 90,
     "metadata": {},
     "output_type": "execute_result"
    }
   ],
   "source": [
    "y.head()"
   ]
  },
  {
   "cell_type": "code",
   "execution_count": 91,
   "id": "6cca94e4",
   "metadata": {},
   "outputs": [
    {
     "data": {
      "text/plain": [
       "education\n",
       "HS-grad         15784\n",
       "Some-college    10878\n",
       "Bachelors        8025\n",
       "Masters          2657\n",
       "Assoc-voc        2061\n",
       "11th             1812\n",
       "Assoc-acdm       1601\n",
       "10th             1389\n",
       "7th-8th           955\n",
       "Prof-school       834\n",
       "9th               756\n",
       "12th              657\n",
       "Doctorate         594\n",
       "5th-6th           509\n",
       "1st-4th           247\n",
       "Preschool          83\n",
       "Name: count, dtype: int64"
      ]
     },
     "execution_count": 91,
     "metadata": {},
     "output_type": "execute_result"
    }
   ],
   "source": [
    "X['education'].value_counts()"
   ]
  },
  {
   "cell_type": "code",
   "execution_count": 92,
   "id": "4f7c3a44",
   "metadata": {},
   "outputs": [],
   "source": [
    "# Definir características\n",
    "num_features = ['age', 'fnlwgt', 'education-num', 'capital-gain', 'capital-loss', 'hours-per-week']\n",
    "cat_features = ['workclass', 'marital-status', 'occupation', 'relationship', 'race', 'sex', 'native-country']\n",
    "nominal_features = [f for f in cat_features if f != 'education'] # Son todos nominales menos \"education\"\n",
    "education_levels = ['Preschool', '1st-4th', '5th-6th', '7th-8th', '9th', '10th', '11th', '12th',\n",
    "                    'HS-grad', 'Some-college', 'Assoc-voc', 'Assoc-acdm', 'Bachelors', 'Masters', \n",
    "                    'Prof-school', 'Doctorate']"
   ]
  },
  {
   "cell_type": "markdown",
   "id": "c9081c6a",
   "metadata": {},
   "source": [
    "---\n",
    "#### Paso 1: Dividir en train y test\n",
    "---"
   ]
  },
  {
   "cell_type": "code",
   "execution_count": 93,
   "id": "953f702c",
   "metadata": {},
   "outputs": [
    {
     "name": "stdout",
     "output_type": "stream",
     "text": [
      "Tamaño train: (39073, 14) Test: (9769, 14)\n"
     ]
    }
   ],
   "source": [
    "\n",
    "X_train, X_test, y_train, y_test = train_test_split(X, y, test_size=0.2, random_state=42)\n",
    "print(\"Tamaño train:\", X_train.shape, \"Test:\", X_test.shape)"
   ]
  },
  {
   "cell_type": "markdown",
   "id": "83b1e30f",
   "metadata": {},
   "source": [
    "---\n",
    "#### Paso 2: Imputación\n",
    "---"
   ]
  },
  {
   "cell_type": "code",
   "execution_count": 94,
   "id": "f5afdc3c",
   "metadata": {},
   "outputs": [],
   "source": [
    "# Imputar numéricas con mediana (fit en train, transformar ambos)\n",
    "num_imputer = SimpleImputer(strategy='median')\n",
    "X_train[num_features] = num_imputer.fit_transform(X_train[num_features])\n",
    "X_test[num_features] = num_imputer.transform(X_test[num_features])\n"
   ]
  },
  {
   "cell_type": "code",
   "execution_count": 95,
   "id": "1af51593",
   "metadata": {},
   "outputs": [],
   "source": [
    "# Imputar categóricas con moda (fit en train, transformar ambos)\n",
    "cat_imputer = SimpleImputer(strategy='most_frequent')\n",
    "X_train[cat_features] = cat_imputer.fit_transform(X_train[cat_features])\n",
    "X_test[cat_features] = cat_imputer.transform(X_test[cat_features])"
   ]
  },
  {
   "cell_type": "markdown",
   "id": "0582f186",
   "metadata": {},
   "source": [
    "---\n",
    "#### Paso 3: Codificación\n",
    "---"
   ]
  },
  {
   "cell_type": "code",
   "execution_count": 96,
   "id": "b720296d",
   "metadata": {},
   "outputs": [
    {
     "name": "stdout",
     "output_type": "stream",
     "text": [
      "\n",
      "Clases objetivo: ['<=50K' '>50K']\n"
     ]
    }
   ],
   "source": [
    "# Variable target (y) con OrdinalEncoder\n",
    "oe_target = OrdinalEncoder(categories=[['<=50K', '>50K']])\n",
    "y_train_encoded = oe_target.fit_transform(y_train.to_frame()).ravel()\n",
    "y_test_encoded = oe_target.transform(y_test.to_frame()).ravel()\n",
    "print(\"\\nClases objetivo:\", oe_target.categories_[0])\n",
    "\n",
    "# Nominales con BinaryEncoder (Podría haber usado OHE, pero me iban a quedar muchas columnas)\n",
    "be = BinaryEncoder(cols=nominal_features)\n",
    "X_train_cat = be.fit_transform(X_train[nominal_features])\n",
    "X_test_cat = be.transform(X_test[nominal_features])"
   ]
  },
  {
   "cell_type": "code",
   "execution_count": 97,
   "id": "6676b66a",
   "metadata": {},
   "outputs": [
    {
     "data": {
      "text/plain": [
       "(39073, 25)"
      ]
     },
     "execution_count": 97,
     "metadata": {},
     "output_type": "execute_result"
    }
   ],
   "source": [
    "X_train_cat.shape"
   ]
  },
  {
   "cell_type": "code",
   "execution_count": 98,
   "id": "bd8257c7",
   "metadata": {},
   "outputs": [
    {
     "data": {
      "text/html": [
       "<div>\n",
       "<style scoped>\n",
       "    .dataframe tbody tr th:only-of-type {\n",
       "        vertical-align: middle;\n",
       "    }\n",
       "\n",
       "    .dataframe tbody tr th {\n",
       "        vertical-align: top;\n",
       "    }\n",
       "\n",
       "    .dataframe thead th {\n",
       "        text-align: right;\n",
       "    }\n",
       "</style>\n",
       "<table border=\"1\" class=\"dataframe\">\n",
       "  <thead>\n",
       "    <tr style=\"text-align: right;\">\n",
       "      <th></th>\n",
       "      <th>workclass_0</th>\n",
       "      <th>workclass_1</th>\n",
       "      <th>workclass_2</th>\n",
       "      <th>workclass_3</th>\n",
       "      <th>marital-status_0</th>\n",
       "      <th>marital-status_1</th>\n",
       "      <th>marital-status_2</th>\n",
       "      <th>occupation_0</th>\n",
       "      <th>occupation_1</th>\n",
       "      <th>occupation_2</th>\n",
       "      <th>...</th>\n",
       "      <th>race_1</th>\n",
       "      <th>race_2</th>\n",
       "      <th>sex_0</th>\n",
       "      <th>sex_1</th>\n",
       "      <th>native-country_0</th>\n",
       "      <th>native-country_1</th>\n",
       "      <th>native-country_2</th>\n",
       "      <th>native-country_3</th>\n",
       "      <th>native-country_4</th>\n",
       "      <th>native-country_5</th>\n",
       "    </tr>\n",
       "  </thead>\n",
       "  <tbody>\n",
       "    <tr>\n",
       "      <th>37193</th>\n",
       "      <td>0</td>\n",
       "      <td>0</td>\n",
       "      <td>0</td>\n",
       "      <td>1</td>\n",
       "      <td>0</td>\n",
       "      <td>0</td>\n",
       "      <td>1</td>\n",
       "      <td>0</td>\n",
       "      <td>0</td>\n",
       "      <td>0</td>\n",
       "      <td>...</td>\n",
       "      <td>0</td>\n",
       "      <td>1</td>\n",
       "      <td>0</td>\n",
       "      <td>1</td>\n",
       "      <td>0</td>\n",
       "      <td>0</td>\n",
       "      <td>0</td>\n",
       "      <td>0</td>\n",
       "      <td>0</td>\n",
       "      <td>1</td>\n",
       "    </tr>\n",
       "    <tr>\n",
       "      <th>31093</th>\n",
       "      <td>0</td>\n",
       "      <td>0</td>\n",
       "      <td>1</td>\n",
       "      <td>0</td>\n",
       "      <td>0</td>\n",
       "      <td>0</td>\n",
       "      <td>1</td>\n",
       "      <td>0</td>\n",
       "      <td>0</td>\n",
       "      <td>1</td>\n",
       "      <td>...</td>\n",
       "      <td>0</td>\n",
       "      <td>1</td>\n",
       "      <td>0</td>\n",
       "      <td>1</td>\n",
       "      <td>0</td>\n",
       "      <td>0</td>\n",
       "      <td>0</td>\n",
       "      <td>0</td>\n",
       "      <td>0</td>\n",
       "      <td>1</td>\n",
       "    </tr>\n",
       "    <tr>\n",
       "      <th>33814</th>\n",
       "      <td>0</td>\n",
       "      <td>0</td>\n",
       "      <td>1</td>\n",
       "      <td>1</td>\n",
       "      <td>0</td>\n",
       "      <td>0</td>\n",
       "      <td>1</td>\n",
       "      <td>0</td>\n",
       "      <td>0</td>\n",
       "      <td>1</td>\n",
       "      <td>...</td>\n",
       "      <td>0</td>\n",
       "      <td>1</td>\n",
       "      <td>0</td>\n",
       "      <td>1</td>\n",
       "      <td>0</td>\n",
       "      <td>0</td>\n",
       "      <td>0</td>\n",
       "      <td>0</td>\n",
       "      <td>0</td>\n",
       "      <td>1</td>\n",
       "    </tr>\n",
       "    <tr>\n",
       "      <th>14500</th>\n",
       "      <td>0</td>\n",
       "      <td>0</td>\n",
       "      <td>0</td>\n",
       "      <td>1</td>\n",
       "      <td>0</td>\n",
       "      <td>1</td>\n",
       "      <td>0</td>\n",
       "      <td>0</td>\n",
       "      <td>0</td>\n",
       "      <td>1</td>\n",
       "      <td>...</td>\n",
       "      <td>0</td>\n",
       "      <td>1</td>\n",
       "      <td>1</td>\n",
       "      <td>0</td>\n",
       "      <td>0</td>\n",
       "      <td>0</td>\n",
       "      <td>0</td>\n",
       "      <td>0</td>\n",
       "      <td>0</td>\n",
       "      <td>1</td>\n",
       "    </tr>\n",
       "    <tr>\n",
       "      <th>23399</th>\n",
       "      <td>0</td>\n",
       "      <td>0</td>\n",
       "      <td>0</td>\n",
       "      <td>1</td>\n",
       "      <td>0</td>\n",
       "      <td>1</td>\n",
       "      <td>0</td>\n",
       "      <td>0</td>\n",
       "      <td>1</td>\n",
       "      <td>0</td>\n",
       "      <td>...</td>\n",
       "      <td>0</td>\n",
       "      <td>1</td>\n",
       "      <td>0</td>\n",
       "      <td>1</td>\n",
       "      <td>0</td>\n",
       "      <td>0</td>\n",
       "      <td>0</td>\n",
       "      <td>0</td>\n",
       "      <td>0</td>\n",
       "      <td>1</td>\n",
       "    </tr>\n",
       "  </tbody>\n",
       "</table>\n",
       "<p>5 rows × 25 columns</p>\n",
       "</div>"
      ],
      "text/plain": [
       "       workclass_0  workclass_1  workclass_2  workclass_3  marital-status_0  \\\n",
       "37193            0            0            0            1                 0   \n",
       "31093            0            0            1            0                 0   \n",
       "33814            0            0            1            1                 0   \n",
       "14500            0            0            0            1                 0   \n",
       "23399            0            0            0            1                 0   \n",
       "\n",
       "       marital-status_1  marital-status_2  occupation_0  occupation_1  \\\n",
       "37193                 0                 1             0             0   \n",
       "31093                 0                 1             0             0   \n",
       "33814                 0                 1             0             0   \n",
       "14500                 1                 0             0             0   \n",
       "23399                 1                 0             0             1   \n",
       "\n",
       "       occupation_2  ...  race_1  race_2  sex_0  sex_1  native-country_0  \\\n",
       "37193             0  ...       0       1      0      1                 0   \n",
       "31093             1  ...       0       1      0      1                 0   \n",
       "33814             1  ...       0       1      0      1                 0   \n",
       "14500             1  ...       0       1      1      0                 0   \n",
       "23399             0  ...       0       1      0      1                 0   \n",
       "\n",
       "       native-country_1  native-country_2  native-country_3  native-country_4  \\\n",
       "37193                 0                 0                 0                 0   \n",
       "31093                 0                 0                 0                 0   \n",
       "33814                 0                 0                 0                 0   \n",
       "14500                 0                 0                 0                 0   \n",
       "23399                 0                 0                 0                 0   \n",
       "\n",
       "       native-country_5  \n",
       "37193                 1  \n",
       "31093                 1  \n",
       "33814                 1  \n",
       "14500                 1  \n",
       "23399                 1  \n",
       "\n",
       "[5 rows x 25 columns]"
      ]
     },
     "execution_count": 98,
     "metadata": {},
     "output_type": "execute_result"
    }
   ],
   "source": [
    "X_train_cat.head()"
   ]
  },
  {
   "cell_type": "markdown",
   "id": "396548cd",
   "metadata": {},
   "source": [
    "---\n",
    "#### Paso 4: Normalización \n",
    "---"
   ]
  },
  {
   "cell_type": "code",
   "execution_count": 99,
   "id": "cf29efe6",
   "metadata": {},
   "outputs": [],
   "source": [
    "scaler = MinMaxScaler()\n",
    "\n",
    "X_train_num = scaler.fit_transform(X_train[num_features])\n",
    "X_test_num = scaler.transform(X_test[num_features])\n",
    "X_train_num = pd.DataFrame(X_train_num, columns=num_features, index=X_train.index)\n",
    "X_test_num = pd.DataFrame(X_test_num, columns=num_features, index=X_test.index)\n",
    "\n",
    "# Combinar todas las variables\n",
    "X_train_final = pd.concat([X_train_num, X_train_cat], axis=1)\n",
    "X_test_final = pd.concat([X_test_num, X_test_cat], axis=1)"
   ]
  },
  {
   "cell_type": "code",
   "execution_count": 100,
   "id": "518aea46",
   "metadata": {},
   "outputs": [
    {
     "data": {
      "text/html": [
       "<div>\n",
       "<style scoped>\n",
       "    .dataframe tbody tr th:only-of-type {\n",
       "        vertical-align: middle;\n",
       "    }\n",
       "\n",
       "    .dataframe tbody tr th {\n",
       "        vertical-align: top;\n",
       "    }\n",
       "\n",
       "    .dataframe thead th {\n",
       "        text-align: right;\n",
       "    }\n",
       "</style>\n",
       "<table border=\"1\" class=\"dataframe\">\n",
       "  <thead>\n",
       "    <tr style=\"text-align: right;\">\n",
       "      <th></th>\n",
       "      <th>age</th>\n",
       "      <th>fnlwgt</th>\n",
       "      <th>education-num</th>\n",
       "      <th>capital-gain</th>\n",
       "      <th>capital-loss</th>\n",
       "      <th>hours-per-week</th>\n",
       "      <th>workclass_0</th>\n",
       "      <th>workclass_1</th>\n",
       "      <th>workclass_2</th>\n",
       "      <th>workclass_3</th>\n",
       "      <th>...</th>\n",
       "      <th>race_1</th>\n",
       "      <th>race_2</th>\n",
       "      <th>sex_0</th>\n",
       "      <th>sex_1</th>\n",
       "      <th>native-country_0</th>\n",
       "      <th>native-country_1</th>\n",
       "      <th>native-country_2</th>\n",
       "      <th>native-country_3</th>\n",
       "      <th>native-country_4</th>\n",
       "      <th>native-country_5</th>\n",
       "    </tr>\n",
       "  </thead>\n",
       "  <tbody>\n",
       "    <tr>\n",
       "      <th>37193</th>\n",
       "      <td>0.342466</td>\n",
       "      <td>0.090253</td>\n",
       "      <td>0.600000</td>\n",
       "      <td>0.0</td>\n",
       "      <td>0.0</td>\n",
       "      <td>0.397959</td>\n",
       "      <td>0</td>\n",
       "      <td>0</td>\n",
       "      <td>0</td>\n",
       "      <td>1</td>\n",
       "      <td>...</td>\n",
       "      <td>0</td>\n",
       "      <td>1</td>\n",
       "      <td>0</td>\n",
       "      <td>1</td>\n",
       "      <td>0</td>\n",
       "      <td>0</td>\n",
       "      <td>0</td>\n",
       "      <td>0</td>\n",
       "      <td>0</td>\n",
       "      <td>1</td>\n",
       "    </tr>\n",
       "    <tr>\n",
       "      <th>31093</th>\n",
       "      <td>0.479452</td>\n",
       "      <td>0.110528</td>\n",
       "      <td>0.333333</td>\n",
       "      <td>0.0</td>\n",
       "      <td>0.0</td>\n",
       "      <td>0.346939</td>\n",
       "      <td>0</td>\n",
       "      <td>0</td>\n",
       "      <td>1</td>\n",
       "      <td>0</td>\n",
       "      <td>...</td>\n",
       "      <td>0</td>\n",
       "      <td>1</td>\n",
       "      <td>0</td>\n",
       "      <td>1</td>\n",
       "      <td>0</td>\n",
       "      <td>0</td>\n",
       "      <td>0</td>\n",
       "      <td>0</td>\n",
       "      <td>0</td>\n",
       "      <td>1</td>\n",
       "    </tr>\n",
       "    <tr>\n",
       "      <th>33814</th>\n",
       "      <td>0.232877</td>\n",
       "      <td>0.108922</td>\n",
       "      <td>0.533333</td>\n",
       "      <td>0.0</td>\n",
       "      <td>0.0</td>\n",
       "      <td>0.397959</td>\n",
       "      <td>0</td>\n",
       "      <td>0</td>\n",
       "      <td>1</td>\n",
       "      <td>1</td>\n",
       "      <td>...</td>\n",
       "      <td>0</td>\n",
       "      <td>1</td>\n",
       "      <td>0</td>\n",
       "      <td>1</td>\n",
       "      <td>0</td>\n",
       "      <td>0</td>\n",
       "      <td>0</td>\n",
       "      <td>0</td>\n",
       "      <td>0</td>\n",
       "      <td>1</td>\n",
       "    </tr>\n",
       "    <tr>\n",
       "      <th>14500</th>\n",
       "      <td>0.150685</td>\n",
       "      <td>0.077088</td>\n",
       "      <td>0.533333</td>\n",
       "      <td>0.0</td>\n",
       "      <td>0.0</td>\n",
       "      <td>0.397959</td>\n",
       "      <td>0</td>\n",
       "      <td>0</td>\n",
       "      <td>0</td>\n",
       "      <td>1</td>\n",
       "      <td>...</td>\n",
       "      <td>0</td>\n",
       "      <td>1</td>\n",
       "      <td>1</td>\n",
       "      <td>0</td>\n",
       "      <td>0</td>\n",
       "      <td>0</td>\n",
       "      <td>0</td>\n",
       "      <td>0</td>\n",
       "      <td>0</td>\n",
       "      <td>1</td>\n",
       "    </tr>\n",
       "    <tr>\n",
       "      <th>23399</th>\n",
       "      <td>0.397260</td>\n",
       "      <td>0.010957</td>\n",
       "      <td>0.666667</td>\n",
       "      <td>0.0</td>\n",
       "      <td>0.0</td>\n",
       "      <td>0.500000</td>\n",
       "      <td>0</td>\n",
       "      <td>0</td>\n",
       "      <td>0</td>\n",
       "      <td>1</td>\n",
       "      <td>...</td>\n",
       "      <td>0</td>\n",
       "      <td>1</td>\n",
       "      <td>0</td>\n",
       "      <td>1</td>\n",
       "      <td>0</td>\n",
       "      <td>0</td>\n",
       "      <td>0</td>\n",
       "      <td>0</td>\n",
       "      <td>0</td>\n",
       "      <td>1</td>\n",
       "    </tr>\n",
       "  </tbody>\n",
       "</table>\n",
       "<p>5 rows × 31 columns</p>\n",
       "</div>"
      ],
      "text/plain": [
       "            age    fnlwgt  education-num  capital-gain  capital-loss  \\\n",
       "37193  0.342466  0.090253       0.600000           0.0           0.0   \n",
       "31093  0.479452  0.110528       0.333333           0.0           0.0   \n",
       "33814  0.232877  0.108922       0.533333           0.0           0.0   \n",
       "14500  0.150685  0.077088       0.533333           0.0           0.0   \n",
       "23399  0.397260  0.010957       0.666667           0.0           0.0   \n",
       "\n",
       "       hours-per-week  workclass_0  workclass_1  workclass_2  workclass_3  \\\n",
       "37193        0.397959            0            0            0            1   \n",
       "31093        0.346939            0            0            1            0   \n",
       "33814        0.397959            0            0            1            1   \n",
       "14500        0.397959            0            0            0            1   \n",
       "23399        0.500000            0            0            0            1   \n",
       "\n",
       "       ...  race_1  race_2  sex_0  sex_1  native-country_0  native-country_1  \\\n",
       "37193  ...       0       1      0      1                 0                 0   \n",
       "31093  ...       0       1      0      1                 0                 0   \n",
       "33814  ...       0       1      0      1                 0                 0   \n",
       "14500  ...       0       1      1      0                 0                 0   \n",
       "23399  ...       0       1      0      1                 0                 0   \n",
       "\n",
       "       native-country_2  native-country_3  native-country_4  native-country_5  \n",
       "37193                 0                 0                 0                 1  \n",
       "31093                 0                 0                 0                 1  \n",
       "33814                 0                 0                 0                 1  \n",
       "14500                 0                 0                 0                 1  \n",
       "23399                 0                 0                 0                 1  \n",
       "\n",
       "[5 rows x 31 columns]"
      ]
     },
     "execution_count": 100,
     "metadata": {},
     "output_type": "execute_result"
    }
   ],
   "source": [
    "X_train_final.head()"
   ]
  },
  {
   "cell_type": "markdown",
   "id": "94628fa1",
   "metadata": {},
   "source": [
    "---\n",
    "#### Ahora el dataset está listo para aplicar filtros y seleccionar features.\n",
    "---"
   ]
  },
  {
   "cell_type": "markdown",
   "id": "2505fc0d",
   "metadata": {},
   "source": [
    "#### 1. Correlación "
   ]
  },
  {
   "cell_type": "code",
   "execution_count": 101,
   "id": "5b58858d",
   "metadata": {},
   "outputs": [
    {
     "data": {
      "image/png": "[encoded data removed]",
      "text/plain": [
       "<Figure size 2000x2000 with 2 Axes>"
      ]
     },
     "metadata": {},
     "output_type": "display_data"
    }
   ],
   "source": [
    "datos_train_corr = X_train_final.copy()\n",
    "datos_train_corr['target'] = y_train_encoded.copy()\n",
    "\n",
    "\n",
    "umbral = 0.65\n",
    "mask_for_heatmap = (datos_train_corr.corr(method='kendall').abs() < umbral)\n",
    "plt.figure(figsize=(20,20))\n",
    "sns.heatmap(\n",
    "    datos_train_corr.corr(method='kendall'), \n",
    "    annot=True, \n",
    "    fmt=\".2f\", \n",
    "    cmap=\"coolwarm\",  \n",
    "    center=0, \n",
    "    vmin=-1, \n",
    "    vmax=1,\n",
    "    mask=mask_for_heatmap)\n",
    "plt.ylabel('PEARSON')\n",
    "plt.show()"
   ]
  },
  {
   "cell_type": "markdown",
   "id": "9fa5407d",
   "metadata": {},
   "source": [
    "#### 2. Umbral de varianza"
   ]
  },
  {
   "cell_type": "code",
   "execution_count": 102,
   "id": "fade1322",
   "metadata": {},
   "outputs": [
    {
     "data": {
      "text/plain": [
       "age                 0.035343\n",
       "fnlwgt              0.005125\n",
       "education-num       0.029394\n",
       "capital-gain        0.005522\n",
       "capital-loss        0.008695\n",
       "hours-per-week      0.016160\n",
       "workclass_0         0.000230\n",
       "workclass_1         0.094287\n",
       "workclass_2         0.149606\n",
       "workclass_3         0.126283\n",
       "marital-status_0    0.069823\n",
       "marital-status_1    0.249523\n",
       "marital-status_2    0.233791\n",
       "occupation_0        0.182291\n",
       "occupation_1        0.249736\n",
       "occupation_2        0.235206\n",
       "occupation_3        0.248868\n",
       "relationship_0      0.212555\n",
       "relationship_1      0.222633\n",
       "relationship_2      0.248324\n",
       "race_0              0.038167\n",
       "race_1              0.092830\n",
       "race_2              0.091650\n",
       "sex_0               0.221452\n",
       "sex_1               0.221452\n",
       "native-country_0    0.008626\n",
       "native-country_1    0.017767\n",
       "native-country_2    0.030537\n",
       "native-country_3    0.031782\n",
       "native-country_4    0.049898\n",
       "native-country_5    0.047071\n",
       "dtype: float64"
      ]
     },
     "execution_count": 102,
     "metadata": {},
     "output_type": "execute_result"
    }
   ],
   "source": [
    "X_train_final.var()"
   ]
  },
  {
   "cell_type": "code",
   "execution_count": 103,
   "id": "6b829df5",
   "metadata": {},
   "outputs": [
    {
     "name": "stdout",
     "output_type": "stream",
     "text": [
      "\n",
      "Características seleccionadas (varianza): ['age', 'education-num', 'workclass_1', 'workclass_2', 'workclass_3', 'marital-status_0', 'marital-status_1', 'marital-status_2', 'occupation_0', 'occupation_1', 'occupation_2', 'occupation_3', 'relationship_0', 'relationship_1', 'relationship_2', 'race_0', 'race_1', 'race_2', 'sex_0', 'sex_1', 'native-country_2', 'native-country_3', 'native-country_4', 'native-country_5']\n"
     ]
    }
   ],
   "source": [
    "selector = VarianceThreshold(threshold=0.02) \n",
    "X_train_selected = selector.fit_transform(X_train_final)\n",
    "print(\"\\nCaracterísticas seleccionadas (varianza):\", X_train_final.columns[selector.get_support()].tolist())\n",
    "\n",
    "# Aplico la selección también a test\n",
    "X_test_selected = selector.transform(X_test_final)\n"
   ]
  },
  {
   "cell_type": "markdown",
   "id": "46b3028a",
   "metadata": {},
   "source": [
    "#### 3. ANOVA"
   ]
  },
  {
   "cell_type": "markdown",
   "id": "5d250a90",
   "metadata": {},
   "source": [
    "#### Analizamos el poder predictivo que tienen las variables numéricas sobre la variable target.\n",
    "\n"
   ]
  },
  {
   "cell_type": "code",
   "execution_count": 104,
   "id": "4ba58764",
   "metadata": {},
   "outputs": [
    {
     "name": "stdout",
     "output_type": "stream",
     "text": [
      "Numéricas antes de filtrar: Index(['age', 'fnlwgt', 'education-num', 'capital-gain', 'capital-loss',\n",
      "       'hours-per-week'],\n",
      "      dtype='object')\n",
      "\n",
      "Características seleccionadas (ANOVA):\n",
      "age: 2241.2623\n",
      "education-num: 4892.3314\n",
      "hours-per-week: 2119.3098\n"
     ]
    }
   ],
   "source": [
    "# ANOVA (numéricas, fit en train, transformar ambos)\n",
    "selector_anova = SelectKBest(score_func=f_classif, k=3) # usar f_regression para categórica -> numérica\n",
    "X_train_num_best = selector_anova.fit_transform(X_train_num, y_train_encoded)\n",
    "selected_indices = selector_anova.get_support() # Esta función me devuelve los features seleccionados\n",
    "selected_features = X_train_num.columns[selected_indices]\n",
    "scores = selector_anova.scores_[selected_indices]\n",
    "print(f\"Numéricas antes de filtrar: {X_train_num.columns}\")\n",
    "print(\"\\nCaracterísticas seleccionadas (ANOVA):\")\n",
    "for feature, score in zip(selected_features, scores):\n",
    "    print(f\"{feature}: {score:.4f}\")\n",
    "\n",
    "# Aplicar el filtro a los datos de test:\n",
    "X_test_num_best = selector_anova.transform(X_test_num)"
   ]
  },
  {
   "cell_type": "markdown",
   "id": "14b00efd",
   "metadata": {},
   "source": [
    "\n",
    "#### 4. Chi-cuadrado\n"
   ]
  },
  {
   "cell_type": "markdown",
   "id": "98aa9caa",
   "metadata": {},
   "source": [
    "#### Identificar la relación entre las categóricas de entrada y la variable categórica de salida "
   ]
  },
  {
   "cell_type": "code",
   "execution_count": 105,
   "id": "c0239089",
   "metadata": {},
   "outputs": [
    {
     "name": "stdout",
     "output_type": "stream",
     "text": [
      "\n",
      "Características seleccionadas (Chi-Square):\n",
      "marital-status_1: 3214.9763\n",
      "marital-status_2: 1742.1710\n",
      "relationship_0: 1279.5575\n",
      "relationship_2: 1397.6895\n",
      "sex_0: 1187.0050\n"
     ]
    }
   ],
   "source": [
    "# Chi-Square (categóricas, fit en train, transformar ambos)\n",
    "selector_chi2 = SelectKBest(score_func=chi2, k=5)\n",
    "X_train_cat_best = selector_chi2.fit_transform(X_train_cat, y_train_encoded)\n",
    "selected_indices = selector_chi2.get_support()\n",
    "selected_features = X_train_cat.columns[selected_indices]\n",
    "scores = selector_chi2.scores_[selected_indices]\n",
    "print(\"\\nCaracterísticas seleccionadas (Chi-Square):\")\n",
    "for feature, score in zip(selected_features, scores):\n",
    "    print(f\"{feature}: {score:.4f}\")\n",
    "\n",
    "# Aplicar el filtro a test\n",
    "X_test_cat_best = selector_chi2.transform(X_test_cat)"
   ]
  },
  {
   "cell_type": "markdown",
   "id": "8fd1ff18",
   "metadata": {},
   "source": [
    "\n",
    "#### 5. Información mutua\n"
   ]
  },
  {
   "cell_type": "code",
   "execution_count": 106,
   "id": "433e9505",
   "metadata": {
    "tags": []
   },
   "outputs": [
    {
     "name": "stdout",
     "output_type": "stream",
     "text": [
      "\n",
      "Características seleccionadas (Inf. mutua):\n",
      "age: 0.0684\n",
      "fnlwgt: 0.0321\n",
      "education-num: 0.0642\n",
      "capital-gain: 0.0843\n",
      "capital-loss: 0.0350\n",
      "hours-per-week: 0.0385\n",
      "marital-status_1: 0.0901\n",
      "marital-status_2: 0.0749\n",
      "relationship_2: 0.0442\n",
      "sex_0: 0.0310\n"
     ]
    }
   ],
   "source": [
    "# Información mutua (todas, fit en train, transformar ambos)\n",
    "selector_mi = SelectKBest(score_func=mutual_info_classif, k=10) # también se puede usar mutual_info_regression para problemas de ese tipo\n",
    "X_train_best = selector_mi.fit_transform(X_train_final, y_train_encoded) # todos los tipos de features\n",
    "selected_indices = selector_mi.get_support()\n",
    "selected_features = X_train_final.columns[selected_indices]\n",
    "scores = selector_mi.scores_[selected_indices]\n",
    "print(\"\\nCaracterísticas seleccionadas (Inf. mutua):\")\n",
    "for feature, score in zip(selected_features, scores):\n",
    "    print(f\"{feature}: {score:.4f}\")\n",
    "\n",
    "X_test_best = selector_mi.transform(X_test_final)"
   ]
  }
 ],
 "metadata": {
  "kernelspec": {
   "display_name": "add-env",
   "language": "python",
   "name": "python3"
  },
  "language_info": {
   "codemirror_mode": {
    "name": "ipython",
    "version": 3
   },
   "file_extension": ".py",
   "mimetype": "text/x-python",
   "name": "python",
   "nbconvert_exporter": "python",
   "pygments_lexer": "ipython3",
   "version": "3.11.12"
  }
 },
 "nbformat": 4,
 "nbformat_minor": 5
}
