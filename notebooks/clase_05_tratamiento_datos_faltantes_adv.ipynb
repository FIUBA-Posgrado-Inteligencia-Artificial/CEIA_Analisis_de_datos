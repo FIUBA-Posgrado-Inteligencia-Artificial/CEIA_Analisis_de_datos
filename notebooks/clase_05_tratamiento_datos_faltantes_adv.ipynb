{
 "cells": [
  {
   "cell_type": "markdown",
   "metadata": {},
   "source": [
    "## Análisis de datos - Clase 5"
   ]
  },
  {
   "cell_type": "markdown",
   "metadata": {},
   "source": [
    "### Técnicas avanzadas para el tratamiento de datos faltantes"
   ]
  },
  {
   "cell_type": "code",
   "execution_count": 1,
   "metadata": {
    "tags": []
   },
   "outputs": [],
   "source": [
    "import pandas as pd\n",
    "import numpy as np\n",
    "import matplotlib.pyplot as plt\n",
    "import seaborn as sns\n",
    "import statsmodels.api as sm\n",
    "\n",
    "from sklearn.model_selection import train_test_split"
   ]
  },
  {
   "cell_type": "markdown",
   "metadata": {},
   "source": [
    "### Identificamos datos faltantes"
   ]
  },
  {
   "cell_type": "code",
   "execution_count": 2,
   "metadata": {
    "tags": []
   },
   "outputs": [
    {
     "name": "stdout",
     "output_type": "stream",
     "text": [
      "(712, 15) (179, 15)\n"
     ]
    }
   ],
   "source": [
    "# Cargamos el dataset de Titanic de Seaborn\n",
    "titanic = sns.load_dataset(\"titanic\")\n",
    "\n",
    "# split 80%/20% (sin target definido)\n",
    "df, test_df = train_test_split(titanic, test_size=0.2, random_state=42)\n",
    "\n",
    "print(df.shape, test_df.shape)"
   ]
  },
  {
   "cell_type": "code",
   "execution_count": 3,
   "metadata": {
    "tags": []
   },
   "outputs": [
    {
     "data": {
      "text/html": [
       "<div>\n",
       "<style scoped>\n",
       "    .dataframe tbody tr th:only-of-type {\n",
       "        vertical-align: middle;\n",
       "    }\n",
       "\n",
       "    .dataframe tbody tr th {\n",
       "        vertical-align: top;\n",
       "    }\n",
       "\n",
       "    .dataframe thead th {\n",
       "        text-align: right;\n",
       "    }\n",
       "</style>\n",
       "<table border=\"1\" class=\"dataframe\">\n",
       "  <thead>\n",
       "    <tr style=\"text-align: right;\">\n",
       "      <th></th>\n",
       "      <th>survived</th>\n",
       "      <th>pclass</th>\n",
       "      <th>sex</th>\n",
       "      <th>age</th>\n",
       "      <th>sibsp</th>\n",
       "      <th>parch</th>\n",
       "      <th>fare</th>\n",
       "      <th>embarked</th>\n",
       "      <th>class</th>\n",
       "      <th>who</th>\n",
       "      <th>adult_male</th>\n",
       "      <th>deck</th>\n",
       "      <th>embark_town</th>\n",
       "      <th>alive</th>\n",
       "      <th>alone</th>\n",
       "    </tr>\n",
       "  </thead>\n",
       "  <tbody>\n",
       "    <tr>\n",
       "      <th>331</th>\n",
       "      <td>0</td>\n",
       "      <td>1</td>\n",
       "      <td>male</td>\n",
       "      <td>45.5</td>\n",
       "      <td>0</td>\n",
       "      <td>0</td>\n",
       "      <td>28.5000</td>\n",
       "      <td>S</td>\n",
       "      <td>First</td>\n",
       "      <td>man</td>\n",
       "      <td>True</td>\n",
       "      <td>C</td>\n",
       "      <td>Southampton</td>\n",
       "      <td>no</td>\n",
       "      <td>True</td>\n",
       "    </tr>\n",
       "    <tr>\n",
       "      <th>733</th>\n",
       "      <td>0</td>\n",
       "      <td>2</td>\n",
       "      <td>male</td>\n",
       "      <td>23.0</td>\n",
       "      <td>0</td>\n",
       "      <td>0</td>\n",
       "      <td>13.0000</td>\n",
       "      <td>S</td>\n",
       "      <td>Second</td>\n",
       "      <td>man</td>\n",
       "      <td>True</td>\n",
       "      <td>NaN</td>\n",
       "      <td>Southampton</td>\n",
       "      <td>no</td>\n",
       "      <td>True</td>\n",
       "    </tr>\n",
       "    <tr>\n",
       "      <th>382</th>\n",
       "      <td>0</td>\n",
       "      <td>3</td>\n",
       "      <td>male</td>\n",
       "      <td>32.0</td>\n",
       "      <td>0</td>\n",
       "      <td>0</td>\n",
       "      <td>7.9250</td>\n",
       "      <td>S</td>\n",
       "      <td>Third</td>\n",
       "      <td>man</td>\n",
       "      <td>True</td>\n",
       "      <td>NaN</td>\n",
       "      <td>Southampton</td>\n",
       "      <td>no</td>\n",
       "      <td>True</td>\n",
       "    </tr>\n",
       "    <tr>\n",
       "      <th>704</th>\n",
       "      <td>0</td>\n",
       "      <td>3</td>\n",
       "      <td>male</td>\n",
       "      <td>26.0</td>\n",
       "      <td>1</td>\n",
       "      <td>0</td>\n",
       "      <td>7.8542</td>\n",
       "      <td>S</td>\n",
       "      <td>Third</td>\n",
       "      <td>man</td>\n",
       "      <td>True</td>\n",
       "      <td>NaN</td>\n",
       "      <td>Southampton</td>\n",
       "      <td>no</td>\n",
       "      <td>False</td>\n",
       "    </tr>\n",
       "    <tr>\n",
       "      <th>813</th>\n",
       "      <td>0</td>\n",
       "      <td>3</td>\n",
       "      <td>female</td>\n",
       "      <td>6.0</td>\n",
       "      <td>4</td>\n",
       "      <td>2</td>\n",
       "      <td>31.2750</td>\n",
       "      <td>S</td>\n",
       "      <td>Third</td>\n",
       "      <td>child</td>\n",
       "      <td>False</td>\n",
       "      <td>NaN</td>\n",
       "      <td>Southampton</td>\n",
       "      <td>no</td>\n",
       "      <td>False</td>\n",
       "    </tr>\n",
       "    <tr>\n",
       "      <th>118</th>\n",
       "      <td>0</td>\n",
       "      <td>1</td>\n",
       "      <td>male</td>\n",
       "      <td>24.0</td>\n",
       "      <td>0</td>\n",
       "      <td>1</td>\n",
       "      <td>247.5208</td>\n",
       "      <td>C</td>\n",
       "      <td>First</td>\n",
       "      <td>man</td>\n",
       "      <td>True</td>\n",
       "      <td>B</td>\n",
       "      <td>Cherbourg</td>\n",
       "      <td>no</td>\n",
       "      <td>False</td>\n",
       "    </tr>\n",
       "    <tr>\n",
       "      <th>536</th>\n",
       "      <td>0</td>\n",
       "      <td>1</td>\n",
       "      <td>male</td>\n",
       "      <td>45.0</td>\n",
       "      <td>0</td>\n",
       "      <td>0</td>\n",
       "      <td>26.5500</td>\n",
       "      <td>S</td>\n",
       "      <td>First</td>\n",
       "      <td>man</td>\n",
       "      <td>True</td>\n",
       "      <td>B</td>\n",
       "      <td>Southampton</td>\n",
       "      <td>no</td>\n",
       "      <td>True</td>\n",
       "    </tr>\n",
       "    <tr>\n",
       "      <th>361</th>\n",
       "      <td>0</td>\n",
       "      <td>2</td>\n",
       "      <td>male</td>\n",
       "      <td>29.0</td>\n",
       "      <td>1</td>\n",
       "      <td>0</td>\n",
       "      <td>27.7208</td>\n",
       "      <td>C</td>\n",
       "      <td>Second</td>\n",
       "      <td>man</td>\n",
       "      <td>True</td>\n",
       "      <td>NaN</td>\n",
       "      <td>Cherbourg</td>\n",
       "      <td>no</td>\n",
       "      <td>False</td>\n",
       "    </tr>\n",
       "    <tr>\n",
       "      <th>29</th>\n",
       "      <td>0</td>\n",
       "      <td>3</td>\n",
       "      <td>male</td>\n",
       "      <td>NaN</td>\n",
       "      <td>0</td>\n",
       "      <td>0</td>\n",
       "      <td>7.8958</td>\n",
       "      <td>S</td>\n",
       "      <td>Third</td>\n",
       "      <td>man</td>\n",
       "      <td>True</td>\n",
       "      <td>NaN</td>\n",
       "      <td>Southampton</td>\n",
       "      <td>no</td>\n",
       "      <td>True</td>\n",
       "    </tr>\n",
       "    <tr>\n",
       "      <th>55</th>\n",
       "      <td>1</td>\n",
       "      <td>1</td>\n",
       "      <td>male</td>\n",
       "      <td>NaN</td>\n",
       "      <td>0</td>\n",
       "      <td>0</td>\n",
       "      <td>35.5000</td>\n",
       "      <td>S</td>\n",
       "      <td>First</td>\n",
       "      <td>man</td>\n",
       "      <td>True</td>\n",
       "      <td>C</td>\n",
       "      <td>Southampton</td>\n",
       "      <td>yes</td>\n",
       "      <td>True</td>\n",
       "    </tr>\n",
       "  </tbody>\n",
       "</table>\n",
       "</div>"
      ],
      "text/plain": [
       "     survived  pclass     sex   age  sibsp  parch      fare embarked   class  \\\n",
       "331         0       1    male  45.5      0      0   28.5000        S   First   \n",
       "733         0       2    male  23.0      0      0   13.0000        S  Second   \n",
       "382         0       3    male  32.0      0      0    7.9250        S   Third   \n",
       "704         0       3    male  26.0      1      0    7.8542        S   Third   \n",
       "813         0       3  female   6.0      4      2   31.2750        S   Third   \n",
       "118         0       1    male  24.0      0      1  247.5208        C   First   \n",
       "536         0       1    male  45.0      0      0   26.5500        S   First   \n",
       "361         0       2    male  29.0      1      0   27.7208        C  Second   \n",
       "29          0       3    male   NaN      0      0    7.8958        S   Third   \n",
       "55          1       1    male   NaN      0      0   35.5000        S   First   \n",
       "\n",
       "       who  adult_male deck  embark_town alive  alone  \n",
       "331    man        True    C  Southampton    no   True  \n",
       "733    man        True  NaN  Southampton    no   True  \n",
       "382    man        True  NaN  Southampton    no   True  \n",
       "704    man        True  NaN  Southampton    no  False  \n",
       "813  child       False  NaN  Southampton    no  False  \n",
       "118    man        True    B    Cherbourg    no  False  \n",
       "536    man        True    B  Southampton    no   True  \n",
       "361    man        True  NaN    Cherbourg    no  False  \n",
       "29     man        True  NaN  Southampton    no   True  \n",
       "55     man        True    C  Southampton   yes   True  "
      ]
     },
     "execution_count": 3,
     "metadata": {},
     "output_type": "execute_result"
    }
   ],
   "source": [
    "df.head(10)"
   ]
  },
  {
   "cell_type": "code",
   "execution_count": 4,
   "metadata": {
    "tags": []
   },
   "outputs": [
    {
     "data": {
      "text/plain": [
       "age            140\n",
       "embarked         2\n",
       "deck           554\n",
       "embark_town      2\n",
       "dtype: int64"
      ]
     },
     "execution_count": 4,
     "metadata": {},
     "output_type": "execute_result"
    }
   ],
   "source": [
    "df.isna().sum()[df.isna().sum() > 0] # columnas con datos faltantes"
   ]
  },
  {
   "cell_type": "markdown",
   "metadata": {},
   "source": [
    "### Tratamiento de datos faltantes"
   ]
  },
  {
   "cell_type": "markdown",
   "metadata": {},
   "source": [
    "#### Imputación - Métodos multivariados\n",
    "\n",
    "Cuando tengo datos MAR con patrones claros\n",
    "\n",
    "* KNN (*K-Nearest Neighbors*)\n",
    "\n",
    "Cuando tengo datos MAR con patrones complejos\n",
    "* MICE (*Multiple Imputation by Chained Equations*)"
   ]
  },
  {
   "cell_type": "code",
   "execution_count": 5,
   "metadata": {
    "tags": []
   },
   "outputs": [
    {
     "data": {
      "text/html": [
       "<div>\n",
       "<style scoped>\n",
       "    .dataframe tbody tr th:only-of-type {\n",
       "        vertical-align: middle;\n",
       "    }\n",
       "\n",
       "    .dataframe tbody tr th {\n",
       "        vertical-align: top;\n",
       "    }\n",
       "\n",
       "    .dataframe thead th {\n",
       "        text-align: right;\n",
       "    }\n",
       "</style>\n",
       "<table border=\"1\" class=\"dataframe\">\n",
       "  <thead>\n",
       "    <tr style=\"text-align: right;\">\n",
       "      <th></th>\n",
       "      <th>age</th>\n",
       "      <th>pclass</th>\n",
       "      <th>sex</th>\n",
       "      <th>embarked</th>\n",
       "    </tr>\n",
       "  </thead>\n",
       "  <tbody>\n",
       "    <tr>\n",
       "      <th>331</th>\n",
       "      <td>45.5</td>\n",
       "      <td>1</td>\n",
       "      <td>male</td>\n",
       "      <td>S</td>\n",
       "    </tr>\n",
       "    <tr>\n",
       "      <th>733</th>\n",
       "      <td>23.0</td>\n",
       "      <td>2</td>\n",
       "      <td>male</td>\n",
       "      <td>S</td>\n",
       "    </tr>\n",
       "    <tr>\n",
       "      <th>382</th>\n",
       "      <td>32.0</td>\n",
       "      <td>3</td>\n",
       "      <td>male</td>\n",
       "      <td>S</td>\n",
       "    </tr>\n",
       "    <tr>\n",
       "      <th>704</th>\n",
       "      <td>26.0</td>\n",
       "      <td>3</td>\n",
       "      <td>male</td>\n",
       "      <td>S</td>\n",
       "    </tr>\n",
       "    <tr>\n",
       "      <th>813</th>\n",
       "      <td>6.0</td>\n",
       "      <td>3</td>\n",
       "      <td>female</td>\n",
       "      <td>S</td>\n",
       "    </tr>\n",
       "  </tbody>\n",
       "</table>\n",
       "</div>"
      ],
      "text/plain": [
       "      age  pclass     sex embarked\n",
       "331  45.5       1    male        S\n",
       "733  23.0       2    male        S\n",
       "382  32.0       3    male        S\n",
       "704  26.0       3    male        S\n",
       "813   6.0       3  female        S"
      ]
     },
     "execution_count": 5,
     "metadata": {},
     "output_type": "execute_result"
    }
   ],
   "source": [
    "# Creo una copia reducida del dataset original\n",
    "titanic_2 = df[['age', 'pclass', 'sex', 'embarked']].copy() #hacemos una copia reducida del dataset original\n",
    "titanic_2.head()"
   ]
  },
  {
   "cell_type": "code",
   "execution_count": 6,
   "metadata": {},
   "outputs": [
    {
     "name": "stdout",
     "output_type": "stream",
     "text": [
      "<class 'pandas.core.frame.DataFrame'>\n",
      "Index: 712 entries, 331 to 102\n",
      "Data columns (total 4 columns):\n",
      " #   Column    Non-Null Count  Dtype  \n",
      "---  ------    --------------  -----  \n",
      " 0   age       572 non-null    float64\n",
      " 1   pclass    712 non-null    int64  \n",
      " 2   sex       712 non-null    object \n",
      " 3   embarked  710 non-null    object \n",
      "dtypes: float64(1), int64(1), object(2)\n",
      "memory usage: 27.8+ KB\n"
     ]
    }
   ],
   "source": [
    "titanic_2.info()"
   ]
  },
  {
   "cell_type": "markdown",
   "metadata": {},
   "source": [
    "#### a) Imputación con KNN"
   ]
  },
  {
   "cell_type": "code",
   "execution_count": 7,
   "metadata": {},
   "outputs": [],
   "source": [
    "from sklearn.impute import KNNImputer\n",
    "from sklearn.preprocessing import LabelEncoder\n",
    "from sklearn.preprocessing import MinMaxScaler, StandardScaler"
   ]
  },
  {
   "cell_type": "code",
   "execution_count": 8,
   "metadata": {
    "tags": []
   },
   "outputs": [
    {
     "data": {
      "text/html": [
       "<div>\n",
       "<style scoped>\n",
       "    .dataframe tbody tr th:only-of-type {\n",
       "        vertical-align: middle;\n",
       "    }\n",
       "\n",
       "    .dataframe tbody tr th {\n",
       "        vertical-align: top;\n",
       "    }\n",
       "\n",
       "    .dataframe thead th {\n",
       "        text-align: right;\n",
       "    }\n",
       "</style>\n",
       "<table border=\"1\" class=\"dataframe\">\n",
       "  <thead>\n",
       "    <tr style=\"text-align: right;\">\n",
       "      <th></th>\n",
       "      <th>age</th>\n",
       "      <th>pclass</th>\n",
       "      <th>sex</th>\n",
       "      <th>embarked</th>\n",
       "    </tr>\n",
       "  </thead>\n",
       "  <tbody>\n",
       "    <tr>\n",
       "      <th>331</th>\n",
       "      <td>45.5</td>\n",
       "      <td>1</td>\n",
       "      <td>1</td>\n",
       "      <td>2</td>\n",
       "    </tr>\n",
       "    <tr>\n",
       "      <th>733</th>\n",
       "      <td>23.0</td>\n",
       "      <td>2</td>\n",
       "      <td>1</td>\n",
       "      <td>2</td>\n",
       "    </tr>\n",
       "    <tr>\n",
       "      <th>382</th>\n",
       "      <td>32.0</td>\n",
       "      <td>3</td>\n",
       "      <td>1</td>\n",
       "      <td>2</td>\n",
       "    </tr>\n",
       "    <tr>\n",
       "      <th>704</th>\n",
       "      <td>26.0</td>\n",
       "      <td>3</td>\n",
       "      <td>1</td>\n",
       "      <td>2</td>\n",
       "    </tr>\n",
       "    <tr>\n",
       "      <th>813</th>\n",
       "      <td>6.0</td>\n",
       "      <td>3</td>\n",
       "      <td>0</td>\n",
       "      <td>2</td>\n",
       "    </tr>\n",
       "  </tbody>\n",
       "</table>\n",
       "</div>"
      ],
      "text/plain": [
       "      age  pclass  sex  embarked\n",
       "331  45.5       1    1         2\n",
       "733  23.0       2    1         2\n",
       "382  32.0       3    1         2\n",
       "704  26.0       3    1         2\n",
       "813   6.0       3    0         2"
      ]
     },
     "execution_count": 8,
     "metadata": {},
     "output_type": "execute_result"
    }
   ],
   "source": [
    "# Prerrequisitos para cualquier modelo - Necesitamos hacer encoding de las variables categóricas\n",
    "\n",
    "le_sex = LabelEncoder() \n",
    "le_embarked = LabelEncoder()\n",
    "\n",
    "# Codificamos las categóricas \n",
    "titanic_2['sex'] = le_sex.fit_transform(titanic_2['sex'])\n",
    "titanic_2['embarked'] = le_embarked.fit_transform(titanic_2['embarked'].fillna(titanic_2['embarked'].mode()[0]))  # Antes de codificar, imputo con la moda, porque esta variable también tiene nulos (solo 2)\n",
    "\n",
    "titanic_2.head()"
   ]
  },
  {
   "cell_type": "code",
   "execution_count": 9,
   "metadata": {},
   "outputs": [],
   "source": [
    "# Prerequisito para KNNImputer: escalamiento\n",
    "\n",
    "scaler = MinMaxScaler()\n",
    "titanic_2_escalado = scaler.fit_transform(titanic_2)"
   ]
  },
  {
   "cell_type": "code",
   "execution_count": 10,
   "metadata": {},
   "outputs": [
    {
     "name": "stdout",
     "output_type": "stream",
     "text": [
      "Dataset imputado con KNN (postprocesado):\n",
      "       age  pclass     sex embarked\n",
      "331  45.5       1    male        S\n",
      "733  23.0       2    male        S\n",
      "382  32.0       3    male        S\n",
      "704  26.0       3    male        S\n",
      "813   6.0       3  female        S\n"
     ]
    }
   ],
   "source": [
    "# Definimos el modelo\n",
    "knn_imputer = KNNImputer(n_neighbors=5)\n",
    "\n",
    "# Aplicamos la imputación\n",
    "titanic_escalado_imputado_knn = pd.DataFrame(\n",
    "    knn_imputer.fit_transform(titanic_2_escalado),\n",
    "    columns=titanic_2.columns,\n",
    "    index=titanic_2.index\n",
    ")\n",
    "\n",
    "# \"Desescalamos\" los datos imputados\n",
    "titanic_imputado_knn = pd.DataFrame(\n",
    "    scaler.inverse_transform(titanic_escalado_imputado_knn),\n",
    "    columns=titanic_2.columns,\n",
    "    index=titanic_2.index\n",
    ")\n",
    "\n",
    "# Postprocesamiento del dataset imputado (decodificación)\n",
    "titanic_imputado_knn['pclass'] = titanic_imputado_knn['pclass'].astype(int)\n",
    "titanic_imputado_knn['sex'] = le_sex.inverse_transform(titanic_imputado_knn['sex'].astype(int))\n",
    "titanic_imputado_knn['embarked'] = le_embarked.inverse_transform(titanic_imputado_knn['embarked'].astype(int))\n",
    "titanic_imputado_knn['age'] = titanic_imputado_knn['age'].clip(lower=0)\n",
    "\n",
    "print(f\"Dataset imputado con KNN (postprocesado):\\n {titanic_imputado_knn.head()}\")"
   ]
  },
  {
   "cell_type": "code",
   "execution_count": 11,
   "metadata": {
    "tags": []
   },
   "outputs": [
    {
     "data": {
      "text/html": [
       "<div>\n",
       "<style scoped>\n",
       "    .dataframe tbody tr th:only-of-type {\n",
       "        vertical-align: middle;\n",
       "    }\n",
       "\n",
       "    .dataframe tbody tr th {\n",
       "        vertical-align: top;\n",
       "    }\n",
       "\n",
       "    .dataframe thead th {\n",
       "        text-align: right;\n",
       "    }\n",
       "</style>\n",
       "<table border=\"1\" class=\"dataframe\">\n",
       "  <thead>\n",
       "    <tr style=\"text-align: right;\">\n",
       "      <th></th>\n",
       "      <th>age_original</th>\n",
       "      <th>age_imputada</th>\n",
       "      <th>pclass</th>\n",
       "      <th>sex</th>\n",
       "      <th>embarked</th>\n",
       "    </tr>\n",
       "  </thead>\n",
       "  <tbody>\n",
       "    <tr>\n",
       "      <th>331</th>\n",
       "      <td>45.5</td>\n",
       "      <td>45.5</td>\n",
       "      <td>1</td>\n",
       "      <td>male</td>\n",
       "      <td>S</td>\n",
       "    </tr>\n",
       "    <tr>\n",
       "      <th>733</th>\n",
       "      <td>23.0</td>\n",
       "      <td>23.0</td>\n",
       "      <td>2</td>\n",
       "      <td>male</td>\n",
       "      <td>S</td>\n",
       "    </tr>\n",
       "    <tr>\n",
       "      <th>382</th>\n",
       "      <td>32.0</td>\n",
       "      <td>32.0</td>\n",
       "      <td>3</td>\n",
       "      <td>male</td>\n",
       "      <td>S</td>\n",
       "    </tr>\n",
       "    <tr>\n",
       "      <th>704</th>\n",
       "      <td>26.0</td>\n",
       "      <td>26.0</td>\n",
       "      <td>3</td>\n",
       "      <td>male</td>\n",
       "      <td>S</td>\n",
       "    </tr>\n",
       "    <tr>\n",
       "      <th>813</th>\n",
       "      <td>6.0</td>\n",
       "      <td>6.0</td>\n",
       "      <td>3</td>\n",
       "      <td>female</td>\n",
       "      <td>S</td>\n",
       "    </tr>\n",
       "    <tr>\n",
       "      <th>118</th>\n",
       "      <td>24.0</td>\n",
       "      <td>24.0</td>\n",
       "      <td>1</td>\n",
       "      <td>male</td>\n",
       "      <td>C</td>\n",
       "    </tr>\n",
       "    <tr>\n",
       "      <th>536</th>\n",
       "      <td>45.0</td>\n",
       "      <td>45.0</td>\n",
       "      <td>1</td>\n",
       "      <td>male</td>\n",
       "      <td>S</td>\n",
       "    </tr>\n",
       "    <tr>\n",
       "      <th>361</th>\n",
       "      <td>29.0</td>\n",
       "      <td>29.0</td>\n",
       "      <td>2</td>\n",
       "      <td>male</td>\n",
       "      <td>C</td>\n",
       "    </tr>\n",
       "    <tr>\n",
       "      <th>29</th>\n",
       "      <td>NaN</td>\n",
       "      <td>29.7</td>\n",
       "      <td>3</td>\n",
       "      <td>male</td>\n",
       "      <td>S</td>\n",
       "    </tr>\n",
       "    <tr>\n",
       "      <th>55</th>\n",
       "      <td>NaN</td>\n",
       "      <td>47.0</td>\n",
       "      <td>1</td>\n",
       "      <td>male</td>\n",
       "      <td>S</td>\n",
       "    </tr>\n",
       "    <tr>\n",
       "      <th>865</th>\n",
       "      <td>42.0</td>\n",
       "      <td>42.0</td>\n",
       "      <td>2</td>\n",
       "      <td>female</td>\n",
       "      <td>S</td>\n",
       "    </tr>\n",
       "    <tr>\n",
       "      <th>595</th>\n",
       "      <td>36.0</td>\n",
       "      <td>36.0</td>\n",
       "      <td>3</td>\n",
       "      <td>male</td>\n",
       "      <td>S</td>\n",
       "    </tr>\n",
       "    <tr>\n",
       "      <th>239</th>\n",
       "      <td>33.0</td>\n",
       "      <td>33.0</td>\n",
       "      <td>2</td>\n",
       "      <td>male</td>\n",
       "      <td>S</td>\n",
       "    </tr>\n",
       "    <tr>\n",
       "      <th>721</th>\n",
       "      <td>17.0</td>\n",
       "      <td>17.0</td>\n",
       "      <td>3</td>\n",
       "      <td>male</td>\n",
       "      <td>S</td>\n",
       "    </tr>\n",
       "    <tr>\n",
       "      <th>81</th>\n",
       "      <td>29.0</td>\n",
       "      <td>29.0</td>\n",
       "      <td>3</td>\n",
       "      <td>male</td>\n",
       "      <td>S</td>\n",
       "    </tr>\n",
       "    <tr>\n",
       "      <th>259</th>\n",
       "      <td>50.0</td>\n",
       "      <td>50.0</td>\n",
       "      <td>2</td>\n",
       "      <td>female</td>\n",
       "      <td>S</td>\n",
       "    </tr>\n",
       "    <tr>\n",
       "      <th>486</th>\n",
       "      <td>35.0</td>\n",
       "      <td>35.0</td>\n",
       "      <td>1</td>\n",
       "      <td>female</td>\n",
       "      <td>S</td>\n",
       "    </tr>\n",
       "    <tr>\n",
       "      <th>716</th>\n",
       "      <td>38.0</td>\n",
       "      <td>38.0</td>\n",
       "      <td>1</td>\n",
       "      <td>female</td>\n",
       "      <td>C</td>\n",
       "    </tr>\n",
       "    <tr>\n",
       "      <th>800</th>\n",
       "      <td>34.0</td>\n",
       "      <td>34.0</td>\n",
       "      <td>2</td>\n",
       "      <td>male</td>\n",
       "      <td>S</td>\n",
       "    </tr>\n",
       "    <tr>\n",
       "      <th>781</th>\n",
       "      <td>17.0</td>\n",
       "      <td>17.0</td>\n",
       "      <td>1</td>\n",
       "      <td>female</td>\n",
       "      <td>S</td>\n",
       "    </tr>\n",
       "  </tbody>\n",
       "</table>\n",
       "</div>"
      ],
      "text/plain": [
       "     age_original  age_imputada  pclass     sex embarked\n",
       "331          45.5          45.5       1    male        S\n",
       "733          23.0          23.0       2    male        S\n",
       "382          32.0          32.0       3    male        S\n",
       "704          26.0          26.0       3    male        S\n",
       "813           6.0           6.0       3  female        S\n",
       "118          24.0          24.0       1    male        C\n",
       "536          45.0          45.0       1    male        S\n",
       "361          29.0          29.0       2    male        C\n",
       "29            NaN          29.7       3    male        S\n",
       "55            NaN          47.0       1    male        S\n",
       "865          42.0          42.0       2  female        S\n",
       "595          36.0          36.0       3    male        S\n",
       "239          33.0          33.0       2    male        S\n",
       "721          17.0          17.0       3    male        S\n",
       "81           29.0          29.0       3    male        S\n",
       "259          50.0          50.0       2  female        S\n",
       "486          35.0          35.0       1  female        S\n",
       "716          38.0          38.0       1  female        C\n",
       "800          34.0          34.0       2    male        S\n",
       "781          17.0          17.0       1  female        S"
      ]
     },
     "execution_count": 11,
     "metadata": {},
     "output_type": "execute_result"
    }
   ],
   "source": [
    "# miro las observaciones que fueron imputadas\n",
    "df_compara = pd.concat([titanic_2['age'], titanic_imputado_knn], axis=1)\n",
    "df_compara.columns = ['age_original', 'age_imputada', 'pclass', 'sex', 'embarked']\n",
    "df_compara.head(20)"
   ]
  },
  {
   "cell_type": "code",
   "execution_count": 12,
   "metadata": {},
   "outputs": [
    {
     "data": {
      "image/png": "[encoded data removed]",
      "text/plain": [
       "<Figure size 800x500 with 1 Axes>"
      ]
     },
     "metadata": {},
     "output_type": "display_data"
    }
   ],
   "source": [
    "# Visualizar datos originales vs imputados (por ejemplo con el primer dataset imputado)\n",
    "plt.figure(figsize=(8, 5))\n",
    "\n",
    "# Age distribution\n",
    "sns.histplot(titanic_2['age'], label='Original', kde=True, color='blue', alpha=0.5)\n",
    "sns.histplot(titanic_imputado_knn['age'], label='Imputada', kde=True, color='orange', alpha=0.5)\n",
    "plt.title('\"Age\": original vs imputada')\n",
    "plt.legend()\n",
    "\n",
    "plt.tight_layout()\n",
    "plt.show()\n"
   ]
  },
  {
   "cell_type": "markdown",
   "metadata": {},
   "source": [
    "#### b) Imputación con MICE"
   ]
  },
  {
   "cell_type": "code",
   "execution_count": 13,
   "metadata": {},
   "outputs": [],
   "source": [
    "from statsmodels.imputation import mice"
   ]
  },
  {
   "cell_type": "code",
   "execution_count": 14,
   "metadata": {},
   "outputs": [],
   "source": [
    "# Prerequisito para MICE con OLS: escalamiento\n",
    "\n",
    "scaler = StandardScaler()\n",
    "titanic_3_escalado = scaler.fit_transform(titanic_2)"
   ]
  },
  {
   "cell_type": "code",
   "execution_count": 15,
   "metadata": {},
   "outputs": [],
   "source": [
    "# Definimos el modelo\n",
    "imp = mice.MICEData(pd.DataFrame(titanic_3_escalado, columns=titanic_2.columns))\n",
    "\n",
    "# Armamos los modelos para imputar\n",
    "imp.set_imputer('age', formula='C(pclass) + sex + embarked', model_class=sm.OLS) # OLS es el modelo por defecto, hay muchos más"
   ]
  },
  {
   "cell_type": "code",
   "execution_count": 16,
   "metadata": {},
   "outputs": [
    {
     "name": "stdout",
     "output_type": "stream",
     "text": [
      "Dataset resultante (codificado):\n",
      "         age    pclass       sex  embarked\n",
      "0  1.104489 -1.614136  0.724310  0.563525\n",
      "1 -0.448587 -0.400551  0.724310  0.563525\n",
      "2  0.172644  0.813034  0.724310  0.563525\n",
      "3 -0.241510  0.813034  0.724310  0.563525\n",
      "4 -1.622022  0.813034 -1.380624  0.563525\n",
      "\n",
      "\n"
     ]
    }
   ],
   "source": [
    "# Aplicar la imputación - generar 10 datasets imputados\n",
    "imp.update_all(n_iter=10)\n",
    "\n",
    "# Extraer el dataset imputado resultante (de la última iteración de MICE)\n",
    "titanic_imp_mice_raw = imp.data.copy()\n",
    "print(f\"Dataset resultante (codificado):\\n {titanic_imp_mice_raw.head()}\\n\\n\")\n",
    "\n",
    "# Este dataset es el que voy a \"decodificar\" (volver a las variables originales)\n",
    "titanic_imputado_mice = imp.data.copy()"
   ]
  },
  {
   "cell_type": "code",
   "execution_count": 17,
   "metadata": {},
   "outputs": [
    {
     "data": {
      "text/html": [
       "<div>\n",
       "<style scoped>\n",
       "    .dataframe tbody tr th:only-of-type {\n",
       "        vertical-align: middle;\n",
       "    }\n",
       "\n",
       "    .dataframe tbody tr th {\n",
       "        vertical-align: top;\n",
       "    }\n",
       "\n",
       "    .dataframe thead th {\n",
       "        text-align: right;\n",
       "    }\n",
       "</style>\n",
       "<table border=\"1\" class=\"dataframe\">\n",
       "  <thead>\n",
       "    <tr style=\"text-align: right;\">\n",
       "      <th></th>\n",
       "      <th>age</th>\n",
       "      <th>pclass</th>\n",
       "      <th>sex</th>\n",
       "      <th>embarked</th>\n",
       "    </tr>\n",
       "  </thead>\n",
       "  <tbody>\n",
       "    <tr>\n",
       "      <th>0</th>\n",
       "      <td>45.5</td>\n",
       "      <td>1.0</td>\n",
       "      <td>1.0</td>\n",
       "      <td>2.0</td>\n",
       "    </tr>\n",
       "    <tr>\n",
       "      <th>1</th>\n",
       "      <td>23.0</td>\n",
       "      <td>2.0</td>\n",
       "      <td>1.0</td>\n",
       "      <td>2.0</td>\n",
       "    </tr>\n",
       "    <tr>\n",
       "      <th>2</th>\n",
       "      <td>32.0</td>\n",
       "      <td>3.0</td>\n",
       "      <td>1.0</td>\n",
       "      <td>2.0</td>\n",
       "    </tr>\n",
       "    <tr>\n",
       "      <th>3</th>\n",
       "      <td>26.0</td>\n",
       "      <td>3.0</td>\n",
       "      <td>1.0</td>\n",
       "      <td>2.0</td>\n",
       "    </tr>\n",
       "    <tr>\n",
       "      <th>4</th>\n",
       "      <td>6.0</td>\n",
       "      <td>3.0</td>\n",
       "      <td>0.0</td>\n",
       "      <td>2.0</td>\n",
       "    </tr>\n",
       "  </tbody>\n",
       "</table>\n",
       "</div>"
      ],
      "text/plain": [
       "    age  pclass  sex  embarked\n",
       "0  45.5     1.0  1.0       2.0\n",
       "1  23.0     2.0  1.0       2.0\n",
       "2  32.0     3.0  1.0       2.0\n",
       "3  26.0     3.0  1.0       2.0\n",
       "4   6.0     3.0  0.0       2.0"
      ]
     },
     "execution_count": 17,
     "metadata": {},
     "output_type": "execute_result"
    }
   ],
   "source": [
    "# Desescalar el dataset imputado para visualizarlo\n",
    "titanic_imputado_mice= scaler.inverse_transform(titanic_imputado_mice)\n",
    "titanic_imputado_mice = pd.DataFrame(titanic_imputado_mice, columns=titanic_imp_mice_raw.columns)\n",
    "\n",
    "titanic_imputado_mice.head()"
   ]
  },
  {
   "cell_type": "code",
   "execution_count": 18,
   "metadata": {},
   "outputs": [
    {
     "data": {
      "text/plain": [
       "age         0\n",
       "pclass      0\n",
       "sex         0\n",
       "embarked    0\n",
       "dtype: int64"
      ]
     },
     "execution_count": 18,
     "metadata": {},
     "output_type": "execute_result"
    }
   ],
   "source": [
    "titanic_imputado_mice.isna().sum()"
   ]
  },
  {
   "cell_type": "code",
   "execution_count": 19,
   "metadata": {},
   "outputs": [
    {
     "name": "stdout",
     "output_type": "stream",
     "text": [
      "Dataset imputado y postprocesado:\n",
      "     age  pclass     sex embarked\n",
      "0  45.5       1    male        S\n",
      "1  23.0       2    male        S\n",
      "2  32.0       3    male        S\n",
      "3  26.0       3    male        S\n",
      "4   6.0       3  female        S\n",
      "5  24.0       1    male        C\n",
      "6  45.0       1    male        S\n",
      "7  29.0       2    male        C\n",
      "8  18.0       3    male        S\n",
      "9  65.0       1    male        S\n"
     ]
    }
   ],
   "source": [
    "# Postprocesar el dataset imputado para visualizarlo\n",
    "titanic_imputado_mice['pclass'] = titanic_imputado_mice['pclass'].astype(int)\n",
    "titanic_imputado_mice['sex'] = le_sex.inverse_transform(titanic_imputado_mice['sex'].astype(int))\n",
    "titanic_imputado_mice['embarked'] = le_embarked.inverse_transform(titanic_imputado_mice['embarked'].astype(int))\n",
    "titanic_imputado_mice['age'] = titanic_imputado_mice['age'].clip(lower=0)\n",
    "\n",
    "print(f\"Dataset imputado y postprocesado:\\n {titanic_imputado_mice.head(10)}\")\n"
   ]
  },
  {
   "cell_type": "markdown",
   "metadata": {},
   "source": [
    "Nota: el valor típico de n_iter que se suele utilizar es entre 5 y 20 iteraciones. Se pueden aumentar si el dataset tiene dependencias muy complejas y el porcentaje de faltantes es alto (por ej >30%)."
   ]
  },
  {
   "cell_type": "markdown",
   "metadata": {},
   "source": [
    "Visualizamos el dataset original y el imputado:"
   ]
  },
  {
   "cell_type": "code",
   "execution_count": 20,
   "metadata": {},
   "outputs": [
    {
     "data": {
      "image/png": "[encoded data removed]",
      "text/plain": [
       "<Figure size 800x500 with 1 Axes>"
      ]
     },
     "metadata": {},
     "output_type": "display_data"
    }
   ],
   "source": [
    "# Visualizar datos originales vs imputados (por ejemplo con el primer dataset imputado)\n",
    "plt.figure(figsize=(8, 5))\n",
    "\n",
    "# Age distribution\n",
    "sns.histplot(titanic_2['age'], label='Original', kde=True, color='blue', alpha=0.5)\n",
    "sns.histplot(titanic_imputado_mice['age'], label='Imputada', kde=True, color='orange', alpha=0.5)\n",
    "plt.title('\"Age\": original vs imputada')\n",
    "plt.legend()\n",
    "\n",
    "\n",
    "plt.tight_layout()\n",
    "plt.show()\n",
    "\n"
   ]
  },
  {
   "cell_type": "markdown",
   "metadata": {},
   "source": [
    "Observación: como Statsmodels permite crear múltiples versiones del dataset imputado, por ejemplo:\n",
    "\n",
    "```python\n",
    "# Podemos generar distintas versiones del dataset imputado, para hacer un análisis de sensibilidad\n",
    "titanic_imputados = [titanic_mar_imputado] + [imp.next_sample() for _ in range(4)]\n",
    "```\n",
    "Esos datasets se pueden usar luego para hacer un análisis de sensibilidad."
   ]
  }
 ],
 "metadata": {
  "kernelspec": {
   "display_name": "Python (add-env)",
   "language": "python",
   "name": "add-env"
  },
  "language_info": {
   "codemirror_mode": {
    "name": "ipython",
    "version": 3
   },
   "file_extension": ".py",
   "mimetype": "text/x-python",
   "name": "python",
   "nbconvert_exporter": "python",
   "pygments_lexer": "ipython3",
   "version": "3.11.11"
  }
 },
 "nbformat": 4,
 "nbformat_minor": 4
}
