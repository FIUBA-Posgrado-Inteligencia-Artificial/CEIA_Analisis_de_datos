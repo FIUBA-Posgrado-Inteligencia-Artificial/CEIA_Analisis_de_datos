{
 "cells": [
  {
   "cell_type": "markdown",
   "metadata": {
    "id": "5-sV28Q0_y64"
   },
   "source": [
    "## Análisis de datos - Clase 4"
   ]
  },
  {
   "cell_type": "markdown",
   "metadata": {
    "id": "lNhICFLu_y65"
   },
   "source": [
    "### Desbalance"
   ]
  },
  {
   "cell_type": "code",
   "execution_count": 1,
   "metadata": {
    "id": "QV-RpGTz_y67",
    "tags": []
   },
   "outputs": [],
   "source": [
    "import pandas as pd\n",
    "import numpy as np\n",
    "import matplotlib.pyplot as plt\n",
    "import seaborn as sns\n",
    "\n",
    "from sklearn.model_selection import train_test_split\n",
    "from sklearn.ensemble import RandomForestClassifier\n",
    "from sklearn.metrics import classification_report, confusion_matrix\n",
    "from imblearn.over_sampling import SMOTE\n",
    "from imblearn.under_sampling import RandomUnderSampler\n"
   ]
  },
  {
   "cell_type": "code",
   "execution_count": 2,
   "metadata": {
    "tags": []
   },
   "outputs": [
    {
     "data": {
      "text/html": [
       "<div>\n",
       "<style scoped>\n",
       "    .dataframe tbody tr th:only-of-type {\n",
       "        vertical-align: middle;\n",
       "    }\n",
       "\n",
       "    .dataframe tbody tr th {\n",
       "        vertical-align: top;\n",
       "    }\n",
       "\n",
       "    .dataframe thead th {\n",
       "        text-align: right;\n",
       "    }\n",
       "</style>\n",
       "<table border=\"1\" class=\"dataframe\">\n",
       "  <thead>\n",
       "    <tr style=\"text-align: right;\">\n",
       "      <th></th>\n",
       "      <th>sex</th>\n",
       "      <th>class</th>\n",
       "      <th>embark_town</th>\n",
       "      <th>age</th>\n",
       "      <th>fare</th>\n",
       "      <th>survived</th>\n",
       "    </tr>\n",
       "  </thead>\n",
       "  <tbody>\n",
       "    <tr>\n",
       "      <th>0</th>\n",
       "      <td>male</td>\n",
       "      <td>Third</td>\n",
       "      <td>Southampton</td>\n",
       "      <td>22.0</td>\n",
       "      <td>7.2500</td>\n",
       "      <td>0</td>\n",
       "    </tr>\n",
       "    <tr>\n",
       "      <th>1</th>\n",
       "      <td>female</td>\n",
       "      <td>First</td>\n",
       "      <td>Cherbourg</td>\n",
       "      <td>38.0</td>\n",
       "      <td>71.2833</td>\n",
       "      <td>1</td>\n",
       "    </tr>\n",
       "    <tr>\n",
       "      <th>2</th>\n",
       "      <td>female</td>\n",
       "      <td>Third</td>\n",
       "      <td>Southampton</td>\n",
       "      <td>26.0</td>\n",
       "      <td>7.9250</td>\n",
       "      <td>1</td>\n",
       "    </tr>\n",
       "    <tr>\n",
       "      <th>3</th>\n",
       "      <td>female</td>\n",
       "      <td>First</td>\n",
       "      <td>Southampton</td>\n",
       "      <td>35.0</td>\n",
       "      <td>53.1000</td>\n",
       "      <td>1</td>\n",
       "    </tr>\n",
       "    <tr>\n",
       "      <th>4</th>\n",
       "      <td>male</td>\n",
       "      <td>Third</td>\n",
       "      <td>Southampton</td>\n",
       "      <td>35.0</td>\n",
       "      <td>8.0500</td>\n",
       "      <td>0</td>\n",
       "    </tr>\n",
       "  </tbody>\n",
       "</table>\n",
       "</div>"
      ],
      "text/plain": [
       "      sex  class  embark_town   age     fare  survived\n",
       "0    male  Third  Southampton  22.0   7.2500         0\n",
       "1  female  First    Cherbourg  38.0  71.2833         1\n",
       "2  female  Third  Southampton  26.0   7.9250         1\n",
       "3  female  First  Southampton  35.0  53.1000         1\n",
       "4    male  Third  Southampton  35.0   8.0500         0"
      ]
     },
     "execution_count": 2,
     "metadata": {},
     "output_type": "execute_result"
    }
   ],
   "source": [
    "# Cargar dataset Titanic\n",
    "df = sns.load_dataset(\"titanic\")[[\"sex\", \"class\", \"embark_town\",\"age\", \"fare\", \"survived\"]].dropna()\n",
    "df.head()"
   ]
  },
  {
   "cell_type": "code",
   "execution_count": 3,
   "metadata": {
    "id": "yFGT4LF0W50k"
   },
   "outputs": [
    {
     "data": {
      "text/html": [
       "<div>\n",
       "<style scoped>\n",
       "    .dataframe tbody tr th:only-of-type {\n",
       "        vertical-align: middle;\n",
       "    }\n",
       "\n",
       "    .dataframe tbody tr th {\n",
       "        vertical-align: top;\n",
       "    }\n",
       "\n",
       "    .dataframe thead th {\n",
       "        text-align: right;\n",
       "    }\n",
       "</style>\n",
       "<table border=\"1\" class=\"dataframe\">\n",
       "  <thead>\n",
       "    <tr style=\"text-align: right;\">\n",
       "      <th></th>\n",
       "      <th>sex</th>\n",
       "      <th>class</th>\n",
       "      <th>age</th>\n",
       "      <th>fare</th>\n",
       "      <th>survived</th>\n",
       "      <th>embark_town_Queenstown</th>\n",
       "      <th>embark_town_Southampton</th>\n",
       "    </tr>\n",
       "  </thead>\n",
       "  <tbody>\n",
       "    <tr>\n",
       "      <th>0</th>\n",
       "      <td>0</td>\n",
       "      <td>3</td>\n",
       "      <td>22.0</td>\n",
       "      <td>7.2500</td>\n",
       "      <td>0</td>\n",
       "      <td>False</td>\n",
       "      <td>True</td>\n",
       "    </tr>\n",
       "    <tr>\n",
       "      <th>1</th>\n",
       "      <td>1</td>\n",
       "      <td>1</td>\n",
       "      <td>38.0</td>\n",
       "      <td>71.2833</td>\n",
       "      <td>1</td>\n",
       "      <td>False</td>\n",
       "      <td>False</td>\n",
       "    </tr>\n",
       "    <tr>\n",
       "      <th>2</th>\n",
       "      <td>1</td>\n",
       "      <td>3</td>\n",
       "      <td>26.0</td>\n",
       "      <td>7.9250</td>\n",
       "      <td>1</td>\n",
       "      <td>False</td>\n",
       "      <td>True</td>\n",
       "    </tr>\n",
       "    <tr>\n",
       "      <th>3</th>\n",
       "      <td>1</td>\n",
       "      <td>1</td>\n",
       "      <td>35.0</td>\n",
       "      <td>53.1000</td>\n",
       "      <td>1</td>\n",
       "      <td>False</td>\n",
       "      <td>True</td>\n",
       "    </tr>\n",
       "    <tr>\n",
       "      <th>4</th>\n",
       "      <td>0</td>\n",
       "      <td>3</td>\n",
       "      <td>35.0</td>\n",
       "      <td>8.0500</td>\n",
       "      <td>0</td>\n",
       "      <td>False</td>\n",
       "      <td>True</td>\n",
       "    </tr>\n",
       "  </tbody>\n",
       "</table>\n",
       "</div>"
      ],
      "text/plain": [
       "   sex class   age     fare  survived  embark_town_Queenstown  \\\n",
       "0    0     3  22.0   7.2500         0                   False   \n",
       "1    1     1  38.0  71.2833         1                   False   \n",
       "2    1     3  26.0   7.9250         1                   False   \n",
       "3    1     1  35.0  53.1000         1                   False   \n",
       "4    0     3  35.0   8.0500         0                   False   \n",
       "\n",
       "   embark_town_Southampton  \n",
       "0                     True  \n",
       "1                    False  \n",
       "2                     True  \n",
       "3                     True  \n",
       "4                     True  "
      ]
     },
     "execution_count": 3,
     "metadata": {},
     "output_type": "execute_result"
    }
   ],
   "source": [
    "# Codificación\n",
    "df[\"sex\"] = df[\"sex\"].map({\"male\": 0, \"female\": 1})\n",
    "df[\"class\"] = df[\"class\"].map({\"Third\": 3, \"Second\": 2, \"First\": 1})\n",
    "df = pd.get_dummies(df, columns=[\"embark_town\"], drop_first=True)\n",
    "df.head()"
   ]
  },
  {
   "cell_type": "markdown",
   "metadata": {},
   "source": [
    "### Entrenamiento con dataset original y datasest balanceados"
   ]
  },
  {
   "cell_type": "markdown",
   "metadata": {},
   "source": [
    "#### Funciones auxiliares"
   ]
  },
  {
   "cell_type": "code",
   "execution_count": 4,
   "metadata": {
    "id": "4baL-TRPWlgJ"
   },
   "outputs": [],
   "source": [
    "# Función para calcular la entropía de Shannon\n",
    "def shannon_entropy(y):\n",
    "    probs = y.value_counts(normalize=True)\n",
    "    return -np.sum(probs * np.log2(probs))\n"
   ]
  },
  {
   "cell_type": "code",
   "execution_count": 5,
   "metadata": {
    "tags": []
   },
   "outputs": [],
   "source": [
    "# Función para graficar la distribución de la variable target\n",
    "def plot(y):\n",
    "    fig, axes = plt.subplots(figsize=(4, 4))\n",
    "    sns.countplot(x=y, hue=y, palette=\"Set2\", ax=axes)\n",
    "    \n",
    "    axes.set_xlabel(\"Survived\")\n",
    "    axes.set_ylabel(\"Cantidad\")\n",
    "    axes.set_title(f\"Distribución de la variable {target}\")\n",
    "\n",
    "    plt.tight_layout()\n",
    "    plt.show()"
   ]
  },
  {
   "cell_type": "code",
   "execution_count": 6,
   "metadata": {
    "tags": []
   },
   "outputs": [],
   "source": [
    "# Evaluación del desbalance\n",
    "def info(y):\n",
    "    print(\"Proporción de clases:\")\n",
    "    print(y.value_counts(normalize=True))\n",
    "    entropy = shannon_entropy(y)\n",
    "    print(\"\\nEntropía de Shannon:\", entropy)\n",
    "    plot(y)"
   ]
  },
  {
   "cell_type": "markdown",
   "metadata": {},
   "source": [
    "#### Preparación de los datasets"
   ]
  },
  {
   "cell_type": "code",
   "execution_count": 7,
   "metadata": {
    "tags": []
   },
   "outputs": [],
   "source": [
    "# Separo el dataset en X (variables) y (target)\n",
    "target = 'survived'\n",
    "X = df.drop(columns=[target])\n",
    "y = df[target]"
   ]
  },
  {
   "cell_type": "code",
   "execution_count": 8,
   "metadata": {
    "id": "FqQXcvPJXLD8"
   },
   "outputs": [
    {
     "name": "stdout",
     "output_type": "stream",
     "text": [
      "Proporción de clases:\n",
      "survived\n",
      "0    0.595782\n",
      "1    0.404218\n",
      "Name: proportion, dtype: float64\n",
      "\n",
      "Entropía de Shannon: 0.9733645123937051\n"
     ]
    },
    {
     "data": {
      "image/png": "[encoded data removed]",
      "text/plain": [
       "<Figure size 400x400 with 1 Axes>"
      ]
     },
     "metadata": {},
     "output_type": "display_data"
    }
   ],
   "source": [
    "# Separa en entrenamiento y test\n",
    "X_train, X_test, y_train, y_test = train_test_split(X, y, test_size=0.2, random_state=42, stratify=y)\n",
    "info(y_train) # datos originales"
   ]
  },
  {
   "cell_type": "code",
   "execution_count": 9,
   "metadata": {},
   "outputs": [
    {
     "name": "stdout",
     "output_type": "stream",
     "text": [
      "Proporción de clases:\n",
      "survived\n",
      "1    0.5\n",
      "0    0.5\n",
      "Name: proportion, dtype: float64\n",
      "\n",
      "Entropía de Shannon: 1.0\n"
     ]
    },
    {
     "data": {
      "image/png": "[encoded data removed]",
      "text/plain": [
       "<Figure size 400x400 with 1 Axes>"
      ]
     },
     "metadata": {},
     "output_type": "display_data"
    }
   ],
   "source": [
    "# Oversampling con SMOTE\n",
    "smote = SMOTE(random_state=42)\n",
    "X_train_sm, y_train_sm = smote.fit_resample(X_train, y_train)\n",
    "info(y_train_sm)"
   ]
  },
  {
   "cell_type": "code",
   "execution_count": 10,
   "metadata": {
    "tags": []
   },
   "outputs": [
    {
     "name": "stdout",
     "output_type": "stream",
     "text": [
      "Proporción de clases:\n",
      "survived\n",
      "0    0.5\n",
      "1    0.5\n",
      "Name: proportion, dtype: float64\n",
      "\n",
      "Entropía de Shannon: 1.0\n"
     ]
    },
    {
     "data": {
      "image/png": "[encoded data removed]",
      "text/plain": [
       "<Figure size 400x400 with 1 Axes>"
      ]
     },
     "metadata": {},
     "output_type": "display_data"
    }
   ],
   "source": [
    "# Undersampling\n",
    "undersample = RandomUnderSampler(random_state=42)\n",
    "X_train_us, y_train_us = undersample.fit_resample(X_train, y_train)\n",
    "info(y_train_us)"
   ]
  },
  {
   "cell_type": "code",
   "execution_count": 11,
   "metadata": {
    "colab": {
     "base_uri": "https://localhost:8080/",
     "height": 482
    },
    "id": "eCRzpGIEWqXW",
    "outputId": "7e39e728-9c00-4f86-a6d8-14b3092f2b08",
    "tags": []
   },
   "outputs": [
    {
     "data": {
      "image/png": "[encoded data removed]",
      "text/plain": [
       "<Figure size 1500x500 with 3 Axes>"
      ]
     },
     "metadata": {},
     "output_type": "display_data"
    }
   ],
   "source": [
    "# Grafica las distribuciones original y balanceadas (para compararlas)\n",
    "fig, axes = plt.subplots(1, 3, figsize=(15, 5))\n",
    "\n",
    "sns.countplot(x=y_train, hue=y_train, palette=\"Set2\", ax=axes[0])\n",
    "sns.countplot(x=y_train_sm, hue=y_train_sm, palette=\"Set2\", ax=axes[1])\n",
    "sns.countplot(x=y_train_us, hue=y_train_us, palette=\"Set2\", ax=axes[2])\n",
    "\n",
    "axes[0].set_title('Distribución Original')\n",
    "axes[1].set_title('SMOTE')\n",
    "axes[2].set_title('Undersampling')\n",
    "\n",
    "for i in (0,1,2):\n",
    "  axes[i].set_ylim(0,350)\n",
    "\n",
    "plt.show()\n"
   ]
  },
  {
   "cell_type": "markdown",
   "metadata": {},
   "source": [
    "#### Entrenamiento"
   ]
  },
  {
   "cell_type": "code",
   "execution_count": 12,
   "metadata": {
    "colab": {
     "base_uri": "https://localhost:8080/"
    },
    "id": "DDupSfGdXL9J",
    "outputId": "88035f60-9353-43d7-8de7-9a7acb2e2799"
   },
   "outputs": [
    {
     "name": "stdout",
     "output_type": "stream",
     "text": [
      "\n",
      "Métricas (datos originales):\n",
      "              precision    recall  f1-score   support\n",
      "\n",
      "           0       0.79      0.80      0.80        85\n",
      "           1       0.70      0.69      0.70        58\n",
      "\n",
      "    accuracy                           0.76       143\n",
      "   macro avg       0.75      0.74      0.75       143\n",
      "weighted avg       0.75      0.76      0.75       143\n",
      "\n"
     ]
    }
   ],
   "source": [
    "# Predicción con Random Forest - Modelo base (original)\n",
    "clf = RandomForestClassifier(random_state=42)\n",
    "clf.fit(X_train, y_train)\n",
    "y_pred = clf.predict(X_test)\n",
    "print(\"\\nMétricas (datos originales):\")\n",
    "print(classification_report(y_test, y_pred))"
   ]
  },
  {
   "cell_type": "code",
   "execution_count": 13,
   "metadata": {
    "colab": {
     "base_uri": "https://localhost:8080/"
    },
    "id": "lyIoFcqZXL_W",
    "outputId": "44299b8e-6b7d-4d3a-dc22-712c3c0a7f4b"
   },
   "outputs": [
    {
     "name": "stdout",
     "output_type": "stream",
     "text": [
      "\n",
      "Métricas con SMOTE:\n",
      "              precision    recall  f1-score   support\n",
      "\n",
      "           0       0.81      0.80      0.80        85\n",
      "           1       0.71      0.72      0.72        58\n",
      "\n",
      "    accuracy                           0.77       143\n",
      "   macro avg       0.76      0.76      0.76       143\n",
      "weighted avg       0.77      0.77      0.77       143\n",
      "\n"
     ]
    }
   ],
   "source": [
    "clf.fit(X_train_sm, y_train_sm)\n",
    "y_pred_sm = clf.predict(X_test)\n",
    "print(\"\\nMétricas con SMOTE:\")\n",
    "print(classification_report(y_test, y_pred_sm))"
   ]
  },
  {
   "cell_type": "code",
   "execution_count": 14,
   "metadata": {
    "colab": {
     "base_uri": "https://localhost:8080/"
    },
    "id": "k9TpZ2_cYEBz",
    "outputId": "d03e9bee-04a8-4039-896f-97e0aadf3b62"
   },
   "outputs": [
    {
     "name": "stdout",
     "output_type": "stream",
     "text": [
      "\n",
      "Métricas con Undersampling:\n",
      "              precision    recall  f1-score   support\n",
      "\n",
      "           0       0.88      0.71      0.78        85\n",
      "           1       0.67      0.86      0.75        58\n",
      "\n",
      "    accuracy                           0.77       143\n",
      "   macro avg       0.77      0.78      0.77       143\n",
      "weighted avg       0.79      0.77      0.77       143\n",
      "\n"
     ]
    }
   ],
   "source": [
    "clf.fit(X_train_us, y_train_us)\n",
    "y_pred_us = clf.predict(X_test)\n",
    "print(\"\\nMétricas con Undersampling:\")\n",
    "print(classification_report(y_test, y_pred_us))"
   ]
  }
 ],
 "metadata": {
  "colab": {
   "provenance": []
  },
  "kernelspec": {
   "display_name": "Python (add-env)",
   "language": "python",
   "name": "add-env"
  },
  "language_info": {
   "codemirror_mode": {
    "name": "ipython",
    "version": 3
   },
   "file_extension": ".py",
   "mimetype": "text/x-python",
   "name": "python",
   "nbconvert_exporter": "python",
   "pygments_lexer": "ipython3",
   "version": "3.11.12"
  }
 },
 "nbformat": 4,
 "nbformat_minor": 4
}
