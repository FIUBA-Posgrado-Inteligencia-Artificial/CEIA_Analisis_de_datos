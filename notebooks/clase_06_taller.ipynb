{
 "cells": [
  {
   "cell_type": "markdown",
   "metadata": {},
   "source": [
    "## Análisis de datos - Clase 3"
   ]
  },
  {
   "cell_type": "markdown",
   "metadata": {},
   "source": [
    "### Taller práctico - análisis completo de un dataset"
   ]
  },
  {
   "cell_type": "markdown",
   "metadata": {},
   "source": [
    "En esta clase vamos a analizar en forma completa un dataset con datos de Fórmula 1 de la temporada 2024 (los datos fueron extraídos con la biblioteca Fastf1). El dataset contiene información sobre las carreras, los pilotos, los tiempos y los resultados de cada evento.\n"
   ]
  },
  {
   "cell_type": "code",
   "execution_count": null,
   "metadata": {},
   "outputs": [],
   "source": [
    "import matplotlib.pyplot as plt\n",
    "import pandas as pd\n",
    "import numpy as np\n",
    "import seaborn as sns"
   ]
  },
  {
   "cell_type": "markdown",
   "metadata": {},
   "source": [
    "1. Importamos los datasets"
   ]
  },
  {
   "cell_type": "code",
   "execution_count": 20,
   "metadata": {},
   "outputs": [],
   "source": [
    "# Dataset de carreras del 2024\n",
    "carreras_24 = pd.read_csv('../datasets/f1_2024_R.csv')\n",
    "\n",
    "# Dataset de qualifications del 2024\n",
    "qualis_24 = pd.read_csv('../datasets/f1_2024_Q.csv')\n",
    "\n",
    "# Dataset de sprints del 2024\n",
    "sprints_24 = pd.read_csv('../datasets/f1_2024_S.csv')"
   ]
  },
  {
   "cell_type": "code",
   "execution_count": 21,
   "metadata": {},
   "outputs": [
    {
     "data": {
      "text/plain": [
       "((26606, 34), (7590, 34), (2418, 34))"
      ]
     },
     "execution_count": 21,
     "metadata": {},
     "output_type": "execute_result"
    }
   ],
   "source": [
    "carreras_24.shape, qualis_24.shape, sprints_24.shape"
   ]
  },
  {
   "cell_type": "code",
   "execution_count": 25,
   "metadata": {},
   "outputs": [
    {
     "name": "stdout",
     "output_type": "stream",
     "text": [
      "<class 'pandas.core.frame.DataFrame'>\n",
      "RangeIndex: 26606 entries, 0 to 26605\n",
      "Data columns (total 34 columns):\n",
      " #   Column              Non-Null Count  Dtype  \n",
      "---  ------              --------------  -----  \n",
      " 0   Time                26606 non-null  object \n",
      " 1   Driver              26606 non-null  object \n",
      " 2   DriverNumber        26606 non-null  int64  \n",
      " 3   LapTime             26381 non-null  float64\n",
      " 4   LapNumber           26606 non-null  float64\n",
      " 5   Stint               26606 non-null  float64\n",
      " 6   PitOutTime          840 non-null    object \n",
      " 7   PitInTime           849 non-null    object \n",
      " 8   Sector1Time         26066 non-null  float64\n",
      " 9   Sector2Time         26574 non-null  float64\n",
      " 10  Sector3Time         26553 non-null  float64\n",
      " 11  Sector1SessionTime  26008 non-null  object \n",
      " 12  Sector2SessionTime  26574 non-null  object \n",
      " 13  Sector3SessionTime  26553 non-null  object \n",
      " 14  SpeedI1             22460 non-null  float64\n",
      " 15  SpeedI2             26552 non-null  float64\n",
      " 16  SpeedFL             25728 non-null  float64\n",
      " 17  SpeedST             24422 non-null  float64\n",
      " 18  IsPersonalBest      26591 non-null  object \n",
      " 19  Compound            26606 non-null  object \n",
      " 20  TyreLife            26606 non-null  float64\n",
      " 21  FreshTyre           26606 non-null  bool   \n",
      " 22  Team                26606 non-null  object \n",
      " 23  LapStartTime        26606 non-null  object \n",
      " 24  LapStartDate        26591 non-null  object \n",
      " 25  TrackStatus         26606 non-null  int64  \n",
      " 26  Position            26578 non-null  float64\n",
      " 27  Deleted             26606 non-null  bool   \n",
      " 28  DeletedReason       326 non-null    object \n",
      " 29  FastF1Generated     26606 non-null  bool   \n",
      " 30  IsAccurate          26606 non-null  bool   \n",
      " 31  EventName           26606 non-null  object \n",
      " 32  SessionType         26606 non-null  object \n",
      " 33  EventDate           26606 non-null  object \n",
      "dtypes: bool(4), float64(12), int64(2), object(16)\n",
      "memory usage: 6.2+ MB\n"
     ]
    }
   ],
   "source": [
    "carreras_24.info()"
   ]
  }
 ],
 "metadata": {
  "kernelspec": {
   "display_name": "add-env",
   "language": "python",
   "name": "python3"
  },
  "language_info": {
   "codemirror_mode": {
    "name": "ipython",
    "version": 3
   },
   "file_extension": ".py",
   "mimetype": "text/x-python",
   "name": "python",
   "nbconvert_exporter": "python",
   "pygments_lexer": "ipython3",
   "version": "3.11.11"
  }
 },
 "nbformat": 4,
 "nbformat_minor": 2
}
