{
 "cells": [
  {
   "cell_type": "markdown",
   "id": "9ca222b1",
   "metadata": {},
   "source": [
    "## Análisis de datos - Clase 4"
   ]
  },
  {
   "cell_type": "markdown",
   "id": "a7605b3a",
   "metadata": {},
   "source": [
    "### Creación de nuevos features"
   ]
  },
  {
   "cell_type": "code",
   "execution_count": null,
   "id": "4fed2b74",
   "metadata": {},
   "outputs": [],
   "source": [
    "import pandas as pd\n",
    "import numpy as np\n",
    "import seaborn as sns\n",
    "import matplotlib.pyplot as plt"
   ]
  }
 ],
 "metadata": {
  "kernelspec": {
   "display_name": "add-env",
   "language": "python",
   "name": "python3"
  },
  "language_info": {
   "name": "python",
   "version": "3.11.12"
  }
 },
 "nbformat": 4,
 "nbformat_minor": 5
}
