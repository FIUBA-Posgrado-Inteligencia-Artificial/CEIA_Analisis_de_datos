{
 "cells": [
  {
   "cell_type": "markdown",
   "id": "9ca222b1",
   "metadata": {},
   "source": [
    "## Análisis de datos - Clase 4"
   ]
  },
  {
   "cell_type": "markdown",
   "id": "a7605b3a",
   "metadata": {},
   "source": [
    "### Creación de nuevos features"
   ]
  }
 ],
 "metadata": {
  "language_info": {
   "name": "python"
  }
 },
 "nbformat": 4,
 "nbformat_minor": 5
}
